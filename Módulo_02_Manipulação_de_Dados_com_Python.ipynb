{
  "nbformat": 4,
  "nbformat_minor": 0,
  "metadata": {
    "colab": {
      "provenance": [],
      "collapsed_sections": [
        "uR55-de2Sx_7",
        "LUouNCwqWAD6"
      ],
      "include_colab_link": true
    },
    "kernelspec": {
      "name": "python3",
      "display_name": "Python 3"
    },
    "language_info": {
      "name": "python"
    }
  },
  "cells": [
    {
      "cell_type": "markdown",
      "metadata": {
        "id": "view-in-github",
        "colab_type": "text"
      },
      "source": [
        "<a href=\"https://colab.research.google.com/github/rafaelsunhogpacheco/manipulacaoDeDadosComPython/blob/main/M%C3%B3dulo_02_Manipula%C3%A7%C3%A3o_de_Dados_com_Python.ipynb\" target=\"_parent\"><img src=\"https://colab.research.google.com/assets/colab-badge.svg\" alt=\"Open In Colab\"/></a>"
      ]
    },
    {
      "cell_type": "markdown",
      "source": [
        "# **Módulo 02 - Manipulação de Dados com Python**"
      ],
      "metadata": {
        "id": "M-VdkjxzgPJz"
      }
    },
    {
      "cell_type": "markdown",
      "source": [
        "O objetivo deste módulo é dar início ao processo de transformação e processamento de dados utilizando a biblioteca Pandas. Assim, vamos deixar nossos dados no formato que precisamos antes de realizar as análises de mercado financeiro e construção de estratégias. Além disso, mostraremos como filtrar, modificar e juntar diferentes tipos de dados.\n",
        "\n",
        "Por fim, entraremos em conceitos de finanças quantitativas e mostraremos como obter e manipular dados de mercado financeiro usando diferentes bibliotecas.\n",
        "\n",
        "Este Módulo abrange as seguintes seções:"
      ],
      "metadata": {
        "id": "BRmJt3SyPrK7"
      }
    },
    {
      "cell_type": "markdown",
      "source": [
        "**1. Noções básicas da obtenção e processamento de dados**\n",
        "\n",
        "**2. Manipulação de dados**\n",
        "\n",
        "**3. Consolidação de dataframes**\n",
        "\n",
        "**4. Finanças quantitativas**"
      ],
      "metadata": {
        "id": "ixwBNNTURpBD"
      }
    },
    {
      "cell_type": "markdown",
      "source": [
        "# **1. Noções básicas da obtenção e processamento de dados**"
      ],
      "metadata": {
        "id": "0cMf_P5wRsHE"
      }
    },
    {
      "cell_type": "markdown",
      "source": [
        "Para isso, vamos realizar a importação da biblioteca pandas, de uma forma semelhante ao que fizemos no módulo anterior.\n",
        "\n",
        "Inicialmente, vamos trabalhar com arquivos de dados, ou seja, dados não obtidos da web.\n",
        "\n",
        "Conheça a biblioteca Pandas:\n",
        "https://pandas.pydata.org/\n",
        "\n",
        "Sobre o Wes McKinney:\n",
        "https://wesmckinney.com/\n"
      ],
      "metadata": {
        "id": "4txOrp08Rxl8"
      }
    },
    {
      "cell_type": "code",
      "source": [
        "import pandas as pd"
      ],
      "metadata": {
        "id": "GXNPZ6iaSINU"
      },
      "execution_count": 2,
      "outputs": []
    },
    {
      "cell_type": "markdown",
      "source": [
        "Neste módulo vamos focar nossas atenções no poder da biblioteca pandas.\n",
        "\n",
        "Esta é a biblioteca de referência que devemos usar quando há necessidade abrir arquivos como .txt, .csv, .xlsx.\n"
      ],
      "metadata": {
        "id": "zFTk28l0SU-b"
      }
    },
    {
      "cell_type": "markdown",
      "source": [
        "## 1.1. Obtenção de dados via arquivos"
      ],
      "metadata": {
        "id": "Hd5Lqgx3SXea"
      }
    },
    {
      "cell_type": "markdown",
      "source": [
        "Durante sua jornada no mundo dos dados você precisará trabalhar com diferentes tipos de arquivos e essa seção é dedicada para importação desses arquivos para o ambiente de análise em Python."
      ],
      "metadata": {
        "id": "dx1PgKv2SwmD"
      }
    },
    {
      "cell_type": "markdown",
      "source": [
        "### 1.1.1. Arquivos .csv"
      ],
      "metadata": {
        "id": "uR55-de2Sx_7"
      }
    },
    {
      "cell_type": "markdown",
      "source": [
        "Durante sua jornada no mundo dos dados você precisará trabalhar com diferentes tipos de arquivos e essa seção é dedicada para importação desses arquivos para o ambiente de análise em Python."
      ],
      "metadata": {
        "id": "zlncEu5AUs8s"
      }
    },
    {
      "cell_type": "code",
      "source": [
        "pd.read_csv('PETR4.csv')"
      ],
      "metadata": {
        "colab": {
          "base_uri": "https://localhost:8080/",
          "height": 424
        },
        "id": "1AHK_ZCqS6db",
        "outputId": "d2d77231-f439-47c1-e013-68e521e0434c"
      },
      "execution_count": 3,
      "outputs": [
        {
          "output_type": "execute_result",
          "data": {
            "text/plain": [
              "            Date       Open       High        Low      Close  Adj Close  \\\n",
              "0     2000-01-03   5.875000   5.875000   5.875000   5.875000   1.872027   \n",
              "1     2000-01-04   5.550000   5.550000   5.550000   5.550000   1.768469   \n",
              "2     2000-01-05   5.494000   5.494000   5.494000   5.494000   1.750625   \n",
              "3     2000-01-06   5.475000   5.475000   5.475000   5.475000   1.744570   \n",
              "4     2000-01-07   5.500000   5.500000   5.500000   5.500000   1.752536   \n",
              "...          ...        ...        ...        ...        ...        ...   \n",
              "5765  2022-12-13  24.100000  24.200001  23.309999  23.320000  23.320000   \n",
              "5766  2022-12-14  22.500000  22.600000  20.770000  21.469999  21.469999   \n",
              "5767  2022-12-15  21.000000  22.370001  20.830000  22.040001  22.040001   \n",
              "5768  2022-12-16  21.959999  22.110001  21.510000  22.049999  22.049999   \n",
              "5769  2022-12-19  22.100000  22.469999  21.639999  22.350000  22.350000   \n",
              "\n",
              "           Volume  \n",
              "0     35389440000  \n",
              "1     28861440000  \n",
              "2     43033600000  \n",
              "3     34055680000  \n",
              "4     20912640000  \n",
              "...           ...  \n",
              "5765    102533100  \n",
              "5766    319501600  \n",
              "5767    132385600  \n",
              "5768     90767300  \n",
              "5769     37837300  \n",
              "\n",
              "[5770 rows x 7 columns]"
            ],
            "text/html": [
              "\n",
              "  <div id=\"df-eb41ab1b-9cd8-48ba-ad91-d426c4ad6538\">\n",
              "    <div class=\"colab-df-container\">\n",
              "      <div>\n",
              "<style scoped>\n",
              "    .dataframe tbody tr th:only-of-type {\n",
              "        vertical-align: middle;\n",
              "    }\n",
              "\n",
              "    .dataframe tbody tr th {\n",
              "        vertical-align: top;\n",
              "    }\n",
              "\n",
              "    .dataframe thead th {\n",
              "        text-align: right;\n",
              "    }\n",
              "</style>\n",
              "<table border=\"1\" class=\"dataframe\">\n",
              "  <thead>\n",
              "    <tr style=\"text-align: right;\">\n",
              "      <th></th>\n",
              "      <th>Date</th>\n",
              "      <th>Open</th>\n",
              "      <th>High</th>\n",
              "      <th>Low</th>\n",
              "      <th>Close</th>\n",
              "      <th>Adj Close</th>\n",
              "      <th>Volume</th>\n",
              "    </tr>\n",
              "  </thead>\n",
              "  <tbody>\n",
              "    <tr>\n",
              "      <th>0</th>\n",
              "      <td>2000-01-03</td>\n",
              "      <td>5.875000</td>\n",
              "      <td>5.875000</td>\n",
              "      <td>5.875000</td>\n",
              "      <td>5.875000</td>\n",
              "      <td>1.872027</td>\n",
              "      <td>35389440000</td>\n",
              "    </tr>\n",
              "    <tr>\n",
              "      <th>1</th>\n",
              "      <td>2000-01-04</td>\n",
              "      <td>5.550000</td>\n",
              "      <td>5.550000</td>\n",
              "      <td>5.550000</td>\n",
              "      <td>5.550000</td>\n",
              "      <td>1.768469</td>\n",
              "      <td>28861440000</td>\n",
              "    </tr>\n",
              "    <tr>\n",
              "      <th>2</th>\n",
              "      <td>2000-01-05</td>\n",
              "      <td>5.494000</td>\n",
              "      <td>5.494000</td>\n",
              "      <td>5.494000</td>\n",
              "      <td>5.494000</td>\n",
              "      <td>1.750625</td>\n",
              "      <td>43033600000</td>\n",
              "    </tr>\n",
              "    <tr>\n",
              "      <th>3</th>\n",
              "      <td>2000-01-06</td>\n",
              "      <td>5.475000</td>\n",
              "      <td>5.475000</td>\n",
              "      <td>5.475000</td>\n",
              "      <td>5.475000</td>\n",
              "      <td>1.744570</td>\n",
              "      <td>34055680000</td>\n",
              "    </tr>\n",
              "    <tr>\n",
              "      <th>4</th>\n",
              "      <td>2000-01-07</td>\n",
              "      <td>5.500000</td>\n",
              "      <td>5.500000</td>\n",
              "      <td>5.500000</td>\n",
              "      <td>5.500000</td>\n",
              "      <td>1.752536</td>\n",
              "      <td>20912640000</td>\n",
              "    </tr>\n",
              "    <tr>\n",
              "      <th>...</th>\n",
              "      <td>...</td>\n",
              "      <td>...</td>\n",
              "      <td>...</td>\n",
              "      <td>...</td>\n",
              "      <td>...</td>\n",
              "      <td>...</td>\n",
              "      <td>...</td>\n",
              "    </tr>\n",
              "    <tr>\n",
              "      <th>5765</th>\n",
              "      <td>2022-12-13</td>\n",
              "      <td>24.100000</td>\n",
              "      <td>24.200001</td>\n",
              "      <td>23.309999</td>\n",
              "      <td>23.320000</td>\n",
              "      <td>23.320000</td>\n",
              "      <td>102533100</td>\n",
              "    </tr>\n",
              "    <tr>\n",
              "      <th>5766</th>\n",
              "      <td>2022-12-14</td>\n",
              "      <td>22.500000</td>\n",
              "      <td>22.600000</td>\n",
              "      <td>20.770000</td>\n",
              "      <td>21.469999</td>\n",
              "      <td>21.469999</td>\n",
              "      <td>319501600</td>\n",
              "    </tr>\n",
              "    <tr>\n",
              "      <th>5767</th>\n",
              "      <td>2022-12-15</td>\n",
              "      <td>21.000000</td>\n",
              "      <td>22.370001</td>\n",
              "      <td>20.830000</td>\n",
              "      <td>22.040001</td>\n",
              "      <td>22.040001</td>\n",
              "      <td>132385600</td>\n",
              "    </tr>\n",
              "    <tr>\n",
              "      <th>5768</th>\n",
              "      <td>2022-12-16</td>\n",
              "      <td>21.959999</td>\n",
              "      <td>22.110001</td>\n",
              "      <td>21.510000</td>\n",
              "      <td>22.049999</td>\n",
              "      <td>22.049999</td>\n",
              "      <td>90767300</td>\n",
              "    </tr>\n",
              "    <tr>\n",
              "      <th>5769</th>\n",
              "      <td>2022-12-19</td>\n",
              "      <td>22.100000</td>\n",
              "      <td>22.469999</td>\n",
              "      <td>21.639999</td>\n",
              "      <td>22.350000</td>\n",
              "      <td>22.350000</td>\n",
              "      <td>37837300</td>\n",
              "    </tr>\n",
              "  </tbody>\n",
              "</table>\n",
              "<p>5770 rows × 7 columns</p>\n",
              "</div>\n",
              "      <button class=\"colab-df-convert\" onclick=\"convertToInteractive('df-eb41ab1b-9cd8-48ba-ad91-d426c4ad6538')\"\n",
              "              title=\"Convert this dataframe to an interactive table.\"\n",
              "              style=\"display:none;\">\n",
              "        \n",
              "  <svg xmlns=\"http://www.w3.org/2000/svg\" height=\"24px\"viewBox=\"0 0 24 24\"\n",
              "       width=\"24px\">\n",
              "    <path d=\"M0 0h24v24H0V0z\" fill=\"none\"/>\n",
              "    <path d=\"M18.56 5.44l.94 2.06.94-2.06 2.06-.94-2.06-.94-.94-2.06-.94 2.06-2.06.94zm-11 1L8.5 8.5l.94-2.06 2.06-.94-2.06-.94L8.5 2.5l-.94 2.06-2.06.94zm10 10l.94 2.06.94-2.06 2.06-.94-2.06-.94-.94-2.06-.94 2.06-2.06.94z\"/><path d=\"M17.41 7.96l-1.37-1.37c-.4-.4-.92-.59-1.43-.59-.52 0-1.04.2-1.43.59L10.3 9.45l-7.72 7.72c-.78.78-.78 2.05 0 2.83L4 21.41c.39.39.9.59 1.41.59.51 0 1.02-.2 1.41-.59l7.78-7.78 2.81-2.81c.8-.78.8-2.07 0-2.86zM5.41 20L4 18.59l7.72-7.72 1.47 1.35L5.41 20z\"/>\n",
              "  </svg>\n",
              "      </button>\n",
              "      \n",
              "  <style>\n",
              "    .colab-df-container {\n",
              "      display:flex;\n",
              "      flex-wrap:wrap;\n",
              "      gap: 12px;\n",
              "    }\n",
              "\n",
              "    .colab-df-convert {\n",
              "      background-color: #E8F0FE;\n",
              "      border: none;\n",
              "      border-radius: 50%;\n",
              "      cursor: pointer;\n",
              "      display: none;\n",
              "      fill: #1967D2;\n",
              "      height: 32px;\n",
              "      padding: 0 0 0 0;\n",
              "      width: 32px;\n",
              "    }\n",
              "\n",
              "    .colab-df-convert:hover {\n",
              "      background-color: #E2EBFA;\n",
              "      box-shadow: 0px 1px 2px rgba(60, 64, 67, 0.3), 0px 1px 3px 1px rgba(60, 64, 67, 0.15);\n",
              "      fill: #174EA6;\n",
              "    }\n",
              "\n",
              "    [theme=dark] .colab-df-convert {\n",
              "      background-color: #3B4455;\n",
              "      fill: #D2E3FC;\n",
              "    }\n",
              "\n",
              "    [theme=dark] .colab-df-convert:hover {\n",
              "      background-color: #434B5C;\n",
              "      box-shadow: 0px 1px 3px 1px rgba(0, 0, 0, 0.15);\n",
              "      filter: drop-shadow(0px 1px 2px rgba(0, 0, 0, 0.3));\n",
              "      fill: #FFFFFF;\n",
              "    }\n",
              "  </style>\n",
              "\n",
              "      <script>\n",
              "        const buttonEl =\n",
              "          document.querySelector('#df-eb41ab1b-9cd8-48ba-ad91-d426c4ad6538 button.colab-df-convert');\n",
              "        buttonEl.style.display =\n",
              "          google.colab.kernel.accessAllowed ? 'block' : 'none';\n",
              "\n",
              "        async function convertToInteractive(key) {\n",
              "          const element = document.querySelector('#df-eb41ab1b-9cd8-48ba-ad91-d426c4ad6538');\n",
              "          const dataTable =\n",
              "            await google.colab.kernel.invokeFunction('convertToInteractive',\n",
              "                                                     [key], {});\n",
              "          if (!dataTable) return;\n",
              "\n",
              "          const docLinkHtml = 'Like what you see? Visit the ' +\n",
              "            '<a target=\"_blank\" href=https://colab.research.google.com/notebooks/data_table.ipynb>data table notebook</a>'\n",
              "            + ' to learn more about interactive tables.';\n",
              "          element.innerHTML = '';\n",
              "          dataTable['output_type'] = 'display_data';\n",
              "          await google.colab.output.renderOutput(dataTable, element);\n",
              "          const docLink = document.createElement('div');\n",
              "          docLink.innerHTML = docLinkHtml;\n",
              "          element.appendChild(docLink);\n",
              "        }\n",
              "      </script>\n",
              "    </div>\n",
              "  </div>\n",
              "  "
            ]
          },
          "metadata": {},
          "execution_count": 3
        }
      ]
    },
    {
      "cell_type": "code",
      "source": [
        "petr = pd.read_csv('PETR4.csv')"
      ],
      "metadata": {
        "id": "OFez-FFlTnLz"
      },
      "execution_count": 4,
      "outputs": []
    },
    {
      "cell_type": "code",
      "source": [
        "petr"
      ],
      "metadata": {
        "colab": {
          "base_uri": "https://localhost:8080/",
          "height": 424
        },
        "id": "Vm2yM_HEVBgG",
        "outputId": "9e76be7b-1180-4f69-a490-bed2c974d47f"
      },
      "execution_count": 5,
      "outputs": [
        {
          "output_type": "execute_result",
          "data": {
            "text/plain": [
              "            Date       Open       High        Low      Close  Adj Close  \\\n",
              "0     2000-01-03   5.875000   5.875000   5.875000   5.875000   1.872027   \n",
              "1     2000-01-04   5.550000   5.550000   5.550000   5.550000   1.768469   \n",
              "2     2000-01-05   5.494000   5.494000   5.494000   5.494000   1.750625   \n",
              "3     2000-01-06   5.475000   5.475000   5.475000   5.475000   1.744570   \n",
              "4     2000-01-07   5.500000   5.500000   5.500000   5.500000   1.752536   \n",
              "...          ...        ...        ...        ...        ...        ...   \n",
              "5765  2022-12-13  24.100000  24.200001  23.309999  23.320000  23.320000   \n",
              "5766  2022-12-14  22.500000  22.600000  20.770000  21.469999  21.469999   \n",
              "5767  2022-12-15  21.000000  22.370001  20.830000  22.040001  22.040001   \n",
              "5768  2022-12-16  21.959999  22.110001  21.510000  22.049999  22.049999   \n",
              "5769  2022-12-19  22.100000  22.469999  21.639999  22.350000  22.350000   \n",
              "\n",
              "           Volume  \n",
              "0     35389440000  \n",
              "1     28861440000  \n",
              "2     43033600000  \n",
              "3     34055680000  \n",
              "4     20912640000  \n",
              "...           ...  \n",
              "5765    102533100  \n",
              "5766    319501600  \n",
              "5767    132385600  \n",
              "5768     90767300  \n",
              "5769     37837300  \n",
              "\n",
              "[5770 rows x 7 columns]"
            ],
            "text/html": [
              "\n",
              "  <div id=\"df-223983c5-0436-4d4e-ab95-454a53336ee7\">\n",
              "    <div class=\"colab-df-container\">\n",
              "      <div>\n",
              "<style scoped>\n",
              "    .dataframe tbody tr th:only-of-type {\n",
              "        vertical-align: middle;\n",
              "    }\n",
              "\n",
              "    .dataframe tbody tr th {\n",
              "        vertical-align: top;\n",
              "    }\n",
              "\n",
              "    .dataframe thead th {\n",
              "        text-align: right;\n",
              "    }\n",
              "</style>\n",
              "<table border=\"1\" class=\"dataframe\">\n",
              "  <thead>\n",
              "    <tr style=\"text-align: right;\">\n",
              "      <th></th>\n",
              "      <th>Date</th>\n",
              "      <th>Open</th>\n",
              "      <th>High</th>\n",
              "      <th>Low</th>\n",
              "      <th>Close</th>\n",
              "      <th>Adj Close</th>\n",
              "      <th>Volume</th>\n",
              "    </tr>\n",
              "  </thead>\n",
              "  <tbody>\n",
              "    <tr>\n",
              "      <th>0</th>\n",
              "      <td>2000-01-03</td>\n",
              "      <td>5.875000</td>\n",
              "      <td>5.875000</td>\n",
              "      <td>5.875000</td>\n",
              "      <td>5.875000</td>\n",
              "      <td>1.872027</td>\n",
              "      <td>35389440000</td>\n",
              "    </tr>\n",
              "    <tr>\n",
              "      <th>1</th>\n",
              "      <td>2000-01-04</td>\n",
              "      <td>5.550000</td>\n",
              "      <td>5.550000</td>\n",
              "      <td>5.550000</td>\n",
              "      <td>5.550000</td>\n",
              "      <td>1.768469</td>\n",
              "      <td>28861440000</td>\n",
              "    </tr>\n",
              "    <tr>\n",
              "      <th>2</th>\n",
              "      <td>2000-01-05</td>\n",
              "      <td>5.494000</td>\n",
              "      <td>5.494000</td>\n",
              "      <td>5.494000</td>\n",
              "      <td>5.494000</td>\n",
              "      <td>1.750625</td>\n",
              "      <td>43033600000</td>\n",
              "    </tr>\n",
              "    <tr>\n",
              "      <th>3</th>\n",
              "      <td>2000-01-06</td>\n",
              "      <td>5.475000</td>\n",
              "      <td>5.475000</td>\n",
              "      <td>5.475000</td>\n",
              "      <td>5.475000</td>\n",
              "      <td>1.744570</td>\n",
              "      <td>34055680000</td>\n",
              "    </tr>\n",
              "    <tr>\n",
              "      <th>4</th>\n",
              "      <td>2000-01-07</td>\n",
              "      <td>5.500000</td>\n",
              "      <td>5.500000</td>\n",
              "      <td>5.500000</td>\n",
              "      <td>5.500000</td>\n",
              "      <td>1.752536</td>\n",
              "      <td>20912640000</td>\n",
              "    </tr>\n",
              "    <tr>\n",
              "      <th>...</th>\n",
              "      <td>...</td>\n",
              "      <td>...</td>\n",
              "      <td>...</td>\n",
              "      <td>...</td>\n",
              "      <td>...</td>\n",
              "      <td>...</td>\n",
              "      <td>...</td>\n",
              "    </tr>\n",
              "    <tr>\n",
              "      <th>5765</th>\n",
              "      <td>2022-12-13</td>\n",
              "      <td>24.100000</td>\n",
              "      <td>24.200001</td>\n",
              "      <td>23.309999</td>\n",
              "      <td>23.320000</td>\n",
              "      <td>23.320000</td>\n",
              "      <td>102533100</td>\n",
              "    </tr>\n",
              "    <tr>\n",
              "      <th>5766</th>\n",
              "      <td>2022-12-14</td>\n",
              "      <td>22.500000</td>\n",
              "      <td>22.600000</td>\n",
              "      <td>20.770000</td>\n",
              "      <td>21.469999</td>\n",
              "      <td>21.469999</td>\n",
              "      <td>319501600</td>\n",
              "    </tr>\n",
              "    <tr>\n",
              "      <th>5767</th>\n",
              "      <td>2022-12-15</td>\n",
              "      <td>21.000000</td>\n",
              "      <td>22.370001</td>\n",
              "      <td>20.830000</td>\n",
              "      <td>22.040001</td>\n",
              "      <td>22.040001</td>\n",
              "      <td>132385600</td>\n",
              "    </tr>\n",
              "    <tr>\n",
              "      <th>5768</th>\n",
              "      <td>2022-12-16</td>\n",
              "      <td>21.959999</td>\n",
              "      <td>22.110001</td>\n",
              "      <td>21.510000</td>\n",
              "      <td>22.049999</td>\n",
              "      <td>22.049999</td>\n",
              "      <td>90767300</td>\n",
              "    </tr>\n",
              "    <tr>\n",
              "      <th>5769</th>\n",
              "      <td>2022-12-19</td>\n",
              "      <td>22.100000</td>\n",
              "      <td>22.469999</td>\n",
              "      <td>21.639999</td>\n",
              "      <td>22.350000</td>\n",
              "      <td>22.350000</td>\n",
              "      <td>37837300</td>\n",
              "    </tr>\n",
              "  </tbody>\n",
              "</table>\n",
              "<p>5770 rows × 7 columns</p>\n",
              "</div>\n",
              "      <button class=\"colab-df-convert\" onclick=\"convertToInteractive('df-223983c5-0436-4d4e-ab95-454a53336ee7')\"\n",
              "              title=\"Convert this dataframe to an interactive table.\"\n",
              "              style=\"display:none;\">\n",
              "        \n",
              "  <svg xmlns=\"http://www.w3.org/2000/svg\" height=\"24px\"viewBox=\"0 0 24 24\"\n",
              "       width=\"24px\">\n",
              "    <path d=\"M0 0h24v24H0V0z\" fill=\"none\"/>\n",
              "    <path d=\"M18.56 5.44l.94 2.06.94-2.06 2.06-.94-2.06-.94-.94-2.06-.94 2.06-2.06.94zm-11 1L8.5 8.5l.94-2.06 2.06-.94-2.06-.94L8.5 2.5l-.94 2.06-2.06.94zm10 10l.94 2.06.94-2.06 2.06-.94-2.06-.94-.94-2.06-.94 2.06-2.06.94z\"/><path d=\"M17.41 7.96l-1.37-1.37c-.4-.4-.92-.59-1.43-.59-.52 0-1.04.2-1.43.59L10.3 9.45l-7.72 7.72c-.78.78-.78 2.05 0 2.83L4 21.41c.39.39.9.59 1.41.59.51 0 1.02-.2 1.41-.59l7.78-7.78 2.81-2.81c.8-.78.8-2.07 0-2.86zM5.41 20L4 18.59l7.72-7.72 1.47 1.35L5.41 20z\"/>\n",
              "  </svg>\n",
              "      </button>\n",
              "      \n",
              "  <style>\n",
              "    .colab-df-container {\n",
              "      display:flex;\n",
              "      flex-wrap:wrap;\n",
              "      gap: 12px;\n",
              "    }\n",
              "\n",
              "    .colab-df-convert {\n",
              "      background-color: #E8F0FE;\n",
              "      border: none;\n",
              "      border-radius: 50%;\n",
              "      cursor: pointer;\n",
              "      display: none;\n",
              "      fill: #1967D2;\n",
              "      height: 32px;\n",
              "      padding: 0 0 0 0;\n",
              "      width: 32px;\n",
              "    }\n",
              "\n",
              "    .colab-df-convert:hover {\n",
              "      background-color: #E2EBFA;\n",
              "      box-shadow: 0px 1px 2px rgba(60, 64, 67, 0.3), 0px 1px 3px 1px rgba(60, 64, 67, 0.15);\n",
              "      fill: #174EA6;\n",
              "    }\n",
              "\n",
              "    [theme=dark] .colab-df-convert {\n",
              "      background-color: #3B4455;\n",
              "      fill: #D2E3FC;\n",
              "    }\n",
              "\n",
              "    [theme=dark] .colab-df-convert:hover {\n",
              "      background-color: #434B5C;\n",
              "      box-shadow: 0px 1px 3px 1px rgba(0, 0, 0, 0.15);\n",
              "      filter: drop-shadow(0px 1px 2px rgba(0, 0, 0, 0.3));\n",
              "      fill: #FFFFFF;\n",
              "    }\n",
              "  </style>\n",
              "\n",
              "      <script>\n",
              "        const buttonEl =\n",
              "          document.querySelector('#df-223983c5-0436-4d4e-ab95-454a53336ee7 button.colab-df-convert');\n",
              "        buttonEl.style.display =\n",
              "          google.colab.kernel.accessAllowed ? 'block' : 'none';\n",
              "\n",
              "        async function convertToInteractive(key) {\n",
              "          const element = document.querySelector('#df-223983c5-0436-4d4e-ab95-454a53336ee7');\n",
              "          const dataTable =\n",
              "            await google.colab.kernel.invokeFunction('convertToInteractive',\n",
              "                                                     [key], {});\n",
              "          if (!dataTable) return;\n",
              "\n",
              "          const docLinkHtml = 'Like what you see? Visit the ' +\n",
              "            '<a target=\"_blank\" href=https://colab.research.google.com/notebooks/data_table.ipynb>data table notebook</a>'\n",
              "            + ' to learn more about interactive tables.';\n",
              "          element.innerHTML = '';\n",
              "          dataTable['output_type'] = 'display_data';\n",
              "          await google.colab.output.renderOutput(dataTable, element);\n",
              "          const docLink = document.createElement('div');\n",
              "          docLink.innerHTML = docLinkHtml;\n",
              "          element.appendChild(docLink);\n",
              "        }\n",
              "      </script>\n",
              "    </div>\n",
              "  </div>\n",
              "  "
            ]
          },
          "metadata": {},
          "execution_count": 5
        }
      ]
    },
    {
      "cell_type": "code",
      "source": [
        "type(petr)"
      ],
      "metadata": {
        "colab": {
          "base_uri": "https://localhost:8080/"
        },
        "id": "rbiD8CmTVCt8",
        "outputId": "d5d1c3d7-3e01-4e0e-bb51-b62a22fb3fd7"
      },
      "execution_count": 6,
      "outputs": [
        {
          "output_type": "execute_result",
          "data": {
            "text/plain": [
              "pandas.core.frame.DataFrame"
            ]
          },
          "metadata": {},
          "execution_count": 6
        }
      ]
    },
    {
      "cell_type": "code",
      "source": [
        "petr.head()"
      ],
      "metadata": {
        "colab": {
          "base_uri": "https://localhost:8080/",
          "height": 206
        },
        "id": "vpe0njgSVM_7",
        "outputId": "94f6294a-c4f7-4296-b9a1-f1a21401ba4e"
      },
      "execution_count": 7,
      "outputs": [
        {
          "output_type": "execute_result",
          "data": {
            "text/plain": [
              "         Date   Open   High    Low  Close  Adj Close       Volume\n",
              "0  2000-01-03  5.875  5.875  5.875  5.875   1.872027  35389440000\n",
              "1  2000-01-04  5.550  5.550  5.550  5.550   1.768469  28861440000\n",
              "2  2000-01-05  5.494  5.494  5.494  5.494   1.750625  43033600000\n",
              "3  2000-01-06  5.475  5.475  5.475  5.475   1.744570  34055680000\n",
              "4  2000-01-07  5.500  5.500  5.500  5.500   1.752536  20912640000"
            ],
            "text/html": [
              "\n",
              "  <div id=\"df-8975e7f3-cadc-454b-b906-8e1f5351a480\">\n",
              "    <div class=\"colab-df-container\">\n",
              "      <div>\n",
              "<style scoped>\n",
              "    .dataframe tbody tr th:only-of-type {\n",
              "        vertical-align: middle;\n",
              "    }\n",
              "\n",
              "    .dataframe tbody tr th {\n",
              "        vertical-align: top;\n",
              "    }\n",
              "\n",
              "    .dataframe thead th {\n",
              "        text-align: right;\n",
              "    }\n",
              "</style>\n",
              "<table border=\"1\" class=\"dataframe\">\n",
              "  <thead>\n",
              "    <tr style=\"text-align: right;\">\n",
              "      <th></th>\n",
              "      <th>Date</th>\n",
              "      <th>Open</th>\n",
              "      <th>High</th>\n",
              "      <th>Low</th>\n",
              "      <th>Close</th>\n",
              "      <th>Adj Close</th>\n",
              "      <th>Volume</th>\n",
              "    </tr>\n",
              "  </thead>\n",
              "  <tbody>\n",
              "    <tr>\n",
              "      <th>0</th>\n",
              "      <td>2000-01-03</td>\n",
              "      <td>5.875</td>\n",
              "      <td>5.875</td>\n",
              "      <td>5.875</td>\n",
              "      <td>5.875</td>\n",
              "      <td>1.872027</td>\n",
              "      <td>35389440000</td>\n",
              "    </tr>\n",
              "    <tr>\n",
              "      <th>1</th>\n",
              "      <td>2000-01-04</td>\n",
              "      <td>5.550</td>\n",
              "      <td>5.550</td>\n",
              "      <td>5.550</td>\n",
              "      <td>5.550</td>\n",
              "      <td>1.768469</td>\n",
              "      <td>28861440000</td>\n",
              "    </tr>\n",
              "    <tr>\n",
              "      <th>2</th>\n",
              "      <td>2000-01-05</td>\n",
              "      <td>5.494</td>\n",
              "      <td>5.494</td>\n",
              "      <td>5.494</td>\n",
              "      <td>5.494</td>\n",
              "      <td>1.750625</td>\n",
              "      <td>43033600000</td>\n",
              "    </tr>\n",
              "    <tr>\n",
              "      <th>3</th>\n",
              "      <td>2000-01-06</td>\n",
              "      <td>5.475</td>\n",
              "      <td>5.475</td>\n",
              "      <td>5.475</td>\n",
              "      <td>5.475</td>\n",
              "      <td>1.744570</td>\n",
              "      <td>34055680000</td>\n",
              "    </tr>\n",
              "    <tr>\n",
              "      <th>4</th>\n",
              "      <td>2000-01-07</td>\n",
              "      <td>5.500</td>\n",
              "      <td>5.500</td>\n",
              "      <td>5.500</td>\n",
              "      <td>5.500</td>\n",
              "      <td>1.752536</td>\n",
              "      <td>20912640000</td>\n",
              "    </tr>\n",
              "  </tbody>\n",
              "</table>\n",
              "</div>\n",
              "      <button class=\"colab-df-convert\" onclick=\"convertToInteractive('df-8975e7f3-cadc-454b-b906-8e1f5351a480')\"\n",
              "              title=\"Convert this dataframe to an interactive table.\"\n",
              "              style=\"display:none;\">\n",
              "        \n",
              "  <svg xmlns=\"http://www.w3.org/2000/svg\" height=\"24px\"viewBox=\"0 0 24 24\"\n",
              "       width=\"24px\">\n",
              "    <path d=\"M0 0h24v24H0V0z\" fill=\"none\"/>\n",
              "    <path d=\"M18.56 5.44l.94 2.06.94-2.06 2.06-.94-2.06-.94-.94-2.06-.94 2.06-2.06.94zm-11 1L8.5 8.5l.94-2.06 2.06-.94-2.06-.94L8.5 2.5l-.94 2.06-2.06.94zm10 10l.94 2.06.94-2.06 2.06-.94-2.06-.94-.94-2.06-.94 2.06-2.06.94z\"/><path d=\"M17.41 7.96l-1.37-1.37c-.4-.4-.92-.59-1.43-.59-.52 0-1.04.2-1.43.59L10.3 9.45l-7.72 7.72c-.78.78-.78 2.05 0 2.83L4 21.41c.39.39.9.59 1.41.59.51 0 1.02-.2 1.41-.59l7.78-7.78 2.81-2.81c.8-.78.8-2.07 0-2.86zM5.41 20L4 18.59l7.72-7.72 1.47 1.35L5.41 20z\"/>\n",
              "  </svg>\n",
              "      </button>\n",
              "      \n",
              "  <style>\n",
              "    .colab-df-container {\n",
              "      display:flex;\n",
              "      flex-wrap:wrap;\n",
              "      gap: 12px;\n",
              "    }\n",
              "\n",
              "    .colab-df-convert {\n",
              "      background-color: #E8F0FE;\n",
              "      border: none;\n",
              "      border-radius: 50%;\n",
              "      cursor: pointer;\n",
              "      display: none;\n",
              "      fill: #1967D2;\n",
              "      height: 32px;\n",
              "      padding: 0 0 0 0;\n",
              "      width: 32px;\n",
              "    }\n",
              "\n",
              "    .colab-df-convert:hover {\n",
              "      background-color: #E2EBFA;\n",
              "      box-shadow: 0px 1px 2px rgba(60, 64, 67, 0.3), 0px 1px 3px 1px rgba(60, 64, 67, 0.15);\n",
              "      fill: #174EA6;\n",
              "    }\n",
              "\n",
              "    [theme=dark] .colab-df-convert {\n",
              "      background-color: #3B4455;\n",
              "      fill: #D2E3FC;\n",
              "    }\n",
              "\n",
              "    [theme=dark] .colab-df-convert:hover {\n",
              "      background-color: #434B5C;\n",
              "      box-shadow: 0px 1px 3px 1px rgba(0, 0, 0, 0.15);\n",
              "      filter: drop-shadow(0px 1px 2px rgba(0, 0, 0, 0.3));\n",
              "      fill: #FFFFFF;\n",
              "    }\n",
              "  </style>\n",
              "\n",
              "      <script>\n",
              "        const buttonEl =\n",
              "          document.querySelector('#df-8975e7f3-cadc-454b-b906-8e1f5351a480 button.colab-df-convert');\n",
              "        buttonEl.style.display =\n",
              "          google.colab.kernel.accessAllowed ? 'block' : 'none';\n",
              "\n",
              "        async function convertToInteractive(key) {\n",
              "          const element = document.querySelector('#df-8975e7f3-cadc-454b-b906-8e1f5351a480');\n",
              "          const dataTable =\n",
              "            await google.colab.kernel.invokeFunction('convertToInteractive',\n",
              "                                                     [key], {});\n",
              "          if (!dataTable) return;\n",
              "\n",
              "          const docLinkHtml = 'Like what you see? Visit the ' +\n",
              "            '<a target=\"_blank\" href=https://colab.research.google.com/notebooks/data_table.ipynb>data table notebook</a>'\n",
              "            + ' to learn more about interactive tables.';\n",
              "          element.innerHTML = '';\n",
              "          dataTable['output_type'] = 'display_data';\n",
              "          await google.colab.output.renderOutput(dataTable, element);\n",
              "          const docLink = document.createElement('div');\n",
              "          docLink.innerHTML = docLinkHtml;\n",
              "          element.appendChild(docLink);\n",
              "        }\n",
              "      </script>\n",
              "    </div>\n",
              "  </div>\n",
              "  "
            ]
          },
          "metadata": {},
          "execution_count": 7
        }
      ]
    },
    {
      "cell_type": "code",
      "source": [
        "petr.tail()"
      ],
      "metadata": {
        "colab": {
          "base_uri": "https://localhost:8080/",
          "height": 206
        },
        "id": "WUppRTu1Vap6",
        "outputId": "68a5ff1c-307c-4c78-da60-bb021d1bdf9d"
      },
      "execution_count": 8,
      "outputs": [
        {
          "output_type": "execute_result",
          "data": {
            "text/plain": [
              "            Date       Open       High        Low      Close  Adj Close  \\\n",
              "5765  2022-12-13  24.100000  24.200001  23.309999  23.320000  23.320000   \n",
              "5766  2022-12-14  22.500000  22.600000  20.770000  21.469999  21.469999   \n",
              "5767  2022-12-15  21.000000  22.370001  20.830000  22.040001  22.040001   \n",
              "5768  2022-12-16  21.959999  22.110001  21.510000  22.049999  22.049999   \n",
              "5769  2022-12-19  22.100000  22.469999  21.639999  22.350000  22.350000   \n",
              "\n",
              "         Volume  \n",
              "5765  102533100  \n",
              "5766  319501600  \n",
              "5767  132385600  \n",
              "5768   90767300  \n",
              "5769   37837300  "
            ],
            "text/html": [
              "\n",
              "  <div id=\"df-60866c32-fd56-4a1e-8b9f-cb8aa75a3e3c\">\n",
              "    <div class=\"colab-df-container\">\n",
              "      <div>\n",
              "<style scoped>\n",
              "    .dataframe tbody tr th:only-of-type {\n",
              "        vertical-align: middle;\n",
              "    }\n",
              "\n",
              "    .dataframe tbody tr th {\n",
              "        vertical-align: top;\n",
              "    }\n",
              "\n",
              "    .dataframe thead th {\n",
              "        text-align: right;\n",
              "    }\n",
              "</style>\n",
              "<table border=\"1\" class=\"dataframe\">\n",
              "  <thead>\n",
              "    <tr style=\"text-align: right;\">\n",
              "      <th></th>\n",
              "      <th>Date</th>\n",
              "      <th>Open</th>\n",
              "      <th>High</th>\n",
              "      <th>Low</th>\n",
              "      <th>Close</th>\n",
              "      <th>Adj Close</th>\n",
              "      <th>Volume</th>\n",
              "    </tr>\n",
              "  </thead>\n",
              "  <tbody>\n",
              "    <tr>\n",
              "      <th>5765</th>\n",
              "      <td>2022-12-13</td>\n",
              "      <td>24.100000</td>\n",
              "      <td>24.200001</td>\n",
              "      <td>23.309999</td>\n",
              "      <td>23.320000</td>\n",
              "      <td>23.320000</td>\n",
              "      <td>102533100</td>\n",
              "    </tr>\n",
              "    <tr>\n",
              "      <th>5766</th>\n",
              "      <td>2022-12-14</td>\n",
              "      <td>22.500000</td>\n",
              "      <td>22.600000</td>\n",
              "      <td>20.770000</td>\n",
              "      <td>21.469999</td>\n",
              "      <td>21.469999</td>\n",
              "      <td>319501600</td>\n",
              "    </tr>\n",
              "    <tr>\n",
              "      <th>5767</th>\n",
              "      <td>2022-12-15</td>\n",
              "      <td>21.000000</td>\n",
              "      <td>22.370001</td>\n",
              "      <td>20.830000</td>\n",
              "      <td>22.040001</td>\n",
              "      <td>22.040001</td>\n",
              "      <td>132385600</td>\n",
              "    </tr>\n",
              "    <tr>\n",
              "      <th>5768</th>\n",
              "      <td>2022-12-16</td>\n",
              "      <td>21.959999</td>\n",
              "      <td>22.110001</td>\n",
              "      <td>21.510000</td>\n",
              "      <td>22.049999</td>\n",
              "      <td>22.049999</td>\n",
              "      <td>90767300</td>\n",
              "    </tr>\n",
              "    <tr>\n",
              "      <th>5769</th>\n",
              "      <td>2022-12-19</td>\n",
              "      <td>22.100000</td>\n",
              "      <td>22.469999</td>\n",
              "      <td>21.639999</td>\n",
              "      <td>22.350000</td>\n",
              "      <td>22.350000</td>\n",
              "      <td>37837300</td>\n",
              "    </tr>\n",
              "  </tbody>\n",
              "</table>\n",
              "</div>\n",
              "      <button class=\"colab-df-convert\" onclick=\"convertToInteractive('df-60866c32-fd56-4a1e-8b9f-cb8aa75a3e3c')\"\n",
              "              title=\"Convert this dataframe to an interactive table.\"\n",
              "              style=\"display:none;\">\n",
              "        \n",
              "  <svg xmlns=\"http://www.w3.org/2000/svg\" height=\"24px\"viewBox=\"0 0 24 24\"\n",
              "       width=\"24px\">\n",
              "    <path d=\"M0 0h24v24H0V0z\" fill=\"none\"/>\n",
              "    <path d=\"M18.56 5.44l.94 2.06.94-2.06 2.06-.94-2.06-.94-.94-2.06-.94 2.06-2.06.94zm-11 1L8.5 8.5l.94-2.06 2.06-.94-2.06-.94L8.5 2.5l-.94 2.06-2.06.94zm10 10l.94 2.06.94-2.06 2.06-.94-2.06-.94-.94-2.06-.94 2.06-2.06.94z\"/><path d=\"M17.41 7.96l-1.37-1.37c-.4-.4-.92-.59-1.43-.59-.52 0-1.04.2-1.43.59L10.3 9.45l-7.72 7.72c-.78.78-.78 2.05 0 2.83L4 21.41c.39.39.9.59 1.41.59.51 0 1.02-.2 1.41-.59l7.78-7.78 2.81-2.81c.8-.78.8-2.07 0-2.86zM5.41 20L4 18.59l7.72-7.72 1.47 1.35L5.41 20z\"/>\n",
              "  </svg>\n",
              "      </button>\n",
              "      \n",
              "  <style>\n",
              "    .colab-df-container {\n",
              "      display:flex;\n",
              "      flex-wrap:wrap;\n",
              "      gap: 12px;\n",
              "    }\n",
              "\n",
              "    .colab-df-convert {\n",
              "      background-color: #E8F0FE;\n",
              "      border: none;\n",
              "      border-radius: 50%;\n",
              "      cursor: pointer;\n",
              "      display: none;\n",
              "      fill: #1967D2;\n",
              "      height: 32px;\n",
              "      padding: 0 0 0 0;\n",
              "      width: 32px;\n",
              "    }\n",
              "\n",
              "    .colab-df-convert:hover {\n",
              "      background-color: #E2EBFA;\n",
              "      box-shadow: 0px 1px 2px rgba(60, 64, 67, 0.3), 0px 1px 3px 1px rgba(60, 64, 67, 0.15);\n",
              "      fill: #174EA6;\n",
              "    }\n",
              "\n",
              "    [theme=dark] .colab-df-convert {\n",
              "      background-color: #3B4455;\n",
              "      fill: #D2E3FC;\n",
              "    }\n",
              "\n",
              "    [theme=dark] .colab-df-convert:hover {\n",
              "      background-color: #434B5C;\n",
              "      box-shadow: 0px 1px 3px 1px rgba(0, 0, 0, 0.15);\n",
              "      filter: drop-shadow(0px 1px 2px rgba(0, 0, 0, 0.3));\n",
              "      fill: #FFFFFF;\n",
              "    }\n",
              "  </style>\n",
              "\n",
              "      <script>\n",
              "        const buttonEl =\n",
              "          document.querySelector('#df-60866c32-fd56-4a1e-8b9f-cb8aa75a3e3c button.colab-df-convert');\n",
              "        buttonEl.style.display =\n",
              "          google.colab.kernel.accessAllowed ? 'block' : 'none';\n",
              "\n",
              "        async function convertToInteractive(key) {\n",
              "          const element = document.querySelector('#df-60866c32-fd56-4a1e-8b9f-cb8aa75a3e3c');\n",
              "          const dataTable =\n",
              "            await google.colab.kernel.invokeFunction('convertToInteractive',\n",
              "                                                     [key], {});\n",
              "          if (!dataTable) return;\n",
              "\n",
              "          const docLinkHtml = 'Like what you see? Visit the ' +\n",
              "            '<a target=\"_blank\" href=https://colab.research.google.com/notebooks/data_table.ipynb>data table notebook</a>'\n",
              "            + ' to learn more about interactive tables.';\n",
              "          element.innerHTML = '';\n",
              "          dataTable['output_type'] = 'display_data';\n",
              "          await google.colab.output.renderOutput(dataTable, element);\n",
              "          const docLink = document.createElement('div');\n",
              "          docLink.innerHTML = docLinkHtml;\n",
              "          element.appendChild(docLink);\n",
              "        }\n",
              "      </script>\n",
              "    </div>\n",
              "  </div>\n",
              "  "
            ]
          },
          "metadata": {},
          "execution_count": 8
        }
      ]
    },
    {
      "cell_type": "code",
      "source": [
        "petr['Close'].plot()"
      ],
      "metadata": {
        "colab": {
          "base_uri": "https://localhost:8080/",
          "height": 447
        },
        "id": "ZZV2to6nVkvi",
        "outputId": "4b069228-f033-47f9-d645-e4767f7543d4"
      },
      "execution_count": 9,
      "outputs": [
        {
          "output_type": "execute_result",
          "data": {
            "text/plain": [
              "<Axes: >"
            ]
          },
          "metadata": {},
          "execution_count": 9
        },
        {
          "output_type": "display_data",
          "data": {
            "text/plain": [
              "<Figure size 640x480 with 1 Axes>"
            ],
            "image/png": "[encoded data removed]"
          },
          "metadata": {}
        }
      ]
    },
    {
      "cell_type": "code",
      "source": [
        "petr.Close.plot();"
      ],
      "metadata": {
        "colab": {
          "base_uri": "https://localhost:8080/",
          "height": 430
        },
        "id": "lt0FMIV6V2pz",
        "outputId": "298ac3a2-7cc0-4e03-fe85-e72ad4755381"
      },
      "execution_count": 10,
      "outputs": [
        {
          "output_type": "display_data",
          "data": {
            "text/plain": [
              "<Figure size 640x480 with 1 Axes>"
            ],
            "image/png": "[encoded data removed]"
          },
          "metadata": {}
        }
      ]
    },
    {
      "cell_type": "markdown",
      "source": [
        "### 1.1.2. Arquivos .txt"
      ],
      "metadata": {
        "id": "LUouNCwqWAD6"
      }
    },
    {
      "cell_type": "code",
      "source": [
        "data = pd.read_csv('PETR4.txt')"
      ],
      "metadata": {
        "id": "P6TXV-KI-7MA"
      },
      "execution_count": 11,
      "outputs": []
    },
    {
      "cell_type": "code",
      "source": [
        "data.head()"
      ],
      "metadata": {
        "colab": {
          "base_uri": "https://localhost:8080/",
          "height": 206
        },
        "id": "5XHJ3ESS_Cdf",
        "outputId": "43936e8a-0fc2-497e-fcc9-73187c9e3df7"
      },
      "execution_count": 12,
      "outputs": [
        {
          "output_type": "execute_result",
          "data": {
            "text/plain": [
              "         Date   Open   High    Low  Close  Adj Close       Volume\n",
              "0  2000-01-03  5.875  5.875  5.875  5.875   1.872027  35389440000\n",
              "1  2000-01-04  5.550  5.550  5.550  5.550   1.768469  28861440000\n",
              "2  2000-01-05  5.494  5.494  5.494  5.494   1.750625  43033600000\n",
              "3  2000-01-06  5.475  5.475  5.475  5.475   1.744570  34055680000\n",
              "4  2000-01-07  5.500  5.500  5.500  5.500   1.752536  20912640000"
            ],
            "text/html": [
              "\n",
              "  <div id=\"df-f46b76ca-81b9-48c4-85d9-24ae91b2a2da\">\n",
              "    <div class=\"colab-df-container\">\n",
              "      <div>\n",
              "<style scoped>\n",
              "    .dataframe tbody tr th:only-of-type {\n",
              "        vertical-align: middle;\n",
              "    }\n",
              "\n",
              "    .dataframe tbody tr th {\n",
              "        vertical-align: top;\n",
              "    }\n",
              "\n",
              "    .dataframe thead th {\n",
              "        text-align: right;\n",
              "    }\n",
              "</style>\n",
              "<table border=\"1\" class=\"dataframe\">\n",
              "  <thead>\n",
              "    <tr style=\"text-align: right;\">\n",
              "      <th></th>\n",
              "      <th>Date</th>\n",
              "      <th>Open</th>\n",
              "      <th>High</th>\n",
              "      <th>Low</th>\n",
              "      <th>Close</th>\n",
              "      <th>Adj Close</th>\n",
              "      <th>Volume</th>\n",
              "    </tr>\n",
              "  </thead>\n",
              "  <tbody>\n",
              "    <tr>\n",
              "      <th>0</th>\n",
              "      <td>2000-01-03</td>\n",
              "      <td>5.875</td>\n",
              "      <td>5.875</td>\n",
              "      <td>5.875</td>\n",
              "      <td>5.875</td>\n",
              "      <td>1.872027</td>\n",
              "      <td>35389440000</td>\n",
              "    </tr>\n",
              "    <tr>\n",
              "      <th>1</th>\n",
              "      <td>2000-01-04</td>\n",
              "      <td>5.550</td>\n",
              "      <td>5.550</td>\n",
              "      <td>5.550</td>\n",
              "      <td>5.550</td>\n",
              "      <td>1.768469</td>\n",
              "      <td>28861440000</td>\n",
              "    </tr>\n",
              "    <tr>\n",
              "      <th>2</th>\n",
              "      <td>2000-01-05</td>\n",
              "      <td>5.494</td>\n",
              "      <td>5.494</td>\n",
              "      <td>5.494</td>\n",
              "      <td>5.494</td>\n",
              "      <td>1.750625</td>\n",
              "      <td>43033600000</td>\n",
              "    </tr>\n",
              "    <tr>\n",
              "      <th>3</th>\n",
              "      <td>2000-01-06</td>\n",
              "      <td>5.475</td>\n",
              "      <td>5.475</td>\n",
              "      <td>5.475</td>\n",
              "      <td>5.475</td>\n",
              "      <td>1.744570</td>\n",
              "      <td>34055680000</td>\n",
              "    </tr>\n",
              "    <tr>\n",
              "      <th>4</th>\n",
              "      <td>2000-01-07</td>\n",
              "      <td>5.500</td>\n",
              "      <td>5.500</td>\n",
              "      <td>5.500</td>\n",
              "      <td>5.500</td>\n",
              "      <td>1.752536</td>\n",
              "      <td>20912640000</td>\n",
              "    </tr>\n",
              "  </tbody>\n",
              "</table>\n",
              "</div>\n",
              "      <button class=\"colab-df-convert\" onclick=\"convertToInteractive('df-f46b76ca-81b9-48c4-85d9-24ae91b2a2da')\"\n",
              "              title=\"Convert this dataframe to an interactive table.\"\n",
              "              style=\"display:none;\">\n",
              "        \n",
              "  <svg xmlns=\"http://www.w3.org/2000/svg\" height=\"24px\"viewBox=\"0 0 24 24\"\n",
              "       width=\"24px\">\n",
              "    <path d=\"M0 0h24v24H0V0z\" fill=\"none\"/>\n",
              "    <path d=\"M18.56 5.44l.94 2.06.94-2.06 2.06-.94-2.06-.94-.94-2.06-.94 2.06-2.06.94zm-11 1L8.5 8.5l.94-2.06 2.06-.94-2.06-.94L8.5 2.5l-.94 2.06-2.06.94zm10 10l.94 2.06.94-2.06 2.06-.94-2.06-.94-.94-2.06-.94 2.06-2.06.94z\"/><path d=\"M17.41 7.96l-1.37-1.37c-.4-.4-.92-.59-1.43-.59-.52 0-1.04.2-1.43.59L10.3 9.45l-7.72 7.72c-.78.78-.78 2.05 0 2.83L4 21.41c.39.39.9.59 1.41.59.51 0 1.02-.2 1.41-.59l7.78-7.78 2.81-2.81c.8-.78.8-2.07 0-2.86zM5.41 20L4 18.59l7.72-7.72 1.47 1.35L5.41 20z\"/>\n",
              "  </svg>\n",
              "      </button>\n",
              "      \n",
              "  <style>\n",
              "    .colab-df-container {\n",
              "      display:flex;\n",
              "      flex-wrap:wrap;\n",
              "      gap: 12px;\n",
              "    }\n",
              "\n",
              "    .colab-df-convert {\n",
              "      background-color: #E8F0FE;\n",
              "      border: none;\n",
              "      border-radius: 50%;\n",
              "      cursor: pointer;\n",
              "      display: none;\n",
              "      fill: #1967D2;\n",
              "      height: 32px;\n",
              "      padding: 0 0 0 0;\n",
              "      width: 32px;\n",
              "    }\n",
              "\n",
              "    .colab-df-convert:hover {\n",
              "      background-color: #E2EBFA;\n",
              "      box-shadow: 0px 1px 2px rgba(60, 64, 67, 0.3), 0px 1px 3px 1px rgba(60, 64, 67, 0.15);\n",
              "      fill: #174EA6;\n",
              "    }\n",
              "\n",
              "    [theme=dark] .colab-df-convert {\n",
              "      background-color: #3B4455;\n",
              "      fill: #D2E3FC;\n",
              "    }\n",
              "\n",
              "    [theme=dark] .colab-df-convert:hover {\n",
              "      background-color: #434B5C;\n",
              "      box-shadow: 0px 1px 3px 1px rgba(0, 0, 0, 0.15);\n",
              "      filter: drop-shadow(0px 1px 2px rgba(0, 0, 0, 0.3));\n",
              "      fill: #FFFFFF;\n",
              "    }\n",
              "  </style>\n",
              "\n",
              "      <script>\n",
              "        const buttonEl =\n",
              "          document.querySelector('#df-f46b76ca-81b9-48c4-85d9-24ae91b2a2da button.colab-df-convert');\n",
              "        buttonEl.style.display =\n",
              "          google.colab.kernel.accessAllowed ? 'block' : 'none';\n",
              "\n",
              "        async function convertToInteractive(key) {\n",
              "          const element = document.querySelector('#df-f46b76ca-81b9-48c4-85d9-24ae91b2a2da');\n",
              "          const dataTable =\n",
              "            await google.colab.kernel.invokeFunction('convertToInteractive',\n",
              "                                                     [key], {});\n",
              "          if (!dataTable) return;\n",
              "\n",
              "          const docLinkHtml = 'Like what you see? Visit the ' +\n",
              "            '<a target=\"_blank\" href=https://colab.research.google.com/notebooks/data_table.ipynb>data table notebook</a>'\n",
              "            + ' to learn more about interactive tables.';\n",
              "          element.innerHTML = '';\n",
              "          dataTable['output_type'] = 'display_data';\n",
              "          await google.colab.output.renderOutput(dataTable, element);\n",
              "          const docLink = document.createElement('div');\n",
              "          docLink.innerHTML = docLinkHtml;\n",
              "          element.appendChild(docLink);\n",
              "        }\n",
              "      </script>\n",
              "    </div>\n",
              "  </div>\n",
              "  "
            ]
          },
          "metadata": {},
          "execution_count": 12
        }
      ]
    },
    {
      "cell_type": "markdown",
      "source": [
        "**Estrutura de dataframes**\n",
        "\n",
        "As linhas, colunas representam um formato relacional.\n",
        "\n",
        "As colunas e linhas podem ser nomeadas com rótulos."
      ],
      "metadata": {
        "id": "BstWnv1VABme"
      }
    },
    {
      "cell_type": "markdown",
      "source": [
        "<center><img src = \"https://pynative.com/wp-content/uploads/2021/02/dataframe.png\" width = \"700\">"
      ],
      "metadata": {
        "id": "goZA3-nI_G5-"
      }
    },
    {
      "cell_type": "code",
      "source": [
        "# Formato da data não reconhecido (dtype: object)\n",
        "\n",
        "data['Date']"
      ],
      "metadata": {
        "colab": {
          "base_uri": "https://localhost:8080/"
        },
        "id": "Edg7Ix8J_ffe",
        "outputId": "10420f7d-ef6f-4d3a-8659-4cb4a5ad9284"
      },
      "execution_count": 13,
      "outputs": [
        {
          "output_type": "execute_result",
          "data": {
            "text/plain": [
              "0       2000-01-03\n",
              "1       2000-01-04\n",
              "2       2000-01-05\n",
              "3       2000-01-06\n",
              "4       2000-01-07\n",
              "           ...    \n",
              "5765    2022-12-13\n",
              "5766    2022-12-14\n",
              "5767    2022-12-15\n",
              "5768    2022-12-16\n",
              "5769    2022-12-19\n",
              "Name: Date, Length: 5770, dtype: object"
            ]
          },
          "metadata": {},
          "execution_count": 13
        }
      ]
    },
    {
      "cell_type": "code",
      "source": [
        "data.dtypes"
      ],
      "metadata": {
        "colab": {
          "base_uri": "https://localhost:8080/"
        },
        "id": "jxCfPsoeAPEm",
        "outputId": "d1456852-f6f4-4d95-ca3b-294cf7e6645b"
      },
      "execution_count": 14,
      "outputs": [
        {
          "output_type": "execute_result",
          "data": {
            "text/plain": [
              "Date          object\n",
              "Open         float64\n",
              "High         float64\n",
              "Low          float64\n",
              "Close        float64\n",
              "Adj Close    float64\n",
              "Volume         int64\n",
              "dtype: object"
            ]
          },
          "metadata": {},
          "execution_count": 14
        }
      ]
    },
    {
      "cell_type": "code",
      "source": [
        "data.head()"
      ],
      "metadata": {
        "colab": {
          "base_uri": "https://localhost:8080/",
          "height": 206
        },
        "id": "plzT3Ik-AqD2",
        "outputId": "c9a51cf1-0455-4498-bf74-d5e268c7c1cf"
      },
      "execution_count": 15,
      "outputs": [
        {
          "output_type": "execute_result",
          "data": {
            "text/plain": [
              "         Date   Open   High    Low  Close  Adj Close       Volume\n",
              "0  2000-01-03  5.875  5.875  5.875  5.875   1.872027  35389440000\n",
              "1  2000-01-04  5.550  5.550  5.550  5.550   1.768469  28861440000\n",
              "2  2000-01-05  5.494  5.494  5.494  5.494   1.750625  43033600000\n",
              "3  2000-01-06  5.475  5.475  5.475  5.475   1.744570  34055680000\n",
              "4  2000-01-07  5.500  5.500  5.500  5.500   1.752536  20912640000"
            ],
            "text/html": [
              "\n",
              "  <div id=\"df-c5510f3a-639e-4092-9884-627bacef0873\">\n",
              "    <div class=\"colab-df-container\">\n",
              "      <div>\n",
              "<style scoped>\n",
              "    .dataframe tbody tr th:only-of-type {\n",
              "        vertical-align: middle;\n",
              "    }\n",
              "\n",
              "    .dataframe tbody tr th {\n",
              "        vertical-align: top;\n",
              "    }\n",
              "\n",
              "    .dataframe thead th {\n",
              "        text-align: right;\n",
              "    }\n",
              "</style>\n",
              "<table border=\"1\" class=\"dataframe\">\n",
              "  <thead>\n",
              "    <tr style=\"text-align: right;\">\n",
              "      <th></th>\n",
              "      <th>Date</th>\n",
              "      <th>Open</th>\n",
              "      <th>High</th>\n",
              "      <th>Low</th>\n",
              "      <th>Close</th>\n",
              "      <th>Adj Close</th>\n",
              "      <th>Volume</th>\n",
              "    </tr>\n",
              "  </thead>\n",
              "  <tbody>\n",
              "    <tr>\n",
              "      <th>0</th>\n",
              "      <td>2000-01-03</td>\n",
              "      <td>5.875</td>\n",
              "      <td>5.875</td>\n",
              "      <td>5.875</td>\n",
              "      <td>5.875</td>\n",
              "      <td>1.872027</td>\n",
              "      <td>35389440000</td>\n",
              "    </tr>\n",
              "    <tr>\n",
              "      <th>1</th>\n",
              "      <td>2000-01-04</td>\n",
              "      <td>5.550</td>\n",
              "      <td>5.550</td>\n",
              "      <td>5.550</td>\n",
              "      <td>5.550</td>\n",
              "      <td>1.768469</td>\n",
              "      <td>28861440000</td>\n",
              "    </tr>\n",
              "    <tr>\n",
              "      <th>2</th>\n",
              "      <td>2000-01-05</td>\n",
              "      <td>5.494</td>\n",
              "      <td>5.494</td>\n",
              "      <td>5.494</td>\n",
              "      <td>5.494</td>\n",
              "      <td>1.750625</td>\n",
              "      <td>43033600000</td>\n",
              "    </tr>\n",
              "    <tr>\n",
              "      <th>3</th>\n",
              "      <td>2000-01-06</td>\n",
              "      <td>5.475</td>\n",
              "      <td>5.475</td>\n",
              "      <td>5.475</td>\n",
              "      <td>5.475</td>\n",
              "      <td>1.744570</td>\n",
              "      <td>34055680000</td>\n",
              "    </tr>\n",
              "    <tr>\n",
              "      <th>4</th>\n",
              "      <td>2000-01-07</td>\n",
              "      <td>5.500</td>\n",
              "      <td>5.500</td>\n",
              "      <td>5.500</td>\n",
              "      <td>5.500</td>\n",
              "      <td>1.752536</td>\n",
              "      <td>20912640000</td>\n",
              "    </tr>\n",
              "  </tbody>\n",
              "</table>\n",
              "</div>\n",
              "      <button class=\"colab-df-convert\" onclick=\"convertToInteractive('df-c5510f3a-639e-4092-9884-627bacef0873')\"\n",
              "              title=\"Convert this dataframe to an interactive table.\"\n",
              "              style=\"display:none;\">\n",
              "        \n",
              "  <svg xmlns=\"http://www.w3.org/2000/svg\" height=\"24px\"viewBox=\"0 0 24 24\"\n",
              "       width=\"24px\">\n",
              "    <path d=\"M0 0h24v24H0V0z\" fill=\"none\"/>\n",
              "    <path d=\"M18.56 5.44l.94 2.06.94-2.06 2.06-.94-2.06-.94-.94-2.06-.94 2.06-2.06.94zm-11 1L8.5 8.5l.94-2.06 2.06-.94-2.06-.94L8.5 2.5l-.94 2.06-2.06.94zm10 10l.94 2.06.94-2.06 2.06-.94-2.06-.94-.94-2.06-.94 2.06-2.06.94z\"/><path d=\"M17.41 7.96l-1.37-1.37c-.4-.4-.92-.59-1.43-.59-.52 0-1.04.2-1.43.59L10.3 9.45l-7.72 7.72c-.78.78-.78 2.05 0 2.83L4 21.41c.39.39.9.59 1.41.59.51 0 1.02-.2 1.41-.59l7.78-7.78 2.81-2.81c.8-.78.8-2.07 0-2.86zM5.41 20L4 18.59l7.72-7.72 1.47 1.35L5.41 20z\"/>\n",
              "  </svg>\n",
              "      </button>\n",
              "      \n",
              "  <style>\n",
              "    .colab-df-container {\n",
              "      display:flex;\n",
              "      flex-wrap:wrap;\n",
              "      gap: 12px;\n",
              "    }\n",
              "\n",
              "    .colab-df-convert {\n",
              "      background-color: #E8F0FE;\n",
              "      border: none;\n",
              "      border-radius: 50%;\n",
              "      cursor: pointer;\n",
              "      display: none;\n",
              "      fill: #1967D2;\n",
              "      height: 32px;\n",
              "      padding: 0 0 0 0;\n",
              "      width: 32px;\n",
              "    }\n",
              "\n",
              "    .colab-df-convert:hover {\n",
              "      background-color: #E2EBFA;\n",
              "      box-shadow: 0px 1px 2px rgba(60, 64, 67, 0.3), 0px 1px 3px 1px rgba(60, 64, 67, 0.15);\n",
              "      fill: #174EA6;\n",
              "    }\n",
              "\n",
              "    [theme=dark] .colab-df-convert {\n",
              "      background-color: #3B4455;\n",
              "      fill: #D2E3FC;\n",
              "    }\n",
              "\n",
              "    [theme=dark] .colab-df-convert:hover {\n",
              "      background-color: #434B5C;\n",
              "      box-shadow: 0px 1px 3px 1px rgba(0, 0, 0, 0.15);\n",
              "      filter: drop-shadow(0px 1px 2px rgba(0, 0, 0, 0.3));\n",
              "      fill: #FFFFFF;\n",
              "    }\n",
              "  </style>\n",
              "\n",
              "      <script>\n",
              "        const buttonEl =\n",
              "          document.querySelector('#df-c5510f3a-639e-4092-9884-627bacef0873 button.colab-df-convert');\n",
              "        buttonEl.style.display =\n",
              "          google.colab.kernel.accessAllowed ? 'block' : 'none';\n",
              "\n",
              "        async function convertToInteractive(key) {\n",
              "          const element = document.querySelector('#df-c5510f3a-639e-4092-9884-627bacef0873');\n",
              "          const dataTable =\n",
              "            await google.colab.kernel.invokeFunction('convertToInteractive',\n",
              "                                                     [key], {});\n",
              "          if (!dataTable) return;\n",
              "\n",
              "          const docLinkHtml = 'Like what you see? Visit the ' +\n",
              "            '<a target=\"_blank\" href=https://colab.research.google.com/notebooks/data_table.ipynb>data table notebook</a>'\n",
              "            + ' to learn more about interactive tables.';\n",
              "          element.innerHTML = '';\n",
              "          dataTable['output_type'] = 'display_data';\n",
              "          await google.colab.output.renderOutput(dataTable, element);\n",
              "          const docLink = document.createElement('div');\n",
              "          docLink.innerHTML = docLinkHtml;\n",
              "          element.appendChild(docLink);\n",
              "        }\n",
              "      </script>\n",
              "    </div>\n",
              "  </div>\n",
              "  "
            ]
          },
          "metadata": {},
          "execution_count": 15
        }
      ]
    },
    {
      "cell_type": "markdown",
      "source": [
        "Agora sim: datetime64\n",
        "\n",
        "Apenas para plotagem no gráfico, falaremos com detalhes sobre a manipulação de objetos datetime mais a frente"
      ],
      "metadata": {
        "id": "p9Fu3iRmBgPF"
      }
    },
    {
      "cell_type": "code",
      "source": [
        "data['Date'] = pd.to_datetime(data['Date'])"
      ],
      "metadata": {
        "id": "210DrD7tA20-"
      },
      "execution_count": 16,
      "outputs": []
    },
    {
      "cell_type": "code",
      "source": [
        "data['Date']"
      ],
      "metadata": {
        "colab": {
          "base_uri": "https://localhost:8080/"
        },
        "id": "dzwF35gABBCG",
        "outputId": "92ca7aad-d238-4d2c-bae2-070bba6f7f3b"
      },
      "execution_count": 17,
      "outputs": [
        {
          "output_type": "execute_result",
          "data": {
            "text/plain": [
              "0      2000-01-03\n",
              "1      2000-01-04\n",
              "2      2000-01-05\n",
              "3      2000-01-06\n",
              "4      2000-01-07\n",
              "          ...    \n",
              "5765   2022-12-13\n",
              "5766   2022-12-14\n",
              "5767   2022-12-15\n",
              "5768   2022-12-16\n",
              "5769   2022-12-19\n",
              "Name: Date, Length: 5770, dtype: datetime64[ns]"
            ]
          },
          "metadata": {},
          "execution_count": 17
        }
      ]
    },
    {
      "cell_type": "markdown",
      "source": [
        "Inspecionar novamente"
      ],
      "metadata": {
        "id": "CSRxrGbWBVkm"
      }
    },
    {
      "cell_type": "code",
      "source": [
        "data.head()"
      ],
      "metadata": {
        "colab": {
          "base_uri": "https://localhost:8080/",
          "height": 206
        },
        "id": "7Ix94sacBTfW",
        "outputId": "9a031ed1-a441-40af-e3bd-f8f2854ea7b5"
      },
      "execution_count": 18,
      "outputs": [
        {
          "output_type": "execute_result",
          "data": {
            "text/plain": [
              "        Date   Open   High    Low  Close  Adj Close       Volume\n",
              "0 2000-01-03  5.875  5.875  5.875  5.875   1.872027  35389440000\n",
              "1 2000-01-04  5.550  5.550  5.550  5.550   1.768469  28861440000\n",
              "2 2000-01-05  5.494  5.494  5.494  5.494   1.750625  43033600000\n",
              "3 2000-01-06  5.475  5.475  5.475  5.475   1.744570  34055680000\n",
              "4 2000-01-07  5.500  5.500  5.500  5.500   1.752536  20912640000"
            ],
            "text/html": [
              "\n",
              "  <div id=\"df-393755a5-fa34-400f-89fb-9f7dab86f08b\">\n",
              "    <div class=\"colab-df-container\">\n",
              "      <div>\n",
              "<style scoped>\n",
              "    .dataframe tbody tr th:only-of-type {\n",
              "        vertical-align: middle;\n",
              "    }\n",
              "\n",
              "    .dataframe tbody tr th {\n",
              "        vertical-align: top;\n",
              "    }\n",
              "\n",
              "    .dataframe thead th {\n",
              "        text-align: right;\n",
              "    }\n",
              "</style>\n",
              "<table border=\"1\" class=\"dataframe\">\n",
              "  <thead>\n",
              "    <tr style=\"text-align: right;\">\n",
              "      <th></th>\n",
              "      <th>Date</th>\n",
              "      <th>Open</th>\n",
              "      <th>High</th>\n",
              "      <th>Low</th>\n",
              "      <th>Close</th>\n",
              "      <th>Adj Close</th>\n",
              "      <th>Volume</th>\n",
              "    </tr>\n",
              "  </thead>\n",
              "  <tbody>\n",
              "    <tr>\n",
              "      <th>0</th>\n",
              "      <td>2000-01-03</td>\n",
              "      <td>5.875</td>\n",
              "      <td>5.875</td>\n",
              "      <td>5.875</td>\n",
              "      <td>5.875</td>\n",
              "      <td>1.872027</td>\n",
              "      <td>35389440000</td>\n",
              "    </tr>\n",
              "    <tr>\n",
              "      <th>1</th>\n",
              "      <td>2000-01-04</td>\n",
              "      <td>5.550</td>\n",
              "      <td>5.550</td>\n",
              "      <td>5.550</td>\n",
              "      <td>5.550</td>\n",
              "      <td>1.768469</td>\n",
              "      <td>28861440000</td>\n",
              "    </tr>\n",
              "    <tr>\n",
              "      <th>2</th>\n",
              "      <td>2000-01-05</td>\n",
              "      <td>5.494</td>\n",
              "      <td>5.494</td>\n",
              "      <td>5.494</td>\n",
              "      <td>5.494</td>\n",
              "      <td>1.750625</td>\n",
              "      <td>43033600000</td>\n",
              "    </tr>\n",
              "    <tr>\n",
              "      <th>3</th>\n",
              "      <td>2000-01-06</td>\n",
              "      <td>5.475</td>\n",
              "      <td>5.475</td>\n",
              "      <td>5.475</td>\n",
              "      <td>5.475</td>\n",
              "      <td>1.744570</td>\n",
              "      <td>34055680000</td>\n",
              "    </tr>\n",
              "    <tr>\n",
              "      <th>4</th>\n",
              "      <td>2000-01-07</td>\n",
              "      <td>5.500</td>\n",
              "      <td>5.500</td>\n",
              "      <td>5.500</td>\n",
              "      <td>5.500</td>\n",
              "      <td>1.752536</td>\n",
              "      <td>20912640000</td>\n",
              "    </tr>\n",
              "  </tbody>\n",
              "</table>\n",
              "</div>\n",
              "      <button class=\"colab-df-convert\" onclick=\"convertToInteractive('df-393755a5-fa34-400f-89fb-9f7dab86f08b')\"\n",
              "              title=\"Convert this dataframe to an interactive table.\"\n",
              "              style=\"display:none;\">\n",
              "        \n",
              "  <svg xmlns=\"http://www.w3.org/2000/svg\" height=\"24px\"viewBox=\"0 0 24 24\"\n",
              "       width=\"24px\">\n",
              "    <path d=\"M0 0h24v24H0V0z\" fill=\"none\"/>\n",
              "    <path d=\"M18.56 5.44l.94 2.06.94-2.06 2.06-.94-2.06-.94-.94-2.06-.94 2.06-2.06.94zm-11 1L8.5 8.5l.94-2.06 2.06-.94-2.06-.94L8.5 2.5l-.94 2.06-2.06.94zm10 10l.94 2.06.94-2.06 2.06-.94-2.06-.94-.94-2.06-.94 2.06-2.06.94z\"/><path d=\"M17.41 7.96l-1.37-1.37c-.4-.4-.92-.59-1.43-.59-.52 0-1.04.2-1.43.59L10.3 9.45l-7.72 7.72c-.78.78-.78 2.05 0 2.83L4 21.41c.39.39.9.59 1.41.59.51 0 1.02-.2 1.41-.59l7.78-7.78 2.81-2.81c.8-.78.8-2.07 0-2.86zM5.41 20L4 18.59l7.72-7.72 1.47 1.35L5.41 20z\"/>\n",
              "  </svg>\n",
              "      </button>\n",
              "      \n",
              "  <style>\n",
              "    .colab-df-container {\n",
              "      display:flex;\n",
              "      flex-wrap:wrap;\n",
              "      gap: 12px;\n",
              "    }\n",
              "\n",
              "    .colab-df-convert {\n",
              "      background-color: #E8F0FE;\n",
              "      border: none;\n",
              "      border-radius: 50%;\n",
              "      cursor: pointer;\n",
              "      display: none;\n",
              "      fill: #1967D2;\n",
              "      height: 32px;\n",
              "      padding: 0 0 0 0;\n",
              "      width: 32px;\n",
              "    }\n",
              "\n",
              "    .colab-df-convert:hover {\n",
              "      background-color: #E2EBFA;\n",
              "      box-shadow: 0px 1px 2px rgba(60, 64, 67, 0.3), 0px 1px 3px 1px rgba(60, 64, 67, 0.15);\n",
              "      fill: #174EA6;\n",
              "    }\n",
              "\n",
              "    [theme=dark] .colab-df-convert {\n",
              "      background-color: #3B4455;\n",
              "      fill: #D2E3FC;\n",
              "    }\n",
              "\n",
              "    [theme=dark] .colab-df-convert:hover {\n",
              "      background-color: #434B5C;\n",
              "      box-shadow: 0px 1px 3px 1px rgba(0, 0, 0, 0.15);\n",
              "      filter: drop-shadow(0px 1px 2px rgba(0, 0, 0, 0.3));\n",
              "      fill: #FFFFFF;\n",
              "    }\n",
              "  </style>\n",
              "\n",
              "      <script>\n",
              "        const buttonEl =\n",
              "          document.querySelector('#df-393755a5-fa34-400f-89fb-9f7dab86f08b button.colab-df-convert');\n",
              "        buttonEl.style.display =\n",
              "          google.colab.kernel.accessAllowed ? 'block' : 'none';\n",
              "\n",
              "        async function convertToInteractive(key) {\n",
              "          const element = document.querySelector('#df-393755a5-fa34-400f-89fb-9f7dab86f08b');\n",
              "          const dataTable =\n",
              "            await google.colab.kernel.invokeFunction('convertToInteractive',\n",
              "                                                     [key], {});\n",
              "          if (!dataTable) return;\n",
              "\n",
              "          const docLinkHtml = 'Like what you see? Visit the ' +\n",
              "            '<a target=\"_blank\" href=https://colab.research.google.com/notebooks/data_table.ipynb>data table notebook</a>'\n",
              "            + ' to learn more about interactive tables.';\n",
              "          element.innerHTML = '';\n",
              "          dataTable['output_type'] = 'display_data';\n",
              "          await google.colab.output.renderOutput(dataTable, element);\n",
              "          const docLink = document.createElement('div');\n",
              "          docLink.innerHTML = docLinkHtml;\n",
              "          element.appendChild(docLink);\n",
              "        }\n",
              "      </script>\n",
              "    </div>\n",
              "  </div>\n",
              "  "
            ]
          },
          "metadata": {},
          "execution_count": 18
        }
      ]
    },
    {
      "cell_type": "markdown",
      "source": [
        "Como transformamos a coluna 'Date' no index do dataframe?"
      ],
      "metadata": {
        "id": "DMOSGRfqBU32"
      }
    },
    {
      "cell_type": "code",
      "source": [
        "data.index = data['Date']"
      ],
      "metadata": {
        "id": "yhuNx7ggB6e3"
      },
      "execution_count": 19,
      "outputs": []
    },
    {
      "cell_type": "markdown",
      "source": [
        "Inspecionar novamente"
      ],
      "metadata": {
        "id": "cIhPUwBuCB9H"
      }
    },
    {
      "cell_type": "code",
      "source": [
        "data.head()"
      ],
      "metadata": {
        "colab": {
          "base_uri": "https://localhost:8080/",
          "height": 238
        },
        "id": "kK9MamFsCNqu",
        "outputId": "f5de70af-6e5c-479f-8171-aee03bb5c943"
      },
      "execution_count": 25,
      "outputs": [
        {
          "output_type": "execute_result",
          "data": {
            "text/plain": [
              "                 Date   Open   High    Low  Close  Adj Close       Volume\n",
              "Date                                                                     \n",
              "2000-01-03 2000-01-03  5.875  5.875  5.875  5.875   1.872027  35389440000\n",
              "2000-01-04 2000-01-04  5.550  5.550  5.550  5.550   1.768469  28861440000\n",
              "2000-01-05 2000-01-05  5.494  5.494  5.494  5.494   1.750625  43033600000\n",
              "2000-01-06 2000-01-06  5.475  5.475  5.475  5.475   1.744570  34055680000\n",
              "2000-01-07 2000-01-07  5.500  5.500  5.500  5.500   1.752536  20912640000"
            ],
            "text/html": [
              "\n",
              "  <div id=\"df-3a5943ab-1e71-45ed-a845-f5d44af88cc8\">\n",
              "    <div class=\"colab-df-container\">\n",
              "      <div>\n",
              "<style scoped>\n",
              "    .dataframe tbody tr th:only-of-type {\n",
              "        vertical-align: middle;\n",
              "    }\n",
              "\n",
              "    .dataframe tbody tr th {\n",
              "        vertical-align: top;\n",
              "    }\n",
              "\n",
              "    .dataframe thead th {\n",
              "        text-align: right;\n",
              "    }\n",
              "</style>\n",
              "<table border=\"1\" class=\"dataframe\">\n",
              "  <thead>\n",
              "    <tr style=\"text-align: right;\">\n",
              "      <th></th>\n",
              "      <th>Date</th>\n",
              "      <th>Open</th>\n",
              "      <th>High</th>\n",
              "      <th>Low</th>\n",
              "      <th>Close</th>\n",
              "      <th>Adj Close</th>\n",
              "      <th>Volume</th>\n",
              "    </tr>\n",
              "    <tr>\n",
              "      <th>Date</th>\n",
              "      <th></th>\n",
              "      <th></th>\n",
              "      <th></th>\n",
              "      <th></th>\n",
              "      <th></th>\n",
              "      <th></th>\n",
              "      <th></th>\n",
              "    </tr>\n",
              "  </thead>\n",
              "  <tbody>\n",
              "    <tr>\n",
              "      <th>2000-01-03</th>\n",
              "      <td>2000-01-03</td>\n",
              "      <td>5.875</td>\n",
              "      <td>5.875</td>\n",
              "      <td>5.875</td>\n",
              "      <td>5.875</td>\n",
              "      <td>1.872027</td>\n",
              "      <td>35389440000</td>\n",
              "    </tr>\n",
              "    <tr>\n",
              "      <th>2000-01-04</th>\n",
              "      <td>2000-01-04</td>\n",
              "      <td>5.550</td>\n",
              "      <td>5.550</td>\n",
              "      <td>5.550</td>\n",
              "      <td>5.550</td>\n",
              "      <td>1.768469</td>\n",
              "      <td>28861440000</td>\n",
              "    </tr>\n",
              "    <tr>\n",
              "      <th>2000-01-05</th>\n",
              "      <td>2000-01-05</td>\n",
              "      <td>5.494</td>\n",
              "      <td>5.494</td>\n",
              "      <td>5.494</td>\n",
              "      <td>5.494</td>\n",
              "      <td>1.750625</td>\n",
              "      <td>43033600000</td>\n",
              "    </tr>\n",
              "    <tr>\n",
              "      <th>2000-01-06</th>\n",
              "      <td>2000-01-06</td>\n",
              "      <td>5.475</td>\n",
              "      <td>5.475</td>\n",
              "      <td>5.475</td>\n",
              "      <td>5.475</td>\n",
              "      <td>1.744570</td>\n",
              "      <td>34055680000</td>\n",
              "    </tr>\n",
              "    <tr>\n",
              "      <th>2000-01-07</th>\n",
              "      <td>2000-01-07</td>\n",
              "      <td>5.500</td>\n",
              "      <td>5.500</td>\n",
              "      <td>5.500</td>\n",
              "      <td>5.500</td>\n",
              "      <td>1.752536</td>\n",
              "      <td>20912640000</td>\n",
              "    </tr>\n",
              "  </tbody>\n",
              "</table>\n",
              "</div>\n",
              "      <button class=\"colab-df-convert\" onclick=\"convertToInteractive('df-3a5943ab-1e71-45ed-a845-f5d44af88cc8')\"\n",
              "              title=\"Convert this dataframe to an interactive table.\"\n",
              "              style=\"display:none;\">\n",
              "        \n",
              "  <svg xmlns=\"http://www.w3.org/2000/svg\" height=\"24px\"viewBox=\"0 0 24 24\"\n",
              "       width=\"24px\">\n",
              "    <path d=\"M0 0h24v24H0V0z\" fill=\"none\"/>\n",
              "    <path d=\"M18.56 5.44l.94 2.06.94-2.06 2.06-.94-2.06-.94-.94-2.06-.94 2.06-2.06.94zm-11 1L8.5 8.5l.94-2.06 2.06-.94-2.06-.94L8.5 2.5l-.94 2.06-2.06.94zm10 10l.94 2.06.94-2.06 2.06-.94-2.06-.94-.94-2.06-.94 2.06-2.06.94z\"/><path d=\"M17.41 7.96l-1.37-1.37c-.4-.4-.92-.59-1.43-.59-.52 0-1.04.2-1.43.59L10.3 9.45l-7.72 7.72c-.78.78-.78 2.05 0 2.83L4 21.41c.39.39.9.59 1.41.59.51 0 1.02-.2 1.41-.59l7.78-7.78 2.81-2.81c.8-.78.8-2.07 0-2.86zM5.41 20L4 18.59l7.72-7.72 1.47 1.35L5.41 20z\"/>\n",
              "  </svg>\n",
              "      </button>\n",
              "      \n",
              "  <style>\n",
              "    .colab-df-container {\n",
              "      display:flex;\n",
              "      flex-wrap:wrap;\n",
              "      gap: 12px;\n",
              "    }\n",
              "\n",
              "    .colab-df-convert {\n",
              "      background-color: #E8F0FE;\n",
              "      border: none;\n",
              "      border-radius: 50%;\n",
              "      cursor: pointer;\n",
              "      display: none;\n",
              "      fill: #1967D2;\n",
              "      height: 32px;\n",
              "      padding: 0 0 0 0;\n",
              "      width: 32px;\n",
              "    }\n",
              "\n",
              "    .colab-df-convert:hover {\n",
              "      background-color: #E2EBFA;\n",
              "      box-shadow: 0px 1px 2px rgba(60, 64, 67, 0.3), 0px 1px 3px 1px rgba(60, 64, 67, 0.15);\n",
              "      fill: #174EA6;\n",
              "    }\n",
              "\n",
              "    [theme=dark] .colab-df-convert {\n",
              "      background-color: #3B4455;\n",
              "      fill: #D2E3FC;\n",
              "    }\n",
              "\n",
              "    [theme=dark] .colab-df-convert:hover {\n",
              "      background-color: #434B5C;\n",
              "      box-shadow: 0px 1px 3px 1px rgba(0, 0, 0, 0.15);\n",
              "      filter: drop-shadow(0px 1px 2px rgba(0, 0, 0, 0.3));\n",
              "      fill: #FFFFFF;\n",
              "    }\n",
              "  </style>\n",
              "\n",
              "      <script>\n",
              "        const buttonEl =\n",
              "          document.querySelector('#df-3a5943ab-1e71-45ed-a845-f5d44af88cc8 button.colab-df-convert');\n",
              "        buttonEl.style.display =\n",
              "          google.colab.kernel.accessAllowed ? 'block' : 'none';\n",
              "\n",
              "        async function convertToInteractive(key) {\n",
              "          const element = document.querySelector('#df-3a5943ab-1e71-45ed-a845-f5d44af88cc8');\n",
              "          const dataTable =\n",
              "            await google.colab.kernel.invokeFunction('convertToInteractive',\n",
              "                                                     [key], {});\n",
              "          if (!dataTable) return;\n",
              "\n",
              "          const docLinkHtml = 'Like what you see? Visit the ' +\n",
              "            '<a target=\"_blank\" href=https://colab.research.google.com/notebooks/data_table.ipynb>data table notebook</a>'\n",
              "            + ' to learn more about interactive tables.';\n",
              "          element.innerHTML = '';\n",
              "          dataTable['output_type'] = 'display_data';\n",
              "          await google.colab.output.renderOutput(dataTable, element);\n",
              "          const docLink = document.createElement('div');\n",
              "          docLink.innerHTML = docLinkHtml;\n",
              "          element.appendChild(docLink);\n",
              "        }\n",
              "      </script>\n",
              "    </div>\n",
              "  </div>\n",
              "  "
            ]
          },
          "metadata": {},
          "execution_count": 25
        }
      ]
    },
    {
      "cell_type": "markdown",
      "source": [
        "Observe a diferença no eixo x"
      ],
      "metadata": {
        "id": "2oAGWrhtCQ02"
      }
    },
    {
      "cell_type": "code",
      "source": [
        "data.Close.plot();"
      ],
      "metadata": {
        "colab": {
          "base_uri": "https://localhost:8080/",
          "height": 422
        },
        "id": "pYgpKvOyCfCG",
        "outputId": "10a82246-fb92-42a0-8256-666e06dba9df"
      },
      "execution_count": 21,
      "outputs": [
        {
          "output_type": "display_data",
          "data": {
            "text/plain": [
              "<Figure size 640x480 with 1 Axes>"
            ],
            "image/png": "[encoded data removed]"
          },
          "metadata": {}
        }
      ]
    },
    {
      "cell_type": "markdown",
      "source": [
        "Verificar o nome das colunas"
      ],
      "metadata": {
        "id": "6HUhcepVCjCG"
      }
    },
    {
      "cell_type": "code",
      "source": [
        "lista = data.columns"
      ],
      "metadata": {
        "id": "KjlgWE2oCuBe"
      },
      "execution_count": 22,
      "outputs": []
    },
    {
      "cell_type": "code",
      "source": [
        "lista"
      ],
      "metadata": {
        "colab": {
          "base_uri": "https://localhost:8080/"
        },
        "id": "mx3dT39cCxkd",
        "outputId": "7f681703-b676-4e99-bf8b-4c44898250a9"
      },
      "execution_count": 23,
      "outputs": [
        {
          "output_type": "execute_result",
          "data": {
            "text/plain": [
              "Index(['Date', 'Open', 'High', 'Low', 'Close', 'Adj Close', 'Volume'], dtype='object')"
            ]
          },
          "metadata": {},
          "execution_count": 23
        }
      ]
    },
    {
      "cell_type": "markdown",
      "source": [
        "Verifica as dimensões do dataframe"
      ],
      "metadata": {
        "id": "M227lePHDC--"
      }
    },
    {
      "cell_type": "code",
      "source": [
        "data.shape"
      ],
      "metadata": {
        "colab": {
          "base_uri": "https://localhost:8080/"
        },
        "id": "Zx_jFwS1C7Rl",
        "outputId": "d92c80ab-818b-4a80-a8fc-29a766381931"
      },
      "execution_count": 27,
      "outputs": [
        {
          "output_type": "execute_result",
          "data": {
            "text/plain": [
              "(5770, 7)"
            ]
          },
          "metadata": {},
          "execution_count": 27
        }
      ]
    },
    {
      "cell_type": "markdown",
      "source": [
        "Verifica os tipos de dados por coluna"
      ],
      "metadata": {
        "id": "-vIzknG3DAjF"
      }
    },
    {
      "cell_type": "code",
      "source": [
        "data.dtypes"
      ],
      "metadata": {
        "colab": {
          "base_uri": "https://localhost:8080/"
        },
        "id": "d39PC3EvDGzO",
        "outputId": "a1afac01-882e-4608-9545-7da2ccaa6ec0"
      },
      "execution_count": 26,
      "outputs": [
        {
          "output_type": "execute_result",
          "data": {
            "text/plain": [
              "Date         datetime64[ns]\n",
              "Open                float64\n",
              "High                float64\n",
              "Low                 float64\n",
              "Close               float64\n",
              "Adj Close           float64\n",
              "Volume                int64\n",
              "dtype: object"
            ]
          },
          "metadata": {},
          "execution_count": 26
        }
      ]
    },
    {
      "cell_type": "markdown",
      "source": [
        "Qual foi o maior preço de PETR4?"
      ],
      "metadata": {
        "id": "HG28LdBcDH0O"
      }
    },
    {
      "cell_type": "markdown",
      "source": [
        "Valor máximo da coluna"
      ],
      "metadata": {
        "id": "3JcYolI7E6I9"
      }
    },
    {
      "cell_type": "code",
      "source": [
        "data.Close.max()"
      ],
      "metadata": {
        "colab": {
          "base_uri": "https://localhost:8080/"
        },
        "id": "6dHrqbGcE9vF",
        "outputId": "9af8c94f-e105-4991-ee65-c27bc63d8057"
      },
      "execution_count": 28,
      "outputs": [
        {
          "output_type": "execute_result",
          "data": {
            "text/plain": [
              "52.5099983215332"
            ]
          },
          "metadata": {},
          "execution_count": 28
        }
      ]
    },
    {
      "cell_type": "markdown",
      "source": [
        "Valor mínimo da coluna"
      ],
      "metadata": {
        "id": "NL0xXBQTFDrd"
      }
    },
    {
      "cell_type": "code",
      "source": [
        "data.Close.min()"
      ],
      "metadata": {
        "colab": {
          "base_uri": "https://localhost:8080/"
        },
        "id": "f6qahBfSFFfl",
        "outputId": "90d82a5a-f9ea-435f-f061-6398ef6eb5a0"
      },
      "execution_count": 29,
      "outputs": [
        {
          "output_type": "execute_result",
          "data": {
            "text/plain": [
              "4.199999809265137"
            ]
          },
          "metadata": {},
          "execution_count": 29
        }
      ]
    },
    {
      "cell_type": "markdown",
      "source": [
        "Podemos fazer isso para outras colunas"
      ],
      "metadata": {
        "id": "EXN5GeAUFI2c"
      }
    },
    {
      "cell_type": "code",
      "source": [
        "data.High.max()"
      ],
      "metadata": {
        "colab": {
          "base_uri": "https://localhost:8080/"
        },
        "id": "QFs6Y6TyFQI0",
        "outputId": "8d8c1e0d-e612-4aa8-bfe8-d7b16b590f1f"
      },
      "execution_count": 30,
      "outputs": [
        {
          "output_type": "execute_result",
          "data": {
            "text/plain": [
              "67.5"
            ]
          },
          "metadata": {},
          "execution_count": 30
        }
      ]
    },
    {
      "cell_type": "code",
      "source": [
        "data.High.min()"
      ],
      "metadata": {
        "colab": {
          "base_uri": "https://localhost:8080/"
        },
        "id": "qrwu8K3xFecN",
        "outputId": "5d6604f1-8ea6-47f9-c179-5b1821efb3a8"
      },
      "execution_count": 31,
      "outputs": [
        {
          "output_type": "execute_result",
          "data": {
            "text/plain": [
              "4.269999980926514"
            ]
          },
          "metadata": {},
          "execution_count": 31
        }
      ]
    },
    {
      "cell_type": "markdown",
      "source": [
        "Valor médio de uma coluna"
      ],
      "metadata": {
        "id": "IgK8BfEKFimt"
      }
    },
    {
      "cell_type": "code",
      "source": [
        "data.Close.mean()"
      ],
      "metadata": {
        "colab": {
          "base_uri": "https://localhost:8080/"
        },
        "id": "Fmy3bG0PFpS8",
        "outputId": "bb7c313f-6061-450b-9c3d-3f61f9ef2c44"
      },
      "execution_count": 32,
      "outputs": [
        {
          "output_type": "execute_result",
          "data": {
            "text/plain": [
              "18.983105641882382"
            ]
          },
          "metadata": {},
          "execution_count": 32
        }
      ]
    },
    {
      "cell_type": "markdown",
      "source": [
        "Valor da mediana?"
      ],
      "metadata": {
        "id": "_ktzNZGLFrHs"
      }
    },
    {
      "cell_type": "code",
      "source": [
        "data.Close.median()"
      ],
      "metadata": {
        "colab": {
          "base_uri": "https://localhost:8080/"
        },
        "id": "0W3tI36aFvgU",
        "outputId": "1c97ee7f-4c34-4dea-ca57-1582a05c11c7"
      },
      "execution_count": 33,
      "outputs": [
        {
          "output_type": "execute_result",
          "data": {
            "text/plain": [
              "19.255000114440918"
            ]
          },
          "metadata": {},
          "execution_count": 33
        }
      ]
    },
    {
      "cell_type": "markdown",
      "source": [
        "Valor da moda"
      ],
      "metadata": {
        "id": "fKIrtKi7Fxa1"
      }
    },
    {
      "cell_type": "code",
      "source": [
        "data.Close.mode()"
      ],
      "metadata": {
        "colab": {
          "base_uri": "https://localhost:8080/"
        },
        "id": "-AWoPIEKGRQF",
        "outputId": "79e8909d-b0b6-45f8-d1f6-17a220127b4c"
      },
      "execution_count": 34,
      "outputs": [
        {
          "output_type": "execute_result",
          "data": {
            "text/plain": [
              "0    23.5\n",
              "Name: Close, dtype: float64"
            ]
          },
          "metadata": {},
          "execution_count": 34
        }
      ]
    },
    {
      "cell_type": "markdown",
      "source": [
        "Valor da variância"
      ],
      "metadata": {
        "id": "Tga_k0AcGTdV"
      }
    },
    {
      "cell_type": "code",
      "source": [
        "data.Close.var()"
      ],
      "metadata": {
        "colab": {
          "base_uri": "https://localhost:8080/"
        },
        "id": "AYqaKpTJGYWU",
        "outputId": "3cd9aa2b-f8fa-423e-e554-58cb79a60cba"
      },
      "execution_count": 35,
      "outputs": [
        {
          "output_type": "execute_result",
          "data": {
            "text/plain": [
              "91.58168462628566"
            ]
          },
          "metadata": {},
          "execution_count": 35
        }
      ]
    },
    {
      "cell_type": "markdown",
      "source": [
        "Valor do desvio-padrão"
      ],
      "metadata": {
        "id": "k3B0OW2gGZXc"
      }
    },
    {
      "cell_type": "code",
      "source": [
        "data.Close.std()"
      ],
      "metadata": {
        "colab": {
          "base_uri": "https://localhost:8080/"
        },
        "id": "fA00sn0PGfNs",
        "outputId": "8b261e82-ee8a-49f0-db85-a109ac366af5"
      },
      "execution_count": 36,
      "outputs": [
        {
          "output_type": "execute_result",
          "data": {
            "text/plain": [
              "9.56983200616843"
            ]
          },
          "metadata": {},
          "execution_count": 36
        }
      ]
    },
    {
      "cell_type": "markdown",
      "source": [
        "#### **Método pct_change()**"
      ],
      "metadata": {
        "id": "-BBgrZ3_Gg3c"
      }
    },
    {
      "cell_type": "code",
      "source": [
        "data.head()"
      ],
      "metadata": {
        "colab": {
          "base_uri": "https://localhost:8080/",
          "height": 238
        },
        "id": "AuOXRhObGs18",
        "outputId": "2d0751d6-af26-4228-c613-2a1ca6160bb1"
      },
      "execution_count": 37,
      "outputs": [
        {
          "output_type": "execute_result",
          "data": {
            "text/plain": [
              "                 Date   Open   High    Low  Close  Adj Close       Volume\n",
              "Date                                                                     \n",
              "2000-01-03 2000-01-03  5.875  5.875  5.875  5.875   1.872027  35389440000\n",
              "2000-01-04 2000-01-04  5.550  5.550  5.550  5.550   1.768469  28861440000\n",
              "2000-01-05 2000-01-05  5.494  5.494  5.494  5.494   1.750625  43033600000\n",
              "2000-01-06 2000-01-06  5.475  5.475  5.475  5.475   1.744570  34055680000\n",
              "2000-01-07 2000-01-07  5.500  5.500  5.500  5.500   1.752536  20912640000"
            ],
            "text/html": [
              "\n",
              "  <div id=\"df-170b2e25-ceac-48c9-8c17-7796af7397e9\">\n",
              "    <div class=\"colab-df-container\">\n",
              "      <div>\n",
              "<style scoped>\n",
              "    .dataframe tbody tr th:only-of-type {\n",
              "        vertical-align: middle;\n",
              "    }\n",
              "\n",
              "    .dataframe tbody tr th {\n",
              "        vertical-align: top;\n",
              "    }\n",
              "\n",
              "    .dataframe thead th {\n",
              "        text-align: right;\n",
              "    }\n",
              "</style>\n",
              "<table border=\"1\" class=\"dataframe\">\n",
              "  <thead>\n",
              "    <tr style=\"text-align: right;\">\n",
              "      <th></th>\n",
              "      <th>Date</th>\n",
              "      <th>Open</th>\n",
              "      <th>High</th>\n",
              "      <th>Low</th>\n",
              "      <th>Close</th>\n",
              "      <th>Adj Close</th>\n",
              "      <th>Volume</th>\n",
              "    </tr>\n",
              "    <tr>\n",
              "      <th>Date</th>\n",
              "      <th></th>\n",
              "      <th></th>\n",
              "      <th></th>\n",
              "      <th></th>\n",
              "      <th></th>\n",
              "      <th></th>\n",
              "      <th></th>\n",
              "    </tr>\n",
              "  </thead>\n",
              "  <tbody>\n",
              "    <tr>\n",
              "      <th>2000-01-03</th>\n",
              "      <td>2000-01-03</td>\n",
              "      <td>5.875</td>\n",
              "      <td>5.875</td>\n",
              "      <td>5.875</td>\n",
              "      <td>5.875</td>\n",
              "      <td>1.872027</td>\n",
              "      <td>35389440000</td>\n",
              "    </tr>\n",
              "    <tr>\n",
              "      <th>2000-01-04</th>\n",
              "      <td>2000-01-04</td>\n",
              "      <td>5.550</td>\n",
              "      <td>5.550</td>\n",
              "      <td>5.550</td>\n",
              "      <td>5.550</td>\n",
              "      <td>1.768469</td>\n",
              "      <td>28861440000</td>\n",
              "    </tr>\n",
              "    <tr>\n",
              "      <th>2000-01-05</th>\n",
              "      <td>2000-01-05</td>\n",
              "      <td>5.494</td>\n",
              "      <td>5.494</td>\n",
              "      <td>5.494</td>\n",
              "      <td>5.494</td>\n",
              "      <td>1.750625</td>\n",
              "      <td>43033600000</td>\n",
              "    </tr>\n",
              "    <tr>\n",
              "      <th>2000-01-06</th>\n",
              "      <td>2000-01-06</td>\n",
              "      <td>5.475</td>\n",
              "      <td>5.475</td>\n",
              "      <td>5.475</td>\n",
              "      <td>5.475</td>\n",
              "      <td>1.744570</td>\n",
              "      <td>34055680000</td>\n",
              "    </tr>\n",
              "    <tr>\n",
              "      <th>2000-01-07</th>\n",
              "      <td>2000-01-07</td>\n",
              "      <td>5.500</td>\n",
              "      <td>5.500</td>\n",
              "      <td>5.500</td>\n",
              "      <td>5.500</td>\n",
              "      <td>1.752536</td>\n",
              "      <td>20912640000</td>\n",
              "    </tr>\n",
              "  </tbody>\n",
              "</table>\n",
              "</div>\n",
              "      <button class=\"colab-df-convert\" onclick=\"convertToInteractive('df-170b2e25-ceac-48c9-8c17-7796af7397e9')\"\n",
              "              title=\"Convert this dataframe to an interactive table.\"\n",
              "              style=\"display:none;\">\n",
              "        \n",
              "  <svg xmlns=\"http://www.w3.org/2000/svg\" height=\"24px\"viewBox=\"0 0 24 24\"\n",
              "       width=\"24px\">\n",
              "    <path d=\"M0 0h24v24H0V0z\" fill=\"none\"/>\n",
              "    <path d=\"M18.56 5.44l.94 2.06.94-2.06 2.06-.94-2.06-.94-.94-2.06-.94 2.06-2.06.94zm-11 1L8.5 8.5l.94-2.06 2.06-.94-2.06-.94L8.5 2.5l-.94 2.06-2.06.94zm10 10l.94 2.06.94-2.06 2.06-.94-2.06-.94-.94-2.06-.94 2.06-2.06.94z\"/><path d=\"M17.41 7.96l-1.37-1.37c-.4-.4-.92-.59-1.43-.59-.52 0-1.04.2-1.43.59L10.3 9.45l-7.72 7.72c-.78.78-.78 2.05 0 2.83L4 21.41c.39.39.9.59 1.41.59.51 0 1.02-.2 1.41-.59l7.78-7.78 2.81-2.81c.8-.78.8-2.07 0-2.86zM5.41 20L4 18.59l7.72-7.72 1.47 1.35L5.41 20z\"/>\n",
              "  </svg>\n",
              "      </button>\n",
              "      \n",
              "  <style>\n",
              "    .colab-df-container {\n",
              "      display:flex;\n",
              "      flex-wrap:wrap;\n",
              "      gap: 12px;\n",
              "    }\n",
              "\n",
              "    .colab-df-convert {\n",
              "      background-color: #E8F0FE;\n",
              "      border: none;\n",
              "      border-radius: 50%;\n",
              "      cursor: pointer;\n",
              "      display: none;\n",
              "      fill: #1967D2;\n",
              "      height: 32px;\n",
              "      padding: 0 0 0 0;\n",
              "      width: 32px;\n",
              "    }\n",
              "\n",
              "    .colab-df-convert:hover {\n",
              "      background-color: #E2EBFA;\n",
              "      box-shadow: 0px 1px 2px rgba(60, 64, 67, 0.3), 0px 1px 3px 1px rgba(60, 64, 67, 0.15);\n",
              "      fill: #174EA6;\n",
              "    }\n",
              "\n",
              "    [theme=dark] .colab-df-convert {\n",
              "      background-color: #3B4455;\n",
              "      fill: #D2E3FC;\n",
              "    }\n",
              "\n",
              "    [theme=dark] .colab-df-convert:hover {\n",
              "      background-color: #434B5C;\n",
              "      box-shadow: 0px 1px 3px 1px rgba(0, 0, 0, 0.15);\n",
              "      filter: drop-shadow(0px 1px 2px rgba(0, 0, 0, 0.3));\n",
              "      fill: #FFFFFF;\n",
              "    }\n",
              "  </style>\n",
              "\n",
              "      <script>\n",
              "        const buttonEl =\n",
              "          document.querySelector('#df-170b2e25-ceac-48c9-8c17-7796af7397e9 button.colab-df-convert');\n",
              "        buttonEl.style.display =\n",
              "          google.colab.kernel.accessAllowed ? 'block' : 'none';\n",
              "\n",
              "        async function convertToInteractive(key) {\n",
              "          const element = document.querySelector('#df-170b2e25-ceac-48c9-8c17-7796af7397e9');\n",
              "          const dataTable =\n",
              "            await google.colab.kernel.invokeFunction('convertToInteractive',\n",
              "                                                     [key], {});\n",
              "          if (!dataTable) return;\n",
              "\n",
              "          const docLinkHtml = 'Like what you see? Visit the ' +\n",
              "            '<a target=\"_blank\" href=https://colab.research.google.com/notebooks/data_table.ipynb>data table notebook</a>'\n",
              "            + ' to learn more about interactive tables.';\n",
              "          element.innerHTML = '';\n",
              "          dataTable['output_type'] = 'display_data';\n",
              "          await google.colab.output.renderOutput(dataTable, element);\n",
              "          const docLink = document.createElement('div');\n",
              "          docLink.innerHTML = docLinkHtml;\n",
              "          element.appendChild(docLink);\n",
              "        }\n",
              "      </script>\n",
              "    </div>\n",
              "  </div>\n",
              "  "
            ]
          },
          "metadata": {},
          "execution_count": 37
        }
      ]
    },
    {
      "cell_type": "code",
      "source": [
        "retornos = data.Close.pct_change()"
      ],
      "metadata": {
        "id": "GkGG9LUcGxUl"
      },
      "execution_count": 38,
      "outputs": []
    },
    {
      "cell_type": "code",
      "source": [
        "retornos"
      ],
      "metadata": {
        "colab": {
          "base_uri": "https://localhost:8080/"
        },
        "id": "cw0tMFkmHQVt",
        "outputId": "0b9b0dc8-702c-4815-88d5-dbacc1f53469"
      },
      "execution_count": 39,
      "outputs": [
        {
          "output_type": "execute_result",
          "data": {
            "text/plain": [
              "Date\n",
              "2000-01-03         NaN\n",
              "2000-01-04   -0.055319\n",
              "2000-01-05   -0.010090\n",
              "2000-01-06   -0.003458\n",
              "2000-01-07    0.004566\n",
              "                ...   \n",
              "2022-12-13   -0.024676\n",
              "2022-12-14   -0.079331\n",
              "2022-12-15    0.026549\n",
              "2022-12-16    0.000454\n",
              "2022-12-19    0.013605\n",
              "Name: Close, Length: 5770, dtype: float64"
            ]
          },
          "metadata": {},
          "execution_count": 39
        }
      ]
    },
    {
      "cell_type": "markdown",
      "source": [
        "Desvio padrão dos retornos"
      ],
      "metadata": {
        "id": "Bw0RJdUDHmme"
      }
    },
    {
      "cell_type": "code",
      "source": [
        "retornos.std()"
      ],
      "metadata": {
        "colab": {
          "base_uri": "https://localhost:8080/"
        },
        "id": "qVzt8rhpHvlV",
        "outputId": "fc90d02c-6994-43d4-8e43-2861d729b47a"
      },
      "execution_count": 40,
      "outputs": [
        {
          "output_type": "execute_result",
          "data": {
            "text/plain": [
              "0.027025810844933572"
            ]
          },
          "metadata": {},
          "execution_count": 40
        }
      ]
    },
    {
      "cell_type": "markdown",
      "source": [
        "Fiquem atentos quanto a diferença de Series com DataFrames"
      ],
      "metadata": {
        "id": "BO1Qbf30IY9f"
      }
    },
    {
      "cell_type": "code",
      "source": [
        "type(retornos)"
      ],
      "metadata": {
        "colab": {
          "base_uri": "https://localhost:8080/"
        },
        "id": "DiqcBRZQHwz8",
        "outputId": "5913cc25-2d17-4352-c43f-8db355304761"
      },
      "execution_count": 41,
      "outputs": [
        {
          "output_type": "execute_result",
          "data": {
            "text/plain": [
              "pandas.core.series.Series"
            ]
          },
          "metadata": {},
          "execution_count": 41
        }
      ]
    },
    {
      "cell_type": "code",
      "source": [
        "retornos_df = pd.DataFrame(retornos)"
      ],
      "metadata": {
        "id": "wkwjutCoIEa8"
      },
      "execution_count": 42,
      "outputs": []
    },
    {
      "cell_type": "code",
      "source": [
        "type(retornos_df)"
      ],
      "metadata": {
        "colab": {
          "base_uri": "https://localhost:8080/"
        },
        "id": "MW5pnKNYIScE",
        "outputId": "ac76348c-b834-4a8b-bde2-0d798148a9c8"
      },
      "execution_count": 43,
      "outputs": [
        {
          "output_type": "execute_result",
          "data": {
            "text/plain": [
              "pandas.core.frame.DataFrame"
            ]
          },
          "metadata": {},
          "execution_count": 43
        }
      ]
    },
    {
      "cell_type": "markdown",
      "source": [
        "Em muitos casos, o arquivo .txt pode apresentar uma formatação diferente do padrão usado no Python.\n",
        "\n",
        "Por exemplo, separador decimal como vírgula (, padrão no português) e não ponto (.)\n",
        "\n",
        "Nesses casos usamos diversos argumentos que auxiliam na leitura dos dados"
      ],
      "metadata": {
        "id": "JkbDDethIXfs"
      }
    },
    {
      "cell_type": "markdown",
      "source": [
        "Dados oriundos do PROFIT"
      ],
      "metadata": {
        "id": "E9wu6p12JdAU"
      }
    },
    {
      "cell_type": "code",
      "source": [
        "petr_profit = pd.read_csv('PETR4_PROFIT.txt')\n",
        "petr_profit"
      ],
      "metadata": {
        "colab": {
          "base_uri": "https://localhost:8080/",
          "height": 424
        },
        "id": "DFZjrD1FJiXk",
        "outputId": "20a6a22e-d4f9-41d1-b1b6-f5d785f97a53"
      },
      "execution_count": 44,
      "outputs": [
        {
          "output_type": "execute_result",
          "data": {
            "text/plain": [
              "                                                                                          Date;Open;High;Low;Close;Adj Close;Volume\n",
              "2000-01-03;5  875;5              875;5              875;5              875;1                            872026801109314;35389440000\n",
              "2000-01-04;5  550000190734863;5  550000190734863;5  550000190734863;5  550000190734863;1               7684690952301025;28861440000\n",
              "2000-01-05;5  49399995803833;5   49399995803833;5   49399995803833;5   49399995803833;1                7506250143051147;43033600000\n",
              "2000-01-06;5  474999904632568;5  474999904632568;5  474999904632568;5  474999904632568;1               7445701360702515;34055680000\n",
              "2000-01-07;5  5;5                5;5                5;5                5;1                             7525360584259033;20912640000\n",
              "...                                                                                                                             ...\n",
              "2022-12-13;24 100000381469727;24 200000762939453;23 309999465942383;23 31999969482422;23                   31999969482422;102533100\n",
              "2022-12-14;22 5;22               600000381469727;20 770000457763672;21 469999313354492;21                 469999313354492;319501600\n",
              "2022-12-15;21 0;22               3700008392334;20   829999923706055;22 040000915527344;22                 040000915527344;132385600\n",
              "2022-12-16;21 959999084472656;22 110000610351562;21 510000228881836;22 049999237060547;22                  049999237060547;90767300\n",
              "2022-12-19;22 100000381469727;22 469999313354492;21 639999389648438;22 350000381469727;22                  350000381469727;37837300\n",
              "\n",
              "[5770 rows x 1 columns]"
            ],
            "text/html": [
              "\n",
              "  <div id=\"df-05cdfa25-d5aa-46d6-9798-db3705950e46\">\n",
              "    <div class=\"colab-df-container\">\n",
              "      <div>\n",
              "<style scoped>\n",
              "    .dataframe tbody tr th:only-of-type {\n",
              "        vertical-align: middle;\n",
              "    }\n",
              "\n",
              "    .dataframe tbody tr th {\n",
              "        vertical-align: top;\n",
              "    }\n",
              "\n",
              "    .dataframe thead th {\n",
              "        text-align: right;\n",
              "    }\n",
              "</style>\n",
              "<table border=\"1\" class=\"dataframe\">\n",
              "  <thead>\n",
              "    <tr style=\"text-align: right;\">\n",
              "      <th></th>\n",
              "      <th></th>\n",
              "      <th></th>\n",
              "      <th></th>\n",
              "      <th></th>\n",
              "      <th>Date;Open;High;Low;Close;Adj Close;Volume</th>\n",
              "    </tr>\n",
              "  </thead>\n",
              "  <tbody>\n",
              "    <tr>\n",
              "      <th>2000-01-03;5</th>\n",
              "      <th>875;5</th>\n",
              "      <th>875;5</th>\n",
              "      <th>875;5</th>\n",
              "      <th>875;1</th>\n",
              "      <td>872026801109314;35389440000</td>\n",
              "    </tr>\n",
              "    <tr>\n",
              "      <th>2000-01-04;5</th>\n",
              "      <th>550000190734863;5</th>\n",
              "      <th>550000190734863;5</th>\n",
              "      <th>550000190734863;5</th>\n",
              "      <th>550000190734863;1</th>\n",
              "      <td>7684690952301025;28861440000</td>\n",
              "    </tr>\n",
              "    <tr>\n",
              "      <th>2000-01-05;5</th>\n",
              "      <th>49399995803833;5</th>\n",
              "      <th>49399995803833;5</th>\n",
              "      <th>49399995803833;5</th>\n",
              "      <th>49399995803833;1</th>\n",
              "      <td>7506250143051147;43033600000</td>\n",
              "    </tr>\n",
              "    <tr>\n",
              "      <th>2000-01-06;5</th>\n",
              "      <th>474999904632568;5</th>\n",
              "      <th>474999904632568;5</th>\n",
              "      <th>474999904632568;5</th>\n",
              "      <th>474999904632568;1</th>\n",
              "      <td>7445701360702515;34055680000</td>\n",
              "    </tr>\n",
              "    <tr>\n",
              "      <th>2000-01-07;5</th>\n",
              "      <th>5;5</th>\n",
              "      <th>5;5</th>\n",
              "      <th>5;5</th>\n",
              "      <th>5;1</th>\n",
              "      <td>7525360584259033;20912640000</td>\n",
              "    </tr>\n",
              "    <tr>\n",
              "      <th>...</th>\n",
              "      <th>...</th>\n",
              "      <th>...</th>\n",
              "      <th>...</th>\n",
              "      <th>...</th>\n",
              "      <td>...</td>\n",
              "    </tr>\n",
              "    <tr>\n",
              "      <th>2022-12-13;24</th>\n",
              "      <th>100000381469727;24</th>\n",
              "      <th>200000762939453;23</th>\n",
              "      <th>309999465942383;23</th>\n",
              "      <th>31999969482422;23</th>\n",
              "      <td>31999969482422;102533100</td>\n",
              "    </tr>\n",
              "    <tr>\n",
              "      <th>2022-12-14;22</th>\n",
              "      <th>5;22</th>\n",
              "      <th>600000381469727;20</th>\n",
              "      <th>770000457763672;21</th>\n",
              "      <th>469999313354492;21</th>\n",
              "      <td>469999313354492;319501600</td>\n",
              "    </tr>\n",
              "    <tr>\n",
              "      <th>2022-12-15;21</th>\n",
              "      <th>0;22</th>\n",
              "      <th>3700008392334;20</th>\n",
              "      <th>829999923706055;22</th>\n",
              "      <th>040000915527344;22</th>\n",
              "      <td>040000915527344;132385600</td>\n",
              "    </tr>\n",
              "    <tr>\n",
              "      <th>2022-12-16;21</th>\n",
              "      <th>959999084472656;22</th>\n",
              "      <th>110000610351562;21</th>\n",
              "      <th>510000228881836;22</th>\n",
              "      <th>049999237060547;22</th>\n",
              "      <td>049999237060547;90767300</td>\n",
              "    </tr>\n",
              "    <tr>\n",
              "      <th>2022-12-19;22</th>\n",
              "      <th>100000381469727;22</th>\n",
              "      <th>469999313354492;21</th>\n",
              "      <th>639999389648438;22</th>\n",
              "      <th>350000381469727;22</th>\n",
              "      <td>350000381469727;37837300</td>\n",
              "    </tr>\n",
              "  </tbody>\n",
              "</table>\n",
              "<p>5770 rows × 1 columns</p>\n",
              "</div>\n",
              "      <button class=\"colab-df-convert\" onclick=\"convertToInteractive('df-05cdfa25-d5aa-46d6-9798-db3705950e46')\"\n",
              "              title=\"Convert this dataframe to an interactive table.\"\n",
              "              style=\"display:none;\">\n",
              "        \n",
              "  <svg xmlns=\"http://www.w3.org/2000/svg\" height=\"24px\"viewBox=\"0 0 24 24\"\n",
              "       width=\"24px\">\n",
              "    <path d=\"M0 0h24v24H0V0z\" fill=\"none\"/>\n",
              "    <path d=\"M18.56 5.44l.94 2.06.94-2.06 2.06-.94-2.06-.94-.94-2.06-.94 2.06-2.06.94zm-11 1L8.5 8.5l.94-2.06 2.06-.94-2.06-.94L8.5 2.5l-.94 2.06-2.06.94zm10 10l.94 2.06.94-2.06 2.06-.94-2.06-.94-.94-2.06-.94 2.06-2.06.94z\"/><path d=\"M17.41 7.96l-1.37-1.37c-.4-.4-.92-.59-1.43-.59-.52 0-1.04.2-1.43.59L10.3 9.45l-7.72 7.72c-.78.78-.78 2.05 0 2.83L4 21.41c.39.39.9.59 1.41.59.51 0 1.02-.2 1.41-.59l7.78-7.78 2.81-2.81c.8-.78.8-2.07 0-2.86zM5.41 20L4 18.59l7.72-7.72 1.47 1.35L5.41 20z\"/>\n",
              "  </svg>\n",
              "      </button>\n",
              "      \n",
              "  <style>\n",
              "    .colab-df-container {\n",
              "      display:flex;\n",
              "      flex-wrap:wrap;\n",
              "      gap: 12px;\n",
              "    }\n",
              "\n",
              "    .colab-df-convert {\n",
              "      background-color: #E8F0FE;\n",
              "      border: none;\n",
              "      border-radius: 50%;\n",
              "      cursor: pointer;\n",
              "      display: none;\n",
              "      fill: #1967D2;\n",
              "      height: 32px;\n",
              "      padding: 0 0 0 0;\n",
              "      width: 32px;\n",
              "    }\n",
              "\n",
              "    .colab-df-convert:hover {\n",
              "      background-color: #E2EBFA;\n",
              "      box-shadow: 0px 1px 2px rgba(60, 64, 67, 0.3), 0px 1px 3px 1px rgba(60, 64, 67, 0.15);\n",
              "      fill: #174EA6;\n",
              "    }\n",
              "\n",
              "    [theme=dark] .colab-df-convert {\n",
              "      background-color: #3B4455;\n",
              "      fill: #D2E3FC;\n",
              "    }\n",
              "\n",
              "    [theme=dark] .colab-df-convert:hover {\n",
              "      background-color: #434B5C;\n",
              "      box-shadow: 0px 1px 3px 1px rgba(0, 0, 0, 0.15);\n",
              "      filter: drop-shadow(0px 1px 2px rgba(0, 0, 0, 0.3));\n",
              "      fill: #FFFFFF;\n",
              "    }\n",
              "  </style>\n",
              "\n",
              "      <script>\n",
              "        const buttonEl =\n",
              "          document.querySelector('#df-05cdfa25-d5aa-46d6-9798-db3705950e46 button.colab-df-convert');\n",
              "        buttonEl.style.display =\n",
              "          google.colab.kernel.accessAllowed ? 'block' : 'none';\n",
              "\n",
              "        async function convertToInteractive(key) {\n",
              "          const element = document.querySelector('#df-05cdfa25-d5aa-46d6-9798-db3705950e46');\n",
              "          const dataTable =\n",
              "            await google.colab.kernel.invokeFunction('convertToInteractive',\n",
              "                                                     [key], {});\n",
              "          if (!dataTable) return;\n",
              "\n",
              "          const docLinkHtml = 'Like what you see? Visit the ' +\n",
              "            '<a target=\"_blank\" href=https://colab.research.google.com/notebooks/data_table.ipynb>data table notebook</a>'\n",
              "            + ' to learn more about interactive tables.';\n",
              "          element.innerHTML = '';\n",
              "          dataTable['output_type'] = 'display_data';\n",
              "          await google.colab.output.renderOutput(dataTable, element);\n",
              "          const docLink = document.createElement('div');\n",
              "          docLink.innerHTML = docLinkHtml;\n",
              "          element.appendChild(docLink);\n",
              "        }\n",
              "      </script>\n",
              "    </div>\n",
              "  </div>\n",
              "  "
            ]
          },
          "metadata": {},
          "execution_count": 44
        }
      ]
    },
    {
      "cell_type": "code",
      "source": [
        "petr_profit = pd.read_csv('PETR4_PROFIT.txt', sep = ';', decimal = ',')"
      ],
      "metadata": {
        "id": "9XNrqBqeJmN0"
      },
      "execution_count": 45,
      "outputs": []
    },
    {
      "cell_type": "code",
      "source": [
        "petr_profit.head()"
      ],
      "metadata": {
        "colab": {
          "base_uri": "https://localhost:8080/",
          "height": 206
        },
        "id": "VhIseCrJKlOb",
        "outputId": "493a0a25-f521-4d11-c7ee-b75acd27635f"
      },
      "execution_count": 46,
      "outputs": [
        {
          "output_type": "execute_result",
          "data": {
            "text/plain": [
              "         Date   Open   High    Low  Close  Adj Close       Volume\n",
              "0  2000-01-03  5.875  5.875  5.875  5.875   1.872027  35389440000\n",
              "1  2000-01-04  5.550  5.550  5.550  5.550   1.768469  28861440000\n",
              "2  2000-01-05  5.494  5.494  5.494  5.494   1.750625  43033600000\n",
              "3  2000-01-06  5.475  5.475  5.475  5.475   1.744570  34055680000\n",
              "4  2000-01-07  5.500  5.500  5.500  5.500   1.752536  20912640000"
            ],
            "text/html": [
              "\n",
              "  <div id=\"df-3c3e170b-0771-4b03-9230-3b996e4f1812\">\n",
              "    <div class=\"colab-df-container\">\n",
              "      <div>\n",
              "<style scoped>\n",
              "    .dataframe tbody tr th:only-of-type {\n",
              "        vertical-align: middle;\n",
              "    }\n",
              "\n",
              "    .dataframe tbody tr th {\n",
              "        vertical-align: top;\n",
              "    }\n",
              "\n",
              "    .dataframe thead th {\n",
              "        text-align: right;\n",
              "    }\n",
              "</style>\n",
              "<table border=\"1\" class=\"dataframe\">\n",
              "  <thead>\n",
              "    <tr style=\"text-align: right;\">\n",
              "      <th></th>\n",
              "      <th>Date</th>\n",
              "      <th>Open</th>\n",
              "      <th>High</th>\n",
              "      <th>Low</th>\n",
              "      <th>Close</th>\n",
              "      <th>Adj Close</th>\n",
              "      <th>Volume</th>\n",
              "    </tr>\n",
              "  </thead>\n",
              "  <tbody>\n",
              "    <tr>\n",
              "      <th>0</th>\n",
              "      <td>2000-01-03</td>\n",
              "      <td>5.875</td>\n",
              "      <td>5.875</td>\n",
              "      <td>5.875</td>\n",
              "      <td>5.875</td>\n",
              "      <td>1.872027</td>\n",
              "      <td>35389440000</td>\n",
              "    </tr>\n",
              "    <tr>\n",
              "      <th>1</th>\n",
              "      <td>2000-01-04</td>\n",
              "      <td>5.550</td>\n",
              "      <td>5.550</td>\n",
              "      <td>5.550</td>\n",
              "      <td>5.550</td>\n",
              "      <td>1.768469</td>\n",
              "      <td>28861440000</td>\n",
              "    </tr>\n",
              "    <tr>\n",
              "      <th>2</th>\n",
              "      <td>2000-01-05</td>\n",
              "      <td>5.494</td>\n",
              "      <td>5.494</td>\n",
              "      <td>5.494</td>\n",
              "      <td>5.494</td>\n",
              "      <td>1.750625</td>\n",
              "      <td>43033600000</td>\n",
              "    </tr>\n",
              "    <tr>\n",
              "      <th>3</th>\n",
              "      <td>2000-01-06</td>\n",
              "      <td>5.475</td>\n",
              "      <td>5.475</td>\n",
              "      <td>5.475</td>\n",
              "      <td>5.475</td>\n",
              "      <td>1.744570</td>\n",
              "      <td>34055680000</td>\n",
              "    </tr>\n",
              "    <tr>\n",
              "      <th>4</th>\n",
              "      <td>2000-01-07</td>\n",
              "      <td>5.500</td>\n",
              "      <td>5.500</td>\n",
              "      <td>5.500</td>\n",
              "      <td>5.500</td>\n",
              "      <td>1.752536</td>\n",
              "      <td>20912640000</td>\n",
              "    </tr>\n",
              "  </tbody>\n",
              "</table>\n",
              "</div>\n",
              "      <button class=\"colab-df-convert\" onclick=\"convertToInteractive('df-3c3e170b-0771-4b03-9230-3b996e4f1812')\"\n",
              "              title=\"Convert this dataframe to an interactive table.\"\n",
              "              style=\"display:none;\">\n",
              "        \n",
              "  <svg xmlns=\"http://www.w3.org/2000/svg\" height=\"24px\"viewBox=\"0 0 24 24\"\n",
              "       width=\"24px\">\n",
              "    <path d=\"M0 0h24v24H0V0z\" fill=\"none\"/>\n",
              "    <path d=\"M18.56 5.44l.94 2.06.94-2.06 2.06-.94-2.06-.94-.94-2.06-.94 2.06-2.06.94zm-11 1L8.5 8.5l.94-2.06 2.06-.94-2.06-.94L8.5 2.5l-.94 2.06-2.06.94zm10 10l.94 2.06.94-2.06 2.06-.94-2.06-.94-.94-2.06-.94 2.06-2.06.94z\"/><path d=\"M17.41 7.96l-1.37-1.37c-.4-.4-.92-.59-1.43-.59-.52 0-1.04.2-1.43.59L10.3 9.45l-7.72 7.72c-.78.78-.78 2.05 0 2.83L4 21.41c.39.39.9.59 1.41.59.51 0 1.02-.2 1.41-.59l7.78-7.78 2.81-2.81c.8-.78.8-2.07 0-2.86zM5.41 20L4 18.59l7.72-7.72 1.47 1.35L5.41 20z\"/>\n",
              "  </svg>\n",
              "      </button>\n",
              "      \n",
              "  <style>\n",
              "    .colab-df-container {\n",
              "      display:flex;\n",
              "      flex-wrap:wrap;\n",
              "      gap: 12px;\n",
              "    }\n",
              "\n",
              "    .colab-df-convert {\n",
              "      background-color: #E8F0FE;\n",
              "      border: none;\n",
              "      border-radius: 50%;\n",
              "      cursor: pointer;\n",
              "      display: none;\n",
              "      fill: #1967D2;\n",
              "      height: 32px;\n",
              "      padding: 0 0 0 0;\n",
              "      width: 32px;\n",
              "    }\n",
              "\n",
              "    .colab-df-convert:hover {\n",
              "      background-color: #E2EBFA;\n",
              "      box-shadow: 0px 1px 2px rgba(60, 64, 67, 0.3), 0px 1px 3px 1px rgba(60, 64, 67, 0.15);\n",
              "      fill: #174EA6;\n",
              "    }\n",
              "\n",
              "    [theme=dark] .colab-df-convert {\n",
              "      background-color: #3B4455;\n",
              "      fill: #D2E3FC;\n",
              "    }\n",
              "\n",
              "    [theme=dark] .colab-df-convert:hover {\n",
              "      background-color: #434B5C;\n",
              "      box-shadow: 0px 1px 3px 1px rgba(0, 0, 0, 0.15);\n",
              "      filter: drop-shadow(0px 1px 2px rgba(0, 0, 0, 0.3));\n",
              "      fill: #FFFFFF;\n",
              "    }\n",
              "  </style>\n",
              "\n",
              "      <script>\n",
              "        const buttonEl =\n",
              "          document.querySelector('#df-3c3e170b-0771-4b03-9230-3b996e4f1812 button.colab-df-convert');\n",
              "        buttonEl.style.display =\n",
              "          google.colab.kernel.accessAllowed ? 'block' : 'none';\n",
              "\n",
              "        async function convertToInteractive(key) {\n",
              "          const element = document.querySelector('#df-3c3e170b-0771-4b03-9230-3b996e4f1812');\n",
              "          const dataTable =\n",
              "            await google.colab.kernel.invokeFunction('convertToInteractive',\n",
              "                                                     [key], {});\n",
              "          if (!dataTable) return;\n",
              "\n",
              "          const docLinkHtml = 'Like what you see? Visit the ' +\n",
              "            '<a target=\"_blank\" href=https://colab.research.google.com/notebooks/data_table.ipynb>data table notebook</a>'\n",
              "            + ' to learn more about interactive tables.';\n",
              "          element.innerHTML = '';\n",
              "          dataTable['output_type'] = 'display_data';\n",
              "          await google.colab.output.renderOutput(dataTable, element);\n",
              "          const docLink = document.createElement('div');\n",
              "          docLink.innerHTML = docLinkHtml;\n",
              "          element.appendChild(docLink);\n",
              "        }\n",
              "      </script>\n",
              "    </div>\n",
              "  </div>\n",
              "  "
            ]
          },
          "metadata": {},
          "execution_count": 46
        }
      ]
    },
    {
      "cell_type": "code",
      "source": [
        "petr_profit.dtypes"
      ],
      "metadata": {
        "colab": {
          "base_uri": "https://localhost:8080/"
        },
        "id": "i3XB_8sdKSKe",
        "outputId": "c1c3b9eb-100a-47b4-9f86-dbf6d7a4a7ee"
      },
      "execution_count": 47,
      "outputs": [
        {
          "output_type": "execute_result",
          "data": {
            "text/plain": [
              "Date          object\n",
              "Open         float64\n",
              "High         float64\n",
              "Low          float64\n",
              "Close        float64\n",
              "Adj Close    float64\n",
              "Volume         int64\n",
              "dtype: object"
            ]
          },
          "metadata": {},
          "execution_count": 47
        }
      ]
    },
    {
      "cell_type": "markdown",
      "source": [
        "### 1.1.3. Arquivos .xlsx"
      ],
      "metadata": {
        "id": "3e3WHEqoKhZD"
      }
    },
    {
      "cell_type": "markdown",
      "source": [
        "Vamos abrir agora o arquivo Excel que contém uma amostra de dados intraday do minindice"
      ],
      "metadata": {
        "id": "YuB8ODQlLVOr"
      }
    },
    {
      "cell_type": "code",
      "source": [
        "win = pd.read_excel('WIN_MT5.xlsx')"
      ],
      "metadata": {
        "id": "mxbQt4wZLXI9"
      },
      "execution_count": 48,
      "outputs": []
    },
    {
      "cell_type": "code",
      "source": [
        "win.head()"
      ],
      "metadata": {
        "colab": {
          "base_uri": "https://localhost:8080/",
          "height": 206
        },
        "id": "noEDUPzGLiWk",
        "outputId": "fc6b4830-c6a4-4d40-cc69-513ad5d25066"
      },
      "execution_count": 49,
      "outputs": [
        {
          "output_type": "execute_result",
          "data": {
            "text/plain": [
              "                 time    open    high     low   close  tick_volume  spread  \\\n",
              "0 2022-12-27 09:00:00  111175  111260  111065  111185        15490       1   \n",
              "1 2022-12-27 09:01:00  111190  111370  111180  111215        21014       1   \n",
              "2 2022-12-27 09:02:00  111215  111225  111030  111050        15905       1   \n",
              "3 2022-12-27 09:03:00  111055  111055  110920  110925        16948       1   \n",
              "4 2022-12-27 09:04:00  110930  111070  110915  111030        13465       1   \n",
              "\n",
              "   real_volume ticker  \n",
              "0        30698   WIN$  \n",
              "1        42351   WIN$  \n",
              "2        30188   WIN$  \n",
              "3        32705   WIN$  \n",
              "4        24894   WIN$  "
            ],
            "text/html": [
              "\n",
              "  <div id=\"df-a1c00139-8ce8-450f-9633-10b7eecffb4c\">\n",
              "    <div class=\"colab-df-container\">\n",
              "      <div>\n",
              "<style scoped>\n",
              "    .dataframe tbody tr th:only-of-type {\n",
              "        vertical-align: middle;\n",
              "    }\n",
              "\n",
              "    .dataframe tbody tr th {\n",
              "        vertical-align: top;\n",
              "    }\n",
              "\n",
              "    .dataframe thead th {\n",
              "        text-align: right;\n",
              "    }\n",
              "</style>\n",
              "<table border=\"1\" class=\"dataframe\">\n",
              "  <thead>\n",
              "    <tr style=\"text-align: right;\">\n",
              "      <th></th>\n",
              "      <th>time</th>\n",
              "      <th>open</th>\n",
              "      <th>high</th>\n",
              "      <th>low</th>\n",
              "      <th>close</th>\n",
              "      <th>tick_volume</th>\n",
              "      <th>spread</th>\n",
              "      <th>real_volume</th>\n",
              "      <th>ticker</th>\n",
              "    </tr>\n",
              "  </thead>\n",
              "  <tbody>\n",
              "    <tr>\n",
              "      <th>0</th>\n",
              "      <td>2022-12-27 09:00:00</td>\n",
              "      <td>111175</td>\n",
              "      <td>111260</td>\n",
              "      <td>111065</td>\n",
              "      <td>111185</td>\n",
              "      <td>15490</td>\n",
              "      <td>1</td>\n",
              "      <td>30698</td>\n",
              "      <td>WIN$</td>\n",
              "    </tr>\n",
              "    <tr>\n",
              "      <th>1</th>\n",
              "      <td>2022-12-27 09:01:00</td>\n",
              "      <td>111190</td>\n",
              "      <td>111370</td>\n",
              "      <td>111180</td>\n",
              "      <td>111215</td>\n",
              "      <td>21014</td>\n",
              "      <td>1</td>\n",
              "      <td>42351</td>\n",
              "      <td>WIN$</td>\n",
              "    </tr>\n",
              "    <tr>\n",
              "      <th>2</th>\n",
              "      <td>2022-12-27 09:02:00</td>\n",
              "      <td>111215</td>\n",
              "      <td>111225</td>\n",
              "      <td>111030</td>\n",
              "      <td>111050</td>\n",
              "      <td>15905</td>\n",
              "      <td>1</td>\n",
              "      <td>30188</td>\n",
              "      <td>WIN$</td>\n",
              "    </tr>\n",
              "    <tr>\n",
              "      <th>3</th>\n",
              "      <td>2022-12-27 09:03:00</td>\n",
              "      <td>111055</td>\n",
              "      <td>111055</td>\n",
              "      <td>110920</td>\n",
              "      <td>110925</td>\n",
              "      <td>16948</td>\n",
              "      <td>1</td>\n",
              "      <td>32705</td>\n",
              "      <td>WIN$</td>\n",
              "    </tr>\n",
              "    <tr>\n",
              "      <th>4</th>\n",
              "      <td>2022-12-27 09:04:00</td>\n",
              "      <td>110930</td>\n",
              "      <td>111070</td>\n",
              "      <td>110915</td>\n",
              "      <td>111030</td>\n",
              "      <td>13465</td>\n",
              "      <td>1</td>\n",
              "      <td>24894</td>\n",
              "      <td>WIN$</td>\n",
              "    </tr>\n",
              "  </tbody>\n",
              "</table>\n",
              "</div>\n",
              "      <button class=\"colab-df-convert\" onclick=\"convertToInteractive('df-a1c00139-8ce8-450f-9633-10b7eecffb4c')\"\n",
              "              title=\"Convert this dataframe to an interactive table.\"\n",
              "              style=\"display:none;\">\n",
              "        \n",
              "  <svg xmlns=\"http://www.w3.org/2000/svg\" height=\"24px\"viewBox=\"0 0 24 24\"\n",
              "       width=\"24px\">\n",
              "    <path d=\"M0 0h24v24H0V0z\" fill=\"none\"/>\n",
              "    <path d=\"M18.56 5.44l.94 2.06.94-2.06 2.06-.94-2.06-.94-.94-2.06-.94 2.06-2.06.94zm-11 1L8.5 8.5l.94-2.06 2.06-.94-2.06-.94L8.5 2.5l-.94 2.06-2.06.94zm10 10l.94 2.06.94-2.06 2.06-.94-2.06-.94-.94-2.06-.94 2.06-2.06.94z\"/><path d=\"M17.41 7.96l-1.37-1.37c-.4-.4-.92-.59-1.43-.59-.52 0-1.04.2-1.43.59L10.3 9.45l-7.72 7.72c-.78.78-.78 2.05 0 2.83L4 21.41c.39.39.9.59 1.41.59.51 0 1.02-.2 1.41-.59l7.78-7.78 2.81-2.81c.8-.78.8-2.07 0-2.86zM5.41 20L4 18.59l7.72-7.72 1.47 1.35L5.41 20z\"/>\n",
              "  </svg>\n",
              "      </button>\n",
              "      \n",
              "  <style>\n",
              "    .colab-df-container {\n",
              "      display:flex;\n",
              "      flex-wrap:wrap;\n",
              "      gap: 12px;\n",
              "    }\n",
              "\n",
              "    .colab-df-convert {\n",
              "      background-color: #E8F0FE;\n",
              "      border: none;\n",
              "      border-radius: 50%;\n",
              "      cursor: pointer;\n",
              "      display: none;\n",
              "      fill: #1967D2;\n",
              "      height: 32px;\n",
              "      padding: 0 0 0 0;\n",
              "      width: 32px;\n",
              "    }\n",
              "\n",
              "    .colab-df-convert:hover {\n",
              "      background-color: #E2EBFA;\n",
              "      box-shadow: 0px 1px 2px rgba(60, 64, 67, 0.3), 0px 1px 3px 1px rgba(60, 64, 67, 0.15);\n",
              "      fill: #174EA6;\n",
              "    }\n",
              "\n",
              "    [theme=dark] .colab-df-convert {\n",
              "      background-color: #3B4455;\n",
              "      fill: #D2E3FC;\n",
              "    }\n",
              "\n",
              "    [theme=dark] .colab-df-convert:hover {\n",
              "      background-color: #434B5C;\n",
              "      box-shadow: 0px 1px 3px 1px rgba(0, 0, 0, 0.15);\n",
              "      filter: drop-shadow(0px 1px 2px rgba(0, 0, 0, 0.3));\n",
              "      fill: #FFFFFF;\n",
              "    }\n",
              "  </style>\n",
              "\n",
              "      <script>\n",
              "        const buttonEl =\n",
              "          document.querySelector('#df-a1c00139-8ce8-450f-9633-10b7eecffb4c button.colab-df-convert');\n",
              "        buttonEl.style.display =\n",
              "          google.colab.kernel.accessAllowed ? 'block' : 'none';\n",
              "\n",
              "        async function convertToInteractive(key) {\n",
              "          const element = document.querySelector('#df-a1c00139-8ce8-450f-9633-10b7eecffb4c');\n",
              "          const dataTable =\n",
              "            await google.colab.kernel.invokeFunction('convertToInteractive',\n",
              "                                                     [key], {});\n",
              "          if (!dataTable) return;\n",
              "\n",
              "          const docLinkHtml = 'Like what you see? Visit the ' +\n",
              "            '<a target=\"_blank\" href=https://colab.research.google.com/notebooks/data_table.ipynb>data table notebook</a>'\n",
              "            + ' to learn more about interactive tables.';\n",
              "          element.innerHTML = '';\n",
              "          dataTable['output_type'] = 'display_data';\n",
              "          await google.colab.output.renderOutput(dataTable, element);\n",
              "          const docLink = document.createElement('div');\n",
              "          docLink.innerHTML = docLinkHtml;\n",
              "          element.appendChild(docLink);\n",
              "        }\n",
              "      </script>\n",
              "    </div>\n",
              "  </div>\n",
              "  "
            ]
          },
          "metadata": {},
          "execution_count": 49
        }
      ]
    },
    {
      "cell_type": "code",
      "source": [
        "win.dtypes"
      ],
      "metadata": {
        "colab": {
          "base_uri": "https://localhost:8080/"
        },
        "id": "g7A3dMFbLjgb",
        "outputId": "ac943aa6-fe87-4d74-c381-cdfbc4a7b2fd"
      },
      "execution_count": 50,
      "outputs": [
        {
          "output_type": "execute_result",
          "data": {
            "text/plain": [
              "time           datetime64[ns]\n",
              "open                    int64\n",
              "high                    int64\n",
              "low                     int64\n",
              "close                   int64\n",
              "tick_volume             int64\n",
              "spread                  int64\n",
              "real_volume             int64\n",
              "ticker                 object\n",
              "dtype: object"
            ]
          },
          "metadata": {},
          "execution_count": 50
        }
      ]
    },
    {
      "cell_type": "markdown",
      "source": [
        "Observe que nesse arquivo a coluna time já está como objeto datetime"
      ],
      "metadata": {
        "id": "yYwNVvlXLp2U"
      }
    },
    {
      "cell_type": "code",
      "source": [
        "win.index = win['time']"
      ],
      "metadata": {
        "id": "ilvA92VFLwDs"
      },
      "execution_count": 51,
      "outputs": []
    },
    {
      "cell_type": "code",
      "source": [
        "win.head()"
      ],
      "metadata": {
        "colab": {
          "base_uri": "https://localhost:8080/",
          "height": 238
        },
        "id": "rx8wyWF5L1VE",
        "outputId": "39e08ca9-dbd4-4465-ecf7-210fa1bddb6f"
      },
      "execution_count": 52,
      "outputs": [
        {
          "output_type": "execute_result",
          "data": {
            "text/plain": [
              "                                   time    open    high     low   close  \\\n",
              "time                                                                      \n",
              "2022-12-27 09:00:00 2022-12-27 09:00:00  111175  111260  111065  111185   \n",
              "2022-12-27 09:01:00 2022-12-27 09:01:00  111190  111370  111180  111215   \n",
              "2022-12-27 09:02:00 2022-12-27 09:02:00  111215  111225  111030  111050   \n",
              "2022-12-27 09:03:00 2022-12-27 09:03:00  111055  111055  110920  110925   \n",
              "2022-12-27 09:04:00 2022-12-27 09:04:00  110930  111070  110915  111030   \n",
              "\n",
              "                     tick_volume  spread  real_volume ticker  \n",
              "time                                                          \n",
              "2022-12-27 09:00:00        15490       1        30698   WIN$  \n",
              "2022-12-27 09:01:00        21014       1        42351   WIN$  \n",
              "2022-12-27 09:02:00        15905       1        30188   WIN$  \n",
              "2022-12-27 09:03:00        16948       1        32705   WIN$  \n",
              "2022-12-27 09:04:00        13465       1        24894   WIN$  "
            ],
            "text/html": [
              "\n",
              "  <div id=\"df-7055fba5-0b90-45be-a231-4ed93b72f428\">\n",
              "    <div class=\"colab-df-container\">\n",
              "      <div>\n",
              "<style scoped>\n",
              "    .dataframe tbody tr th:only-of-type {\n",
              "        vertical-align: middle;\n",
              "    }\n",
              "\n",
              "    .dataframe tbody tr th {\n",
              "        vertical-align: top;\n",
              "    }\n",
              "\n",
              "    .dataframe thead th {\n",
              "        text-align: right;\n",
              "    }\n",
              "</style>\n",
              "<table border=\"1\" class=\"dataframe\">\n",
              "  <thead>\n",
              "    <tr style=\"text-align: right;\">\n",
              "      <th></th>\n",
              "      <th>time</th>\n",
              "      <th>open</th>\n",
              "      <th>high</th>\n",
              "      <th>low</th>\n",
              "      <th>close</th>\n",
              "      <th>tick_volume</th>\n",
              "      <th>spread</th>\n",
              "      <th>real_volume</th>\n",
              "      <th>ticker</th>\n",
              "    </tr>\n",
              "    <tr>\n",
              "      <th>time</th>\n",
              "      <th></th>\n",
              "      <th></th>\n",
              "      <th></th>\n",
              "      <th></th>\n",
              "      <th></th>\n",
              "      <th></th>\n",
              "      <th></th>\n",
              "      <th></th>\n",
              "      <th></th>\n",
              "    </tr>\n",
              "  </thead>\n",
              "  <tbody>\n",
              "    <tr>\n",
              "      <th>2022-12-27 09:00:00</th>\n",
              "      <td>2022-12-27 09:00:00</td>\n",
              "      <td>111175</td>\n",
              "      <td>111260</td>\n",
              "      <td>111065</td>\n",
              "      <td>111185</td>\n",
              "      <td>15490</td>\n",
              "      <td>1</td>\n",
              "      <td>30698</td>\n",
              "      <td>WIN$</td>\n",
              "    </tr>\n",
              "    <tr>\n",
              "      <th>2022-12-27 09:01:00</th>\n",
              "      <td>2022-12-27 09:01:00</td>\n",
              "      <td>111190</td>\n",
              "      <td>111370</td>\n",
              "      <td>111180</td>\n",
              "      <td>111215</td>\n",
              "      <td>21014</td>\n",
              "      <td>1</td>\n",
              "      <td>42351</td>\n",
              "      <td>WIN$</td>\n",
              "    </tr>\n",
              "    <tr>\n",
              "      <th>2022-12-27 09:02:00</th>\n",
              "      <td>2022-12-27 09:02:00</td>\n",
              "      <td>111215</td>\n",
              "      <td>111225</td>\n",
              "      <td>111030</td>\n",
              "      <td>111050</td>\n",
              "      <td>15905</td>\n",
              "      <td>1</td>\n",
              "      <td>30188</td>\n",
              "      <td>WIN$</td>\n",
              "    </tr>\n",
              "    <tr>\n",
              "      <th>2022-12-27 09:03:00</th>\n",
              "      <td>2022-12-27 09:03:00</td>\n",
              "      <td>111055</td>\n",
              "      <td>111055</td>\n",
              "      <td>110920</td>\n",
              "      <td>110925</td>\n",
              "      <td>16948</td>\n",
              "      <td>1</td>\n",
              "      <td>32705</td>\n",
              "      <td>WIN$</td>\n",
              "    </tr>\n",
              "    <tr>\n",
              "      <th>2022-12-27 09:04:00</th>\n",
              "      <td>2022-12-27 09:04:00</td>\n",
              "      <td>110930</td>\n",
              "      <td>111070</td>\n",
              "      <td>110915</td>\n",
              "      <td>111030</td>\n",
              "      <td>13465</td>\n",
              "      <td>1</td>\n",
              "      <td>24894</td>\n",
              "      <td>WIN$</td>\n",
              "    </tr>\n",
              "  </tbody>\n",
              "</table>\n",
              "</div>\n",
              "      <button class=\"colab-df-convert\" onclick=\"convertToInteractive('df-7055fba5-0b90-45be-a231-4ed93b72f428')\"\n",
              "              title=\"Convert this dataframe to an interactive table.\"\n",
              "              style=\"display:none;\">\n",
              "        \n",
              "  <svg xmlns=\"http://www.w3.org/2000/svg\" height=\"24px\"viewBox=\"0 0 24 24\"\n",
              "       width=\"24px\">\n",
              "    <path d=\"M0 0h24v24H0V0z\" fill=\"none\"/>\n",
              "    <path d=\"M18.56 5.44l.94 2.06.94-2.06 2.06-.94-2.06-.94-.94-2.06-.94 2.06-2.06.94zm-11 1L8.5 8.5l.94-2.06 2.06-.94-2.06-.94L8.5 2.5l-.94 2.06-2.06.94zm10 10l.94 2.06.94-2.06 2.06-.94-2.06-.94-.94-2.06-.94 2.06-2.06.94z\"/><path d=\"M17.41 7.96l-1.37-1.37c-.4-.4-.92-.59-1.43-.59-.52 0-1.04.2-1.43.59L10.3 9.45l-7.72 7.72c-.78.78-.78 2.05 0 2.83L4 21.41c.39.39.9.59 1.41.59.51 0 1.02-.2 1.41-.59l7.78-7.78 2.81-2.81c.8-.78.8-2.07 0-2.86zM5.41 20L4 18.59l7.72-7.72 1.47 1.35L5.41 20z\"/>\n",
              "  </svg>\n",
              "      </button>\n",
              "      \n",
              "  <style>\n",
              "    .colab-df-container {\n",
              "      display:flex;\n",
              "      flex-wrap:wrap;\n",
              "      gap: 12px;\n",
              "    }\n",
              "\n",
              "    .colab-df-convert {\n",
              "      background-color: #E8F0FE;\n",
              "      border: none;\n",
              "      border-radius: 50%;\n",
              "      cursor: pointer;\n",
              "      display: none;\n",
              "      fill: #1967D2;\n",
              "      height: 32px;\n",
              "      padding: 0 0 0 0;\n",
              "      width: 32px;\n",
              "    }\n",
              "\n",
              "    .colab-df-convert:hover {\n",
              "      background-color: #E2EBFA;\n",
              "      box-shadow: 0px 1px 2px rgba(60, 64, 67, 0.3), 0px 1px 3px 1px rgba(60, 64, 67, 0.15);\n",
              "      fill: #174EA6;\n",
              "    }\n",
              "\n",
              "    [theme=dark] .colab-df-convert {\n",
              "      background-color: #3B4455;\n",
              "      fill: #D2E3FC;\n",
              "    }\n",
              "\n",
              "    [theme=dark] .colab-df-convert:hover {\n",
              "      background-color: #434B5C;\n",
              "      box-shadow: 0px 1px 3px 1px rgba(0, 0, 0, 0.15);\n",
              "      filter: drop-shadow(0px 1px 2px rgba(0, 0, 0, 0.3));\n",
              "      fill: #FFFFFF;\n",
              "    }\n",
              "  </style>\n",
              "\n",
              "      <script>\n",
              "        const buttonEl =\n",
              "          document.querySelector('#df-7055fba5-0b90-45be-a231-4ed93b72f428 button.colab-df-convert');\n",
              "        buttonEl.style.display =\n",
              "          google.colab.kernel.accessAllowed ? 'block' : 'none';\n",
              "\n",
              "        async function convertToInteractive(key) {\n",
              "          const element = document.querySelector('#df-7055fba5-0b90-45be-a231-4ed93b72f428');\n",
              "          const dataTable =\n",
              "            await google.colab.kernel.invokeFunction('convertToInteractive',\n",
              "                                                     [key], {});\n",
              "          if (!dataTable) return;\n",
              "\n",
              "          const docLinkHtml = 'Like what you see? Visit the ' +\n",
              "            '<a target=\"_blank\" href=https://colab.research.google.com/notebooks/data_table.ipynb>data table notebook</a>'\n",
              "            + ' to learn more about interactive tables.';\n",
              "          element.innerHTML = '';\n",
              "          dataTable['output_type'] = 'display_data';\n",
              "          await google.colab.output.renderOutput(dataTable, element);\n",
              "          const docLink = document.createElement('div');\n",
              "          docLink.innerHTML = docLinkHtml;\n",
              "          element.appendChild(docLink);\n",
              "        }\n",
              "      </script>\n",
              "    </div>\n",
              "  </div>\n",
              "  "
            ]
          },
          "metadata": {},
          "execution_count": 52
        }
      ]
    },
    {
      "cell_type": "code",
      "source": [
        "win.close.plot();"
      ],
      "metadata": {
        "colab": {
          "base_uri": "https://localhost:8080/",
          "height": 449
        },
        "id": "72WzKSj-L3Az",
        "outputId": "61b62515-97b7-40ed-cba2-c330cd741e66"
      },
      "execution_count": 53,
      "outputs": [
        {
          "output_type": "display_data",
          "data": {
            "text/plain": [
              "<Figure size 640x480 with 1 Axes>"
            ],
            "image/png": "[encoded data removed]"
          },
          "metadata": {}
        }
      ]
    },
    {
      "cell_type": "markdown",
      "source": [
        "As funções para ler arquivos excel possuem diversos argumentos muito úteis, onde é possível já especificar o index, o cabeçalho, separador decimal (casos de txt e csv)..."
      ],
      "metadata": {
        "id": "kev8R18vL6-U"
      }
    },
    {
      "cell_type": "code",
      "source": [
        "win2 = pd.read_excel('WIN_MT5.xlsx', index_col = 0)"
      ],
      "metadata": {
        "id": "dWZN2FwRMGtz"
      },
      "execution_count": 54,
      "outputs": []
    },
    {
      "cell_type": "code",
      "source": [
        "win2"
      ],
      "metadata": {
        "colab": {
          "base_uri": "https://localhost:8080/",
          "height": 455
        },
        "id": "j2526_6aOB0s",
        "outputId": "dc0acb20-e14e-4936-9edf-971c8fd3a40c"
      },
      "execution_count": 55,
      "outputs": [
        {
          "output_type": "execute_result",
          "data": {
            "text/plain": [
              "                       open    high     low   close  tick_volume  spread  \\\n",
              "time                                                                       \n",
              "2022-12-27 09:00:00  111175  111260  111065  111185        15490       1   \n",
              "2022-12-27 09:01:00  111190  111370  111180  111215        21014       1   \n",
              "2022-12-27 09:02:00  111215  111225  111030  111050        15905       1   \n",
              "2022-12-27 09:03:00  111055  111055  110920  110925        16948       1   \n",
              "2022-12-27 09:04:00  110930  111070  110915  111030        13465       1   \n",
              "...                     ...     ...     ...     ...          ...     ...   \n",
              "2022-12-27 18:20:00  110250  110270  110240  110265         1773       1   \n",
              "2022-12-27 18:21:00  110265  110400  110255  110340         4380       1   \n",
              "2022-12-27 18:22:00  110335  110350  110290  110310         1729       1   \n",
              "2022-12-27 18:23:00  110305  110340  110300  110325         1079       1   \n",
              "2022-12-27 18:24:00  110325  110340  110090  110090         1758       1   \n",
              "\n",
              "                     real_volume ticker  \n",
              "time                                     \n",
              "2022-12-27 09:00:00        30698   WIN$  \n",
              "2022-12-27 09:01:00        42351   WIN$  \n",
              "2022-12-27 09:02:00        30188   WIN$  \n",
              "2022-12-27 09:03:00        32705   WIN$  \n",
              "2022-12-27 09:04:00        24894   WIN$  \n",
              "...                          ...    ...  \n",
              "2022-12-27 18:20:00         4887   WIN$  \n",
              "2022-12-27 18:21:00        13118   WIN$  \n",
              "2022-12-27 18:22:00         3773   WIN$  \n",
              "2022-12-27 18:23:00         2206   WIN$  \n",
              "2022-12-27 18:24:00         8788   WIN$  \n",
              "\n",
              "[565 rows x 8 columns]"
            ],
            "text/html": [
              "\n",
              "  <div id=\"df-9d07879e-f14f-4adb-a34a-3e6d10135297\">\n",
              "    <div class=\"colab-df-container\">\n",
              "      <div>\n",
              "<style scoped>\n",
              "    .dataframe tbody tr th:only-of-type {\n",
              "        vertical-align: middle;\n",
              "    }\n",
              "\n",
              "    .dataframe tbody tr th {\n",
              "        vertical-align: top;\n",
              "    }\n",
              "\n",
              "    .dataframe thead th {\n",
              "        text-align: right;\n",
              "    }\n",
              "</style>\n",
              "<table border=\"1\" class=\"dataframe\">\n",
              "  <thead>\n",
              "    <tr style=\"text-align: right;\">\n",
              "      <th></th>\n",
              "      <th>open</th>\n",
              "      <th>high</th>\n",
              "      <th>low</th>\n",
              "      <th>close</th>\n",
              "      <th>tick_volume</th>\n",
              "      <th>spread</th>\n",
              "      <th>real_volume</th>\n",
              "      <th>ticker</th>\n",
              "    </tr>\n",
              "    <tr>\n",
              "      <th>time</th>\n",
              "      <th></th>\n",
              "      <th></th>\n",
              "      <th></th>\n",
              "      <th></th>\n",
              "      <th></th>\n",
              "      <th></th>\n",
              "      <th></th>\n",
              "      <th></th>\n",
              "    </tr>\n",
              "  </thead>\n",
              "  <tbody>\n",
              "    <tr>\n",
              "      <th>2022-12-27 09:00:00</th>\n",
              "      <td>111175</td>\n",
              "      <td>111260</td>\n",
              "      <td>111065</td>\n",
              "      <td>111185</td>\n",
              "      <td>15490</td>\n",
              "      <td>1</td>\n",
              "      <td>30698</td>\n",
              "      <td>WIN$</td>\n",
              "    </tr>\n",
              "    <tr>\n",
              "      <th>2022-12-27 09:01:00</th>\n",
              "      <td>111190</td>\n",
              "      <td>111370</td>\n",
              "      <td>111180</td>\n",
              "      <td>111215</td>\n",
              "      <td>21014</td>\n",
              "      <td>1</td>\n",
              "      <td>42351</td>\n",
              "      <td>WIN$</td>\n",
              "    </tr>\n",
              "    <tr>\n",
              "      <th>2022-12-27 09:02:00</th>\n",
              "      <td>111215</td>\n",
              "      <td>111225</td>\n",
              "      <td>111030</td>\n",
              "      <td>111050</td>\n",
              "      <td>15905</td>\n",
              "      <td>1</td>\n",
              "      <td>30188</td>\n",
              "      <td>WIN$</td>\n",
              "    </tr>\n",
              "    <tr>\n",
              "      <th>2022-12-27 09:03:00</th>\n",
              "      <td>111055</td>\n",
              "      <td>111055</td>\n",
              "      <td>110920</td>\n",
              "      <td>110925</td>\n",
              "      <td>16948</td>\n",
              "      <td>1</td>\n",
              "      <td>32705</td>\n",
              "      <td>WIN$</td>\n",
              "    </tr>\n",
              "    <tr>\n",
              "      <th>2022-12-27 09:04:00</th>\n",
              "      <td>110930</td>\n",
              "      <td>111070</td>\n",
              "      <td>110915</td>\n",
              "      <td>111030</td>\n",
              "      <td>13465</td>\n",
              "      <td>1</td>\n",
              "      <td>24894</td>\n",
              "      <td>WIN$</td>\n",
              "    </tr>\n",
              "    <tr>\n",
              "      <th>...</th>\n",
              "      <td>...</td>\n",
              "      <td>...</td>\n",
              "      <td>...</td>\n",
              "      <td>...</td>\n",
              "      <td>...</td>\n",
              "      <td>...</td>\n",
              "      <td>...</td>\n",
              "      <td>...</td>\n",
              "    </tr>\n",
              "    <tr>\n",
              "      <th>2022-12-27 18:20:00</th>\n",
              "      <td>110250</td>\n",
              "      <td>110270</td>\n",
              "      <td>110240</td>\n",
              "      <td>110265</td>\n",
              "      <td>1773</td>\n",
              "      <td>1</td>\n",
              "      <td>4887</td>\n",
              "      <td>WIN$</td>\n",
              "    </tr>\n",
              "    <tr>\n",
              "      <th>2022-12-27 18:21:00</th>\n",
              "      <td>110265</td>\n",
              "      <td>110400</td>\n",
              "      <td>110255</td>\n",
              "      <td>110340</td>\n",
              "      <td>4380</td>\n",
              "      <td>1</td>\n",
              "      <td>13118</td>\n",
              "      <td>WIN$</td>\n",
              "    </tr>\n",
              "    <tr>\n",
              "      <th>2022-12-27 18:22:00</th>\n",
              "      <td>110335</td>\n",
              "      <td>110350</td>\n",
              "      <td>110290</td>\n",
              "      <td>110310</td>\n",
              "      <td>1729</td>\n",
              "      <td>1</td>\n",
              "      <td>3773</td>\n",
              "      <td>WIN$</td>\n",
              "    </tr>\n",
              "    <tr>\n",
              "      <th>2022-12-27 18:23:00</th>\n",
              "      <td>110305</td>\n",
              "      <td>110340</td>\n",
              "      <td>110300</td>\n",
              "      <td>110325</td>\n",
              "      <td>1079</td>\n",
              "      <td>1</td>\n",
              "      <td>2206</td>\n",
              "      <td>WIN$</td>\n",
              "    </tr>\n",
              "    <tr>\n",
              "      <th>2022-12-27 18:24:00</th>\n",
              "      <td>110325</td>\n",
              "      <td>110340</td>\n",
              "      <td>110090</td>\n",
              "      <td>110090</td>\n",
              "      <td>1758</td>\n",
              "      <td>1</td>\n",
              "      <td>8788</td>\n",
              "      <td>WIN$</td>\n",
              "    </tr>\n",
              "  </tbody>\n",
              "</table>\n",
              "<p>565 rows × 8 columns</p>\n",
              "</div>\n",
              "      <button class=\"colab-df-convert\" onclick=\"convertToInteractive('df-9d07879e-f14f-4adb-a34a-3e6d10135297')\"\n",
              "              title=\"Convert this dataframe to an interactive table.\"\n",
              "              style=\"display:none;\">\n",
              "        \n",
              "  <svg xmlns=\"http://www.w3.org/2000/svg\" height=\"24px\"viewBox=\"0 0 24 24\"\n",
              "       width=\"24px\">\n",
              "    <path d=\"M0 0h24v24H0V0z\" fill=\"none\"/>\n",
              "    <path d=\"M18.56 5.44l.94 2.06.94-2.06 2.06-.94-2.06-.94-.94-2.06-.94 2.06-2.06.94zm-11 1L8.5 8.5l.94-2.06 2.06-.94-2.06-.94L8.5 2.5l-.94 2.06-2.06.94zm10 10l.94 2.06.94-2.06 2.06-.94-2.06-.94-.94-2.06-.94 2.06-2.06.94z\"/><path d=\"M17.41 7.96l-1.37-1.37c-.4-.4-.92-.59-1.43-.59-.52 0-1.04.2-1.43.59L10.3 9.45l-7.72 7.72c-.78.78-.78 2.05 0 2.83L4 21.41c.39.39.9.59 1.41.59.51 0 1.02-.2 1.41-.59l7.78-7.78 2.81-2.81c.8-.78.8-2.07 0-2.86zM5.41 20L4 18.59l7.72-7.72 1.47 1.35L5.41 20z\"/>\n",
              "  </svg>\n",
              "      </button>\n",
              "      \n",
              "  <style>\n",
              "    .colab-df-container {\n",
              "      display:flex;\n",
              "      flex-wrap:wrap;\n",
              "      gap: 12px;\n",
              "    }\n",
              "\n",
              "    .colab-df-convert {\n",
              "      background-color: #E8F0FE;\n",
              "      border: none;\n",
              "      border-radius: 50%;\n",
              "      cursor: pointer;\n",
              "      display: none;\n",
              "      fill: #1967D2;\n",
              "      height: 32px;\n",
              "      padding: 0 0 0 0;\n",
              "      width: 32px;\n",
              "    }\n",
              "\n",
              "    .colab-df-convert:hover {\n",
              "      background-color: #E2EBFA;\n",
              "      box-shadow: 0px 1px 2px rgba(60, 64, 67, 0.3), 0px 1px 3px 1px rgba(60, 64, 67, 0.15);\n",
              "      fill: #174EA6;\n",
              "    }\n",
              "\n",
              "    [theme=dark] .colab-df-convert {\n",
              "      background-color: #3B4455;\n",
              "      fill: #D2E3FC;\n",
              "    }\n",
              "\n",
              "    [theme=dark] .colab-df-convert:hover {\n",
              "      background-color: #434B5C;\n",
              "      box-shadow: 0px 1px 3px 1px rgba(0, 0, 0, 0.15);\n",
              "      filter: drop-shadow(0px 1px 2px rgba(0, 0, 0, 0.3));\n",
              "      fill: #FFFFFF;\n",
              "    }\n",
              "  </style>\n",
              "\n",
              "      <script>\n",
              "        const buttonEl =\n",
              "          document.querySelector('#df-9d07879e-f14f-4adb-a34a-3e6d10135297 button.colab-df-convert');\n",
              "        buttonEl.style.display =\n",
              "          google.colab.kernel.accessAllowed ? 'block' : 'none';\n",
              "\n",
              "        async function convertToInteractive(key) {\n",
              "          const element = document.querySelector('#df-9d07879e-f14f-4adb-a34a-3e6d10135297');\n",
              "          const dataTable =\n",
              "            await google.colab.kernel.invokeFunction('convertToInteractive',\n",
              "                                                     [key], {});\n",
              "          if (!dataTable) return;\n",
              "\n",
              "          const docLinkHtml = 'Like what you see? Visit the ' +\n",
              "            '<a target=\"_blank\" href=https://colab.research.google.com/notebooks/data_table.ipynb>data table notebook</a>'\n",
              "            + ' to learn more about interactive tables.';\n",
              "          element.innerHTML = '';\n",
              "          dataTable['output_type'] = 'display_data';\n",
              "          await google.colab.output.renderOutput(dataTable, element);\n",
              "          const docLink = document.createElement('div');\n",
              "          docLink.innerHTML = docLinkHtml;\n",
              "          element.appendChild(docLink);\n",
              "        }\n",
              "      </script>\n",
              "    </div>\n",
              "  </div>\n",
              "  "
            ]
          },
          "metadata": {},
          "execution_count": 55
        }
      ]
    },
    {
      "cell_type": "code",
      "source": [
        "win2.open.plot();"
      ],
      "metadata": {
        "colab": {
          "base_uri": "https://localhost:8080/",
          "height": 449
        },
        "id": "t4jL1pr2OF5k",
        "outputId": "41cc2962-fdb1-49e5-d03d-d0224df50c48"
      },
      "execution_count": 56,
      "outputs": [
        {
          "output_type": "display_data",
          "data": {
            "text/plain": [
              "<Figure size 640x480 with 1 Axes>"
            ],
            "image/png": "[encoded data removed]"
          },
          "metadata": {}
        }
      ]
    },
    {
      "cell_type": "markdown",
      "source": [
        "## 1.2.Obtenção via bibliotecas/APIs"
      ],
      "metadata": {
        "id": "JUF1gdmmOI6j"
      }
    },
    {
      "cell_type": "markdown",
      "source": [
        "Vamos ver aqui exemplos de captura de dados de \"fora\", isto é, de fontes da Web, de plataformas famosas etc.\n",
        "\n",
        "Muito do processo de captura é feito de forma open-source por desenvolvedores individuais, ou seja, criam os projetos para fins particulares.\n",
        "\n",
        "Por causa disso, esses projetos tendem a ser descontinuados com o tempo.\n",
        "\n",
        "ATENÇÃO: as fontes aqui apresentadas podem e vão eventualmente apresentar algum erro ou problema, como: ficar fora do ar, não ter disponibilidade de dados para algum ativo, ter o código fonte removido do repositório central do Python, dentre outros."
      ],
      "metadata": {
        "id": "B0EClgh4SMQX"
      }
    },
    {
      "cell_type": "markdown",
      "source": [
        "Observe que, basicamente, o mundo dos conjuntos de dados das maiores fontes do mercado financeiro trabalham com dataframes"
      ],
      "metadata": {
        "id": "0GXrUt2QSYlk"
      }
    },
    {
      "cell_type": "markdown",
      "source": [
        "Autor: Ran Aroussi\n",
        "\n",
        "https://aroussi.com/"
      ],
      "metadata": {
        "id": "0yZ4lkKkT77V"
      }
    },
    {
      "cell_type": "code",
      "source": [
        "# Dados Yahoo Finance via biblioteca \"yfinance\"\n",
        "\n",
        "!pip install yfinance"
      ],
      "metadata": {
        "colab": {
          "base_uri": "https://localhost:8080/"
        },
        "id": "e384llqKTcLE",
        "outputId": "e02a65a8-d8be-4e27-dc35-c3523456a894"
      },
      "execution_count": null,
      "outputs": [
        {
          "output_type": "stream",
          "name": "stdout",
          "text": [
            "Looking in indexes: https://pypi.org/simple, https://us-python.pkg.dev/colab-wheels/public/simple/\n",
            "Collecting yfinance\n",
            "  Downloading yfinance-0.2.3-py2.py3-none-any.whl (50 kB)\n",
            "\u001b[2K     \u001b[90m━━━━━━━━━━━━━━━━━━━━━━━━━━━━━━━━━━━━━━━━\u001b[0m \u001b[32m50.4/50.4 KB\u001b[0m \u001b[31m7.0 MB/s\u001b[0m eta \u001b[36m0:00:00\u001b[0m\n",
            "\u001b[?25hCollecting requests>=2.26\n",
            "  Downloading requests-2.28.1-py3-none-any.whl (62 kB)\n",
            "\u001b[2K     \u001b[90m━━━━━━━━━━━━━━━━━━━━━━━━━━━━━━━━━━━━━━━━\u001b[0m \u001b[32m62.8/62.8 KB\u001b[0m \u001b[31m10.2 MB/s\u001b[0m eta \u001b[36m0:00:00\u001b[0m\n",
            "\u001b[?25hRequirement already satisfied: pandas>=1.3.0 in /usr/local/lib/python3.8/dist-packages (from yfinance) (1.3.5)\n",
            "Collecting html5lib>=1.1\n",
            "  Downloading html5lib-1.1-py2.py3-none-any.whl (112 kB)\n",
            "\u001b[2K     \u001b[90m━━━━━━━━━━━━━━━━━━━━━━━━━━━━━━━━━━━━━━\u001b[0m \u001b[32m112.2/112.2 KB\u001b[0m \u001b[31m15.6 MB/s\u001b[0m eta \u001b[36m0:00:00\u001b[0m\n",
            "\u001b[?25hRequirement already satisfied: appdirs>=1.4.4 in /usr/local/lib/python3.8/dist-packages (from yfinance) (1.4.4)\n",
            "Requirement already satisfied: multitasking>=0.0.7 in /usr/local/lib/python3.8/dist-packages (from yfinance) (0.0.11)\n",
            "Requirement already satisfied: pytz>=2022.5 in /usr/local/lib/python3.8/dist-packages (from yfinance) (2022.7)\n",
            "Requirement already satisfied: lxml>=4.9.1 in /usr/local/lib/python3.8/dist-packages (from yfinance) (4.9.2)\n",
            "Requirement already satisfied: numpy>=1.16.5 in /usr/local/lib/python3.8/dist-packages (from yfinance) (1.21.6)\n",
            "Collecting frozendict>=2.3.4\n",
            "  Downloading frozendict-2.3.4-cp38-cp38-manylinux_2_17_x86_64.manylinux2014_x86_64.whl (110 kB)\n",
            "\u001b[2K     \u001b[90m━━━━━━━━━━━━━━━━━━━━━━━━━━━━━━━━━━━━━━\u001b[0m \u001b[32m111.0/111.0 KB\u001b[0m \u001b[31m16.6 MB/s\u001b[0m eta \u001b[36m0:00:00\u001b[0m\n",
            "\u001b[?25hCollecting beautifulsoup4>=4.11.1\n",
            "  Downloading beautifulsoup4-4.11.1-py3-none-any.whl (128 kB)\n",
            "\u001b[2K     \u001b[90m━━━━━━━━━━━━━━━━━━━━━━━━━━━━━━━━━━━━━━\u001b[0m \u001b[32m128.2/128.2 KB\u001b[0m \u001b[31m17.3 MB/s\u001b[0m eta \u001b[36m0:00:00\u001b[0m\n",
            "\u001b[?25hCollecting cryptography>=3.3.2\n",
            "  Downloading cryptography-39.0.0-cp36-abi3-manylinux_2_24_x86_64.whl (4.1 MB)\n",
            "\u001b[2K     \u001b[90m━━━━━━━━━━━━━━━━━━━━━━━━━━━━━━━━━━━━━━━━\u001b[0m \u001b[32m4.1/4.1 MB\u001b[0m \u001b[31m82.0 MB/s\u001b[0m eta \u001b[36m0:00:00\u001b[0m\n",
            "\u001b[?25hCollecting soupsieve>1.2\n",
            "  Downloading soupsieve-2.3.2.post1-py3-none-any.whl (37 kB)\n",
            "Requirement already satisfied: cffi>=1.12 in /usr/local/lib/python3.8/dist-packages (from cryptography>=3.3.2->yfinance) (1.15.1)\n",
            "Requirement already satisfied: six>=1.9 in /usr/local/lib/python3.8/dist-packages (from html5lib>=1.1->yfinance) (1.15.0)\n",
            "Requirement already satisfied: webencodings in /usr/local/lib/python3.8/dist-packages (from html5lib>=1.1->yfinance) (0.5.1)\n",
            "Requirement already satisfied: python-dateutil>=2.7.3 in /usr/local/lib/python3.8/dist-packages (from pandas>=1.3.0->yfinance) (2.8.2)\n",
            "Requirement already satisfied: urllib3<1.27,>=1.21.1 in /usr/local/lib/python3.8/dist-packages (from requests>=2.26->yfinance) (1.24.3)\n",
            "Requirement already satisfied: idna<4,>=2.5 in /usr/local/lib/python3.8/dist-packages (from requests>=2.26->yfinance) (2.10)\n",
            "Requirement already satisfied: certifi>=2017.4.17 in /usr/local/lib/python3.8/dist-packages (from requests>=2.26->yfinance) (2022.12.7)\n",
            "Requirement already satisfied: charset-normalizer<3,>=2 in /usr/local/lib/python3.8/dist-packages (from requests>=2.26->yfinance) (2.1.1)\n",
            "Requirement already satisfied: pycparser in /usr/local/lib/python3.8/dist-packages (from cffi>=1.12->cryptography>=3.3.2->yfinance) (2.21)\n",
            "Installing collected packages: soupsieve, requests, html5lib, frozendict, cryptography, beautifulsoup4, yfinance\n",
            "  Attempting uninstall: requests\n",
            "    Found existing installation: requests 2.25.1\n",
            "    Uninstalling requests-2.25.1:\n",
            "      Successfully uninstalled requests-2.25.1\n",
            "  Attempting uninstall: html5lib\n",
            "    Found existing installation: html5lib 1.0.1\n",
            "    Uninstalling html5lib-1.0.1:\n",
            "      Successfully uninstalled html5lib-1.0.1\n",
            "  Attempting uninstall: beautifulsoup4\n",
            "    Found existing installation: beautifulsoup4 4.6.3\n",
            "    Uninstalling beautifulsoup4-4.6.3:\n",
            "      Successfully uninstalled beautifulsoup4-4.6.3\n",
            "Successfully installed beautifulsoup4-4.11.1 cryptography-39.0.0 frozendict-2.3.4 html5lib-1.1 requests-2.28.1 soupsieve-2.3.2.post1 yfinance-0.2.3\n"
          ]
        }
      ]
    },
    {
      "cell_type": "code",
      "source": [
        "import yfinance as yf"
      ],
      "metadata": {
        "id": "e1L1v9ZGUMod"
      },
      "execution_count": null,
      "outputs": []
    },
    {
      "cell_type": "code",
      "source": [
        "yf.download('ITUB4.SA', start = '2020-01-01')"
      ],
      "metadata": {
        "colab": {
          "base_uri": "https://localhost:8080/",
          "height": 472
        },
        "id": "ROJKKrsLUROs",
        "outputId": "e7a98fd0-a7bd-497d-b6ce-8f48c8449854"
      },
      "execution_count": null,
      "outputs": [
        {
          "output_type": "stream",
          "name": "stdout",
          "text": [
            "\r[*********************100%***********************]  1 of 1 completed\n"
          ]
        },
        {
          "output_type": "execute_result",
          "data": {
            "text/plain": [
              "                 Open       High        Low      Close  Adj Close    Volume\n",
              "Date                                                                       \n",
              "2020-01-02  37.279999  38.029999  36.990002  38.029999  34.366837  20666100\n",
              "2020-01-03  37.500000  38.240002  37.450001  37.630001  34.005352  24891400\n",
              "2020-01-06  37.549999  37.580002  36.910000  37.070000  33.499298  22294700\n",
              "2020-01-07  37.070000  37.240002  36.209999  36.209999  32.722141  20000900\n",
              "2020-01-08  36.450001  36.810001  35.619999  35.619999  32.188961  25980900\n",
              "...               ...        ...        ...        ...        ...       ...\n",
              "2023-01-03  24.490000  24.650000  23.830000  23.980000  23.980000  29873800\n",
              "2023-01-04  24.059999  24.520000  23.879999  24.049999  24.049999  29881500\n",
              "2023-01-05  24.100000  24.910000  24.020000  24.799999  24.799999  36322800\n",
              "2023-01-06  24.930000  25.309999  24.799999  25.230000  25.230000  37628200\n",
              "2023-01-09  25.000000  25.440001  24.889999  25.360001  25.360001   9031000\n",
              "\n",
              "[751 rows x 6 columns]"
            ],
            "text/html": [
              "\n",
              "  <div id=\"df-4c0c46b2-4867-4e64-ab0d-462d6983e660\">\n",
              "    <div class=\"colab-df-container\">\n",
              "      <div>\n",
              "<style scoped>\n",
              "    .dataframe tbody tr th:only-of-type {\n",
              "        vertical-align: middle;\n",
              "    }\n",
              "\n",
              "    .dataframe tbody tr th {\n",
              "        vertical-align: top;\n",
              "    }\n",
              "\n",
              "    .dataframe thead th {\n",
              "        text-align: right;\n",
              "    }\n",
              "</style>\n",
              "<table border=\"1\" class=\"dataframe\">\n",
              "  <thead>\n",
              "    <tr style=\"text-align: right;\">\n",
              "      <th></th>\n",
              "      <th>Open</th>\n",
              "      <th>High</th>\n",
              "      <th>Low</th>\n",
              "      <th>Close</th>\n",
              "      <th>Adj Close</th>\n",
              "      <th>Volume</th>\n",
              "    </tr>\n",
              "    <tr>\n",
              "      <th>Date</th>\n",
              "      <th></th>\n",
              "      <th></th>\n",
              "      <th></th>\n",
              "      <th></th>\n",
              "      <th></th>\n",
              "      <th></th>\n",
              "    </tr>\n",
              "  </thead>\n",
              "  <tbody>\n",
              "    <tr>\n",
              "      <th>2020-01-02</th>\n",
              "      <td>37.279999</td>\n",
              "      <td>38.029999</td>\n",
              "      <td>36.990002</td>\n",
              "      <td>38.029999</td>\n",
              "      <td>34.366837</td>\n",
              "      <td>20666100</td>\n",
              "    </tr>\n",
              "    <tr>\n",
              "      <th>2020-01-03</th>\n",
              "      <td>37.500000</td>\n",
              "      <td>38.240002</td>\n",
              "      <td>37.450001</td>\n",
              "      <td>37.630001</td>\n",
              "      <td>34.005352</td>\n",
              "      <td>24891400</td>\n",
              "    </tr>\n",
              "    <tr>\n",
              "      <th>2020-01-06</th>\n",
              "      <td>37.549999</td>\n",
              "      <td>37.580002</td>\n",
              "      <td>36.910000</td>\n",
              "      <td>37.070000</td>\n",
              "      <td>33.499298</td>\n",
              "      <td>22294700</td>\n",
              "    </tr>\n",
              "    <tr>\n",
              "      <th>2020-01-07</th>\n",
              "      <td>37.070000</td>\n",
              "      <td>37.240002</td>\n",
              "      <td>36.209999</td>\n",
              "      <td>36.209999</td>\n",
              "      <td>32.722141</td>\n",
              "      <td>20000900</td>\n",
              "    </tr>\n",
              "    <tr>\n",
              "      <th>2020-01-08</th>\n",
              "      <td>36.450001</td>\n",
              "      <td>36.810001</td>\n",
              "      <td>35.619999</td>\n",
              "      <td>35.619999</td>\n",
              "      <td>32.188961</td>\n",
              "      <td>25980900</td>\n",
              "    </tr>\n",
              "    <tr>\n",
              "      <th>...</th>\n",
              "      <td>...</td>\n",
              "      <td>...</td>\n",
              "      <td>...</td>\n",
              "      <td>...</td>\n",
              "      <td>...</td>\n",
              "      <td>...</td>\n",
              "    </tr>\n",
              "    <tr>\n",
              "      <th>2023-01-03</th>\n",
              "      <td>24.490000</td>\n",
              "      <td>24.650000</td>\n",
              "      <td>23.830000</td>\n",
              "      <td>23.980000</td>\n",
              "      <td>23.980000</td>\n",
              "      <td>29873800</td>\n",
              "    </tr>\n",
              "    <tr>\n",
              "      <th>2023-01-04</th>\n",
              "      <td>24.059999</td>\n",
              "      <td>24.520000</td>\n",
              "      <td>23.879999</td>\n",
              "      <td>24.049999</td>\n",
              "      <td>24.049999</td>\n",
              "      <td>29881500</td>\n",
              "    </tr>\n",
              "    <tr>\n",
              "      <th>2023-01-05</th>\n",
              "      <td>24.100000</td>\n",
              "      <td>24.910000</td>\n",
              "      <td>24.020000</td>\n",
              "      <td>24.799999</td>\n",
              "      <td>24.799999</td>\n",
              "      <td>36322800</td>\n",
              "    </tr>\n",
              "    <tr>\n",
              "      <th>2023-01-06</th>\n",
              "      <td>24.930000</td>\n",
              "      <td>25.309999</td>\n",
              "      <td>24.799999</td>\n",
              "      <td>25.230000</td>\n",
              "      <td>25.230000</td>\n",
              "      <td>37628200</td>\n",
              "    </tr>\n",
              "    <tr>\n",
              "      <th>2023-01-09</th>\n",
              "      <td>25.000000</td>\n",
              "      <td>25.440001</td>\n",
              "      <td>24.889999</td>\n",
              "      <td>25.360001</td>\n",
              "      <td>25.360001</td>\n",
              "      <td>9031000</td>\n",
              "    </tr>\n",
              "  </tbody>\n",
              "</table>\n",
              "<p>751 rows × 6 columns</p>\n",
              "</div>\n",
              "      <button class=\"colab-df-convert\" onclick=\"convertToInteractive('df-4c0c46b2-4867-4e64-ab0d-462d6983e660')\"\n",
              "              title=\"Convert this dataframe to an interactive table.\"\n",
              "              style=\"display:none;\">\n",
              "        \n",
              "  <svg xmlns=\"http://www.w3.org/2000/svg\" height=\"24px\"viewBox=\"0 0 24 24\"\n",
              "       width=\"24px\">\n",
              "    <path d=\"M0 0h24v24H0V0z\" fill=\"none\"/>\n",
              "    <path d=\"M18.56 5.44l.94 2.06.94-2.06 2.06-.94-2.06-.94-.94-2.06-.94 2.06-2.06.94zm-11 1L8.5 8.5l.94-2.06 2.06-.94-2.06-.94L8.5 2.5l-.94 2.06-2.06.94zm10 10l.94 2.06.94-2.06 2.06-.94-2.06-.94-.94-2.06-.94 2.06-2.06.94z\"/><path d=\"M17.41 7.96l-1.37-1.37c-.4-.4-.92-.59-1.43-.59-.52 0-1.04.2-1.43.59L10.3 9.45l-7.72 7.72c-.78.78-.78 2.05 0 2.83L4 21.41c.39.39.9.59 1.41.59.51 0 1.02-.2 1.41-.59l7.78-7.78 2.81-2.81c.8-.78.8-2.07 0-2.86zM5.41 20L4 18.59l7.72-7.72 1.47 1.35L5.41 20z\"/>\n",
              "  </svg>\n",
              "      </button>\n",
              "      \n",
              "  <style>\n",
              "    .colab-df-container {\n",
              "      display:flex;\n",
              "      flex-wrap:wrap;\n",
              "      gap: 12px;\n",
              "    }\n",
              "\n",
              "    .colab-df-convert {\n",
              "      background-color: #E8F0FE;\n",
              "      border: none;\n",
              "      border-radius: 50%;\n",
              "      cursor: pointer;\n",
              "      display: none;\n",
              "      fill: #1967D2;\n",
              "      height: 32px;\n",
              "      padding: 0 0 0 0;\n",
              "      width: 32px;\n",
              "    }\n",
              "\n",
              "    .colab-df-convert:hover {\n",
              "      background-color: #E2EBFA;\n",
              "      box-shadow: 0px 1px 2px rgba(60, 64, 67, 0.3), 0px 1px 3px 1px rgba(60, 64, 67, 0.15);\n",
              "      fill: #174EA6;\n",
              "    }\n",
              "\n",
              "    [theme=dark] .colab-df-convert {\n",
              "      background-color: #3B4455;\n",
              "      fill: #D2E3FC;\n",
              "    }\n",
              "\n",
              "    [theme=dark] .colab-df-convert:hover {\n",
              "      background-color: #434B5C;\n",
              "      box-shadow: 0px 1px 3px 1px rgba(0, 0, 0, 0.15);\n",
              "      filter: drop-shadow(0px 1px 2px rgba(0, 0, 0, 0.3));\n",
              "      fill: #FFFFFF;\n",
              "    }\n",
              "  </style>\n",
              "\n",
              "      <script>\n",
              "        const buttonEl =\n",
              "          document.querySelector('#df-4c0c46b2-4867-4e64-ab0d-462d6983e660 button.colab-df-convert');\n",
              "        buttonEl.style.display =\n",
              "          google.colab.kernel.accessAllowed ? 'block' : 'none';\n",
              "\n",
              "        async function convertToInteractive(key) {\n",
              "          const element = document.querySelector('#df-4c0c46b2-4867-4e64-ab0d-462d6983e660');\n",
              "          const dataTable =\n",
              "            await google.colab.kernel.invokeFunction('convertToInteractive',\n",
              "                                                     [key], {});\n",
              "          if (!dataTable) return;\n",
              "\n",
              "          const docLinkHtml = 'Like what you see? Visit the ' +\n",
              "            '<a target=\"_blank\" href=https://colab.research.google.com/notebooks/data_table.ipynb>data table notebook</a>'\n",
              "            + ' to learn more about interactive tables.';\n",
              "          element.innerHTML = '';\n",
              "          dataTable['output_type'] = 'display_data';\n",
              "          await google.colab.output.renderOutput(dataTable, element);\n",
              "          const docLink = document.createElement('div');\n",
              "          docLink.innerHTML = docLinkHtml;\n",
              "          element.appendChild(docLink);\n",
              "        }\n",
              "      </script>\n",
              "    </div>\n",
              "  </div>\n",
              "  "
            ]
          },
          "metadata": {},
          "execution_count": 4
        }
      ]
    },
    {
      "cell_type": "code",
      "source": [
        "itub4 = yf.download('ITUB4.SA', period = 'max')"
      ],
      "metadata": {
        "colab": {
          "base_uri": "https://localhost:8080/"
        },
        "id": "EGIff7mWUZNk",
        "outputId": "bffdfd47-d64c-4ba2-af6f-0b97bdae6349"
      },
      "execution_count": null,
      "outputs": [
        {
          "output_type": "stream",
          "name": "stdout",
          "text": [
            "\r[*********************100%***********************]  1 of 1 completed\n"
          ]
        }
      ]
    },
    {
      "cell_type": "code",
      "source": [
        "itub4.head()"
      ],
      "metadata": {
        "colab": {
          "base_uri": "https://localhost:8080/",
          "height": 238
        },
        "id": "Xbpn16alUzW8",
        "outputId": "f6dd5c68-bcff-4d5e-d050-ef16e295b500"
      },
      "execution_count": null,
      "outputs": [
        {
          "output_type": "execute_result",
          "data": {
            "text/plain": [
              "                Open      High       Low     Close  Adj Close  Volume\n",
              "Date                                                                 \n",
              "2000-12-21  2.815505  2.988535  2.815174  2.960552   1.767840   74224\n",
              "2000-12-22  2.930748  2.930748  2.814843  2.832229   1.691213   23312\n",
              "2000-12-25  2.832229  2.832229  2.832229  2.832229   1.691213       0\n",
              "2000-12-26  2.816664  2.834712  2.790006  2.831401   1.690719    7851\n",
              "2000-12-27  2.881074  2.927437  2.831401  2.927437   1.748065   26996"
            ],
            "text/html": [
              "\n",
              "  <div id=\"df-507c0e24-ca9c-4954-807e-355225abcee2\">\n",
              "    <div class=\"colab-df-container\">\n",
              "      <div>\n",
              "<style scoped>\n",
              "    .dataframe tbody tr th:only-of-type {\n",
              "        vertical-align: middle;\n",
              "    }\n",
              "\n",
              "    .dataframe tbody tr th {\n",
              "        vertical-align: top;\n",
              "    }\n",
              "\n",
              "    .dataframe thead th {\n",
              "        text-align: right;\n",
              "    }\n",
              "</style>\n",
              "<table border=\"1\" class=\"dataframe\">\n",
              "  <thead>\n",
              "    <tr style=\"text-align: right;\">\n",
              "      <th></th>\n",
              "      <th>Open</th>\n",
              "      <th>High</th>\n",
              "      <th>Low</th>\n",
              "      <th>Close</th>\n",
              "      <th>Adj Close</th>\n",
              "      <th>Volume</th>\n",
              "    </tr>\n",
              "    <tr>\n",
              "      <th>Date</th>\n",
              "      <th></th>\n",
              "      <th></th>\n",
              "      <th></th>\n",
              "      <th></th>\n",
              "      <th></th>\n",
              "      <th></th>\n",
              "    </tr>\n",
              "  </thead>\n",
              "  <tbody>\n",
              "    <tr>\n",
              "      <th>2000-12-21</th>\n",
              "      <td>2.815505</td>\n",
              "      <td>2.988535</td>\n",
              "      <td>2.815174</td>\n",
              "      <td>2.960552</td>\n",
              "      <td>1.767840</td>\n",
              "      <td>74224</td>\n",
              "    </tr>\n",
              "    <tr>\n",
              "      <th>2000-12-22</th>\n",
              "      <td>2.930748</td>\n",
              "      <td>2.930748</td>\n",
              "      <td>2.814843</td>\n",
              "      <td>2.832229</td>\n",
              "      <td>1.691213</td>\n",
              "      <td>23312</td>\n",
              "    </tr>\n",
              "    <tr>\n",
              "      <th>2000-12-25</th>\n",
              "      <td>2.832229</td>\n",
              "      <td>2.832229</td>\n",
              "      <td>2.832229</td>\n",
              "      <td>2.832229</td>\n",
              "      <td>1.691213</td>\n",
              "      <td>0</td>\n",
              "    </tr>\n",
              "    <tr>\n",
              "      <th>2000-12-26</th>\n",
              "      <td>2.816664</td>\n",
              "      <td>2.834712</td>\n",
              "      <td>2.790006</td>\n",
              "      <td>2.831401</td>\n",
              "      <td>1.690719</td>\n",
              "      <td>7851</td>\n",
              "    </tr>\n",
              "    <tr>\n",
              "      <th>2000-12-27</th>\n",
              "      <td>2.881074</td>\n",
              "      <td>2.927437</td>\n",
              "      <td>2.831401</td>\n",
              "      <td>2.927437</td>\n",
              "      <td>1.748065</td>\n",
              "      <td>26996</td>\n",
              "    </tr>\n",
              "  </tbody>\n",
              "</table>\n",
              "</div>\n",
              "      <button class=\"colab-df-convert\" onclick=\"convertToInteractive('df-507c0e24-ca9c-4954-807e-355225abcee2')\"\n",
              "              title=\"Convert this dataframe to an interactive table.\"\n",
              "              style=\"display:none;\">\n",
              "        \n",
              "  <svg xmlns=\"http://www.w3.org/2000/svg\" height=\"24px\"viewBox=\"0 0 24 24\"\n",
              "       width=\"24px\">\n",
              "    <path d=\"M0 0h24v24H0V0z\" fill=\"none\"/>\n",
              "    <path d=\"M18.56 5.44l.94 2.06.94-2.06 2.06-.94-2.06-.94-.94-2.06-.94 2.06-2.06.94zm-11 1L8.5 8.5l.94-2.06 2.06-.94-2.06-.94L8.5 2.5l-.94 2.06-2.06.94zm10 10l.94 2.06.94-2.06 2.06-.94-2.06-.94-.94-2.06-.94 2.06-2.06.94z\"/><path d=\"M17.41 7.96l-1.37-1.37c-.4-.4-.92-.59-1.43-.59-.52 0-1.04.2-1.43.59L10.3 9.45l-7.72 7.72c-.78.78-.78 2.05 0 2.83L4 21.41c.39.39.9.59 1.41.59.51 0 1.02-.2 1.41-.59l7.78-7.78 2.81-2.81c.8-.78.8-2.07 0-2.86zM5.41 20L4 18.59l7.72-7.72 1.47 1.35L5.41 20z\"/>\n",
              "  </svg>\n",
              "      </button>\n",
              "      \n",
              "  <style>\n",
              "    .colab-df-container {\n",
              "      display:flex;\n",
              "      flex-wrap:wrap;\n",
              "      gap: 12px;\n",
              "    }\n",
              "\n",
              "    .colab-df-convert {\n",
              "      background-color: #E8F0FE;\n",
              "      border: none;\n",
              "      border-radius: 50%;\n",
              "      cursor: pointer;\n",
              "      display: none;\n",
              "      fill: #1967D2;\n",
              "      height: 32px;\n",
              "      padding: 0 0 0 0;\n",
              "      width: 32px;\n",
              "    }\n",
              "\n",
              "    .colab-df-convert:hover {\n",
              "      background-color: #E2EBFA;\n",
              "      box-shadow: 0px 1px 2px rgba(60, 64, 67, 0.3), 0px 1px 3px 1px rgba(60, 64, 67, 0.15);\n",
              "      fill: #174EA6;\n",
              "    }\n",
              "\n",
              "    [theme=dark] .colab-df-convert {\n",
              "      background-color: #3B4455;\n",
              "      fill: #D2E3FC;\n",
              "    }\n",
              "\n",
              "    [theme=dark] .colab-df-convert:hover {\n",
              "      background-color: #434B5C;\n",
              "      box-shadow: 0px 1px 3px 1px rgba(0, 0, 0, 0.15);\n",
              "      filter: drop-shadow(0px 1px 2px rgba(0, 0, 0, 0.3));\n",
              "      fill: #FFFFFF;\n",
              "    }\n",
              "  </style>\n",
              "\n",
              "      <script>\n",
              "        const buttonEl =\n",
              "          document.querySelector('#df-507c0e24-ca9c-4954-807e-355225abcee2 button.colab-df-convert');\n",
              "        buttonEl.style.display =\n",
              "          google.colab.kernel.accessAllowed ? 'block' : 'none';\n",
              "\n",
              "        async function convertToInteractive(key) {\n",
              "          const element = document.querySelector('#df-507c0e24-ca9c-4954-807e-355225abcee2');\n",
              "          const dataTable =\n",
              "            await google.colab.kernel.invokeFunction('convertToInteractive',\n",
              "                                                     [key], {});\n",
              "          if (!dataTable) return;\n",
              "\n",
              "          const docLinkHtml = 'Like what you see? Visit the ' +\n",
              "            '<a target=\"_blank\" href=https://colab.research.google.com/notebooks/data_table.ipynb>data table notebook</a>'\n",
              "            + ' to learn more about interactive tables.';\n",
              "          element.innerHTML = '';\n",
              "          dataTable['output_type'] = 'display_data';\n",
              "          await google.colab.output.renderOutput(dataTable, element);\n",
              "          const docLink = document.createElement('div');\n",
              "          docLink.innerHTML = docLinkHtml;\n",
              "          element.appendChild(docLink);\n",
              "        }\n",
              "      </script>\n",
              "    </div>\n",
              "  </div>\n",
              "  "
            ]
          },
          "metadata": {},
          "execution_count": 9
        }
      ]
    },
    {
      "cell_type": "code",
      "source": [
        "itub4.Close.plot();"
      ],
      "metadata": {
        "colab": {
          "base_uri": "https://localhost:8080/",
          "height": 269
        },
        "id": "mDDsEPoyU0Cz",
        "outputId": "c9490ee4-1b68-4ed1-b871-cb45e112cd81"
      },
      "execution_count": null,
      "outputs": [
        {
          "output_type": "display_data",
          "data": {
            "text/plain": [
              "<Figure size 432x288 with 1 Axes>"
            ],
            "image/png": "[encoded data removed]"
          },
          "metadata": {
            "needs_background": "light"
          }
        }
      ]
    },
    {
      "cell_type": "code",
      "source": [
        "itub4[['Close','Adj Close']].plot();"
      ],
      "metadata": {
        "colab": {
          "base_uri": "https://localhost:8080/",
          "height": 269
        },
        "id": "v25vnL7XVp7E",
        "outputId": "68793362-af06-4249-d4d6-21c563333ec7"
      },
      "execution_count": null,
      "outputs": [
        {
          "output_type": "display_data",
          "data": {
            "text/plain": [
              "<Figure size 432x288 with 1 Axes>"
            ],
            "image/png": "[encoded data removed]"
          },
          "metadata": {
            "needs_background": "light"
          }
        }
      ]
    },
    {
      "cell_type": "markdown",
      "source": [
        "Obtenção via APIs"
      ],
      "metadata": {
        "id": "IqvxfKBEVzIt"
      }
    },
    {
      "cell_type": "markdown",
      "source": [
        "O que é uma API?\n",
        "APIs são mecanismos que permitem que dois componentes de software se comuniquem usando um conjunto de definições e protocolos. Por exemplo, o sistema de software do instituto meteorológico contém dados meteorológicos diários. A aplicação para a previsão do tempo em seu telefone “fala” com esse sistema por meio de APIs e mostra atualizações meteorológicas diárias no telefone.\n",
        "\n",
        "https://aws.amazon.com/pt/what-is/api/"
      ],
      "metadata": {
        "id": "JNsWsPThWPO9"
      }
    },
    {
      "cell_type": "markdown",
      "source": [
        "Dados do TradingView"
      ],
      "metadata": {
        "id": "Mmx7tQRYWipc"
      }
    },
    {
      "cell_type": "code",
      "source": [
        "!pip install --upgrade --no-cache-dir git+https://github.com/StreamAlpha/tvdatafeed.git"
      ],
      "metadata": {
        "colab": {
          "base_uri": "https://localhost:8080/"
        },
        "id": "YvzvasIfXMVr",
        "outputId": "2dccdabe-d1d4-4760-c044-9ca129bdeead"
      },
      "execution_count": null,
      "outputs": [
        {
          "output_type": "stream",
          "name": "stdout",
          "text": [
            "Looking in indexes: https://pypi.org/simple, https://us-python.pkg.dev/colab-wheels/public/simple/\n",
            "Collecting git+https://github.com/StreamAlpha/tvdatafeed.git\n",
            "  Cloning https://github.com/StreamAlpha/tvdatafeed.git to /tmp/pip-req-build-abs1s91p\n",
            "  Running command git clone --filter=blob:none --quiet https://github.com/StreamAlpha/tvdatafeed.git /tmp/pip-req-build-abs1s91p\n",
            "  Resolved https://github.com/StreamAlpha/tvdatafeed.git to commit a7034f04509b67224618917c29272796e4fff858\n",
            "  Preparing metadata (setup.py) ... \u001b[?25l\u001b[?25hdone\n",
            "Requirement already satisfied: setuptools in /usr/local/lib/python3.8/dist-packages (from tvdatafeed==2.1.0) (57.4.0)\n",
            "Requirement already satisfied: pandas in /usr/local/lib/python3.8/dist-packages (from tvdatafeed==2.1.0) (1.3.5)\n",
            "Collecting websocket-client\n",
            "  Downloading websocket_client-1.4.2-py3-none-any.whl (55 kB)\n",
            "\u001b[2K     \u001b[90m━━━━━━━━━━━━━━━━━━━━━━━━━━━━━━━━━━━━━━━━\u001b[0m \u001b[32m55.3/55.3 KB\u001b[0m \u001b[31m19.1 MB/s\u001b[0m eta \u001b[36m0:00:00\u001b[0m\n",
            "\u001b[?25hRequirement already satisfied: requests in /usr/local/lib/python3.8/dist-packages (from tvdatafeed==2.1.0) (2.28.1)\n",
            "Requirement already satisfied: pytz>=2017.3 in /usr/local/lib/python3.8/dist-packages (from pandas->tvdatafeed==2.1.0) (2022.7)\n",
            "Requirement already satisfied: python-dateutil>=2.7.3 in /usr/local/lib/python3.8/dist-packages (from pandas->tvdatafeed==2.1.0) (2.8.2)\n",
            "Requirement already satisfied: numpy>=1.17.3 in /usr/local/lib/python3.8/dist-packages (from pandas->tvdatafeed==2.1.0) (1.21.6)\n",
            "Requirement already satisfied: certifi>=2017.4.17 in /usr/local/lib/python3.8/dist-packages (from requests->tvdatafeed==2.1.0) (2022.12.7)\n",
            "Requirement already satisfied: idna<4,>=2.5 in /usr/local/lib/python3.8/dist-packages (from requests->tvdatafeed==2.1.0) (2.10)\n",
            "Requirement already satisfied: charset-normalizer<3,>=2 in /usr/local/lib/python3.8/dist-packages (from requests->tvdatafeed==2.1.0) (2.1.1)\n",
            "Requirement already satisfied: urllib3<1.27,>=1.21.1 in /usr/local/lib/python3.8/dist-packages (from requests->tvdatafeed==2.1.0) (1.24.3)\n",
            "Requirement already satisfied: six>=1.5 in /usr/local/lib/python3.8/dist-packages (from python-dateutil>=2.7.3->pandas->tvdatafeed==2.1.0) (1.15.0)\n",
            "Building wheels for collected packages: tvdatafeed\n",
            "  Building wheel for tvdatafeed (setup.py) ... \u001b[?25l\u001b[?25hdone\n",
            "  Created wheel for tvdatafeed: filename=tvdatafeed-2.1.0-py3-none-any.whl size=7570 sha256=f228d6885c89ebf7fae7af498461074345da3818bbfa07521c9e9ee2deb01dc2\n",
            "  Stored in directory: /tmp/pip-ephem-wheel-cache-fuaaa7wi/wheels/61/5f/7d/953ab2e3eaea9db6badc898aec3ff220779870e60932341e72\n",
            "Successfully built tvdatafeed\n",
            "Installing collected packages: websocket-client, tvdatafeed\n",
            "Successfully installed tvdatafeed-2.1.0 websocket-client-1.4.2\n"
          ]
        }
      ]
    },
    {
      "cell_type": "code",
      "source": [
        "from tvDatafeed import TvDatafeed, Interval"
      ],
      "metadata": {
        "id": "_ZDuuvGGXkQM"
      },
      "execution_count": null,
      "outputs": []
    },
    {
      "cell_type": "code",
      "source": [
        "tv = TvDatafeed()\n",
        "\n",
        "lren = tv.get_hist(symbol = 'LREN3', exchange = 'BMFBOVESPA', interval=Interval.in_daily, n_bars=10000)"
      ],
      "metadata": {
        "colab": {
          "base_uri": "https://localhost:8080/"
        },
        "id": "9BfVB_n3X5vb",
        "outputId": "9ec875b8-f3c0-4d72-80f3-0943bc627057"
      },
      "execution_count": null,
      "outputs": [
        {
          "output_type": "stream",
          "name": "stderr",
          "text": [
            "WARNING:tvDatafeed.main:you are using nologin method, data you access may be limited\n"
          ]
        }
      ]
    },
    {
      "cell_type": "code",
      "source": [
        "lren.tail()"
      ],
      "metadata": {
        "colab": {
          "base_uri": "https://localhost:8080/",
          "height": 368
        },
        "id": "KG1XUwvAYP47",
        "outputId": "ab5093d4-22c3-4b0d-a1a2-0521a9ec46be"
      },
      "execution_count": null,
      "outputs": [
        {
          "output_type": "execute_result",
          "data": {
            "text/plain": [
              "                               symbol       open       high        low  \\\n",
              "datetime                                                                 \n",
              "2023-01-03 13:00:00  BMFBOVESPA:LREN3  19.450001  19.639999  18.680000   \n",
              "2023-01-04 13:00:00  BMFBOVESPA:LREN3  19.260000  19.389999  18.780001   \n",
              "2023-01-05 13:00:00  BMFBOVESPA:LREN3  19.150000  19.410000  18.379999   \n",
              "2023-01-06 13:00:00  BMFBOVESPA:LREN3  18.900000  19.580000  18.780001   \n",
              "2023-01-09 13:00:00  BMFBOVESPA:LREN3  19.090000  19.300000  18.780000   \n",
              "\n",
              "                         close      volume  \n",
              "datetime                                    \n",
              "2023-01-03 13:00:00  18.870001  16029900.0  \n",
              "2023-01-04 13:00:00  18.990000  15570400.0  \n",
              "2023-01-05 13:00:00  18.700001  35651300.0  \n",
              "2023-01-06 13:00:00  19.389999  22888400.0  \n",
              "2023-01-09 13:00:00  19.130000   5555500.0  "
            ],
            "text/html": [
              "\n",
              "  <div id=\"df-a5934a44-322a-41d8-8418-8b218c49cea9\">\n",
              "    <div class=\"colab-df-container\">\n",
              "      <div>\n",
              "<style scoped>\n",
              "    .dataframe tbody tr th:only-of-type {\n",
              "        vertical-align: middle;\n",
              "    }\n",
              "\n",
              "    .dataframe tbody tr th {\n",
              "        vertical-align: top;\n",
              "    }\n",
              "\n",
              "    .dataframe thead th {\n",
              "        text-align: right;\n",
              "    }\n",
              "</style>\n",
              "<table border=\"1\" class=\"dataframe\">\n",
              "  <thead>\n",
              "    <tr style=\"text-align: right;\">\n",
              "      <th></th>\n",
              "      <th>symbol</th>\n",
              "      <th>open</th>\n",
              "      <th>high</th>\n",
              "      <th>low</th>\n",
              "      <th>close</th>\n",
              "      <th>volume</th>\n",
              "    </tr>\n",
              "    <tr>\n",
              "      <th>datetime</th>\n",
              "      <th></th>\n",
              "      <th></th>\n",
              "      <th></th>\n",
              "      <th></th>\n",
              "      <th></th>\n",
              "      <th></th>\n",
              "    </tr>\n",
              "  </thead>\n",
              "  <tbody>\n",
              "    <tr>\n",
              "      <th>2023-01-03 13:00:00</th>\n",
              "      <td>BMFBOVESPA:LREN3</td>\n",
              "      <td>19.450001</td>\n",
              "      <td>19.639999</td>\n",
              "      <td>18.680000</td>\n",
              "      <td>18.870001</td>\n",
              "      <td>16029900.0</td>\n",
              "    </tr>\n",
              "    <tr>\n",
              "      <th>2023-01-04 13:00:00</th>\n",
              "      <td>BMFBOVESPA:LREN3</td>\n",
              "      <td>19.260000</td>\n",
              "      <td>19.389999</td>\n",
              "      <td>18.780001</td>\n",
              "      <td>18.990000</td>\n",
              "      <td>15570400.0</td>\n",
              "    </tr>\n",
              "    <tr>\n",
              "      <th>2023-01-05 13:00:00</th>\n",
              "      <td>BMFBOVESPA:LREN3</td>\n",
              "      <td>19.150000</td>\n",
              "      <td>19.410000</td>\n",
              "      <td>18.379999</td>\n",
              "      <td>18.700001</td>\n",
              "      <td>35651300.0</td>\n",
              "    </tr>\n",
              "    <tr>\n",
              "      <th>2023-01-06 13:00:00</th>\n",
              "      <td>BMFBOVESPA:LREN3</td>\n",
              "      <td>18.900000</td>\n",
              "      <td>19.580000</td>\n",
              "      <td>18.780001</td>\n",
              "      <td>19.389999</td>\n",
              "      <td>22888400.0</td>\n",
              "    </tr>\n",
              "    <tr>\n",
              "      <th>2023-01-09 13:00:00</th>\n",
              "      <td>BMFBOVESPA:LREN3</td>\n",
              "      <td>19.090000</td>\n",
              "      <td>19.300000</td>\n",
              "      <td>18.780000</td>\n",
              "      <td>19.130000</td>\n",
              "      <td>5555500.0</td>\n",
              "    </tr>\n",
              "  </tbody>\n",
              "</table>\n",
              "</div>\n",
              "      <button class=\"colab-df-convert\" onclick=\"convertToInteractive('df-a5934a44-322a-41d8-8418-8b218c49cea9')\"\n",
              "              title=\"Convert this dataframe to an interactive table.\"\n",
              "              style=\"display:none;\">\n",
              "        \n",
              "  <svg xmlns=\"http://www.w3.org/2000/svg\" height=\"24px\"viewBox=\"0 0 24 24\"\n",
              "       width=\"24px\">\n",
              "    <path d=\"M0 0h24v24H0V0z\" fill=\"none\"/>\n",
              "    <path d=\"M18.56 5.44l.94 2.06.94-2.06 2.06-.94-2.06-.94-.94-2.06-.94 2.06-2.06.94zm-11 1L8.5 8.5l.94-2.06 2.06-.94-2.06-.94L8.5 2.5l-.94 2.06-2.06.94zm10 10l.94 2.06.94-2.06 2.06-.94-2.06-.94-.94-2.06-.94 2.06-2.06.94z\"/><path d=\"M17.41 7.96l-1.37-1.37c-.4-.4-.92-.59-1.43-.59-.52 0-1.04.2-1.43.59L10.3 9.45l-7.72 7.72c-.78.78-.78 2.05 0 2.83L4 21.41c.39.39.9.59 1.41.59.51 0 1.02-.2 1.41-.59l7.78-7.78 2.81-2.81c.8-.78.8-2.07 0-2.86zM5.41 20L4 18.59l7.72-7.72 1.47 1.35L5.41 20z\"/>\n",
              "  </svg>\n",
              "      </button>\n",
              "      \n",
              "  <style>\n",
              "    .colab-df-container {\n",
              "      display:flex;\n",
              "      flex-wrap:wrap;\n",
              "      gap: 12px;\n",
              "    }\n",
              "\n",
              "    .colab-df-convert {\n",
              "      background-color: #E8F0FE;\n",
              "      border: none;\n",
              "      border-radius: 50%;\n",
              "      cursor: pointer;\n",
              "      display: none;\n",
              "      fill: #1967D2;\n",
              "      height: 32px;\n",
              "      padding: 0 0 0 0;\n",
              "      width: 32px;\n",
              "    }\n",
              "\n",
              "    .colab-df-convert:hover {\n",
              "      background-color: #E2EBFA;\n",
              "      box-shadow: 0px 1px 2px rgba(60, 64, 67, 0.3), 0px 1px 3px 1px rgba(60, 64, 67, 0.15);\n",
              "      fill: #174EA6;\n",
              "    }\n",
              "\n",
              "    [theme=dark] .colab-df-convert {\n",
              "      background-color: #3B4455;\n",
              "      fill: #D2E3FC;\n",
              "    }\n",
              "\n",
              "    [theme=dark] .colab-df-convert:hover {\n",
              "      background-color: #434B5C;\n",
              "      box-shadow: 0px 1px 3px 1px rgba(0, 0, 0, 0.15);\n",
              "      filter: drop-shadow(0px 1px 2px rgba(0, 0, 0, 0.3));\n",
              "      fill: #FFFFFF;\n",
              "    }\n",
              "  </style>\n",
              "\n",
              "      <script>\n",
              "        const buttonEl =\n",
              "          document.querySelector('#df-a5934a44-322a-41d8-8418-8b218c49cea9 button.colab-df-convert');\n",
              "        buttonEl.style.display =\n",
              "          google.colab.kernel.accessAllowed ? 'block' : 'none';\n",
              "\n",
              "        async function convertToInteractive(key) {\n",
              "          const element = document.querySelector('#df-a5934a44-322a-41d8-8418-8b218c49cea9');\n",
              "          const dataTable =\n",
              "            await google.colab.kernel.invokeFunction('convertToInteractive',\n",
              "                                                     [key], {});\n",
              "          if (!dataTable) return;\n",
              "\n",
              "          const docLinkHtml = 'Like what you see? Visit the ' +\n",
              "            '<a target=\"_blank\" href=https://colab.research.google.com/notebooks/data_table.ipynb>data table notebook</a>'\n",
              "            + ' to learn more about interactive tables.';\n",
              "          element.innerHTML = '';\n",
              "          dataTable['output_type'] = 'display_data';\n",
              "          await google.colab.output.renderOutput(dataTable, element);\n",
              "          const docLink = document.createElement('div');\n",
              "          docLink.innerHTML = docLinkHtml;\n",
              "          element.appendChild(docLink);\n",
              "        }\n",
              "      </script>\n",
              "    </div>\n",
              "  </div>\n",
              "  "
            ]
          },
          "metadata": {},
          "execution_count": 16
        }
      ]
    },
    {
      "cell_type": "code",
      "source": [
        "lren['symbol']  = lren.symbol.str.replace('BMFBOVESPA:', '')"
      ],
      "metadata": {
        "id": "tl7zZYadYVpt"
      },
      "execution_count": null,
      "outputs": []
    },
    {
      "cell_type": "code",
      "source": [
        "lren.tail()"
      ],
      "metadata": {
        "colab": {
          "base_uri": "https://localhost:8080/",
          "height": 238
        },
        "id": "fBO9xvGwZG1B",
        "outputId": "cbe9c6e8-ecb8-4580-eda8-7c2e84f99711"
      },
      "execution_count": null,
      "outputs": [
        {
          "output_type": "execute_result",
          "data": {
            "text/plain": [
              "                    symbol       open       high        low      close  \\\n",
              "datetime                                                                 \n",
              "2023-01-03 13:00:00  LREN3  19.450001  19.639999  18.680000  18.870001   \n",
              "2023-01-04 13:00:00  LREN3  19.260000  19.389999  18.780001  18.990000   \n",
              "2023-01-05 13:00:00  LREN3  19.150000  19.410000  18.379999  18.700001   \n",
              "2023-01-06 13:00:00  LREN3  18.900000  19.580000  18.780001  19.389999   \n",
              "2023-01-09 13:00:00  LREN3  19.090000  19.300000  18.780000  19.130000   \n",
              "\n",
              "                         volume  \n",
              "datetime                         \n",
              "2023-01-03 13:00:00  16029900.0  \n",
              "2023-01-04 13:00:00  15570400.0  \n",
              "2023-01-05 13:00:00  35651300.0  \n",
              "2023-01-06 13:00:00  22888400.0  \n",
              "2023-01-09 13:00:00   5555500.0  "
            ],
            "text/html": [
              "\n",
              "  <div id=\"df-1d6157a9-0915-413a-93fe-0f2e043d025b\">\n",
              "    <div class=\"colab-df-container\">\n",
              "      <div>\n",
              "<style scoped>\n",
              "    .dataframe tbody tr th:only-of-type {\n",
              "        vertical-align: middle;\n",
              "    }\n",
              "\n",
              "    .dataframe tbody tr th {\n",
              "        vertical-align: top;\n",
              "    }\n",
              "\n",
              "    .dataframe thead th {\n",
              "        text-align: right;\n",
              "    }\n",
              "</style>\n",
              "<table border=\"1\" class=\"dataframe\">\n",
              "  <thead>\n",
              "    <tr style=\"text-align: right;\">\n",
              "      <th></th>\n",
              "      <th>symbol</th>\n",
              "      <th>open</th>\n",
              "      <th>high</th>\n",
              "      <th>low</th>\n",
              "      <th>close</th>\n",
              "      <th>volume</th>\n",
              "    </tr>\n",
              "    <tr>\n",
              "      <th>datetime</th>\n",
              "      <th></th>\n",
              "      <th></th>\n",
              "      <th></th>\n",
              "      <th></th>\n",
              "      <th></th>\n",
              "      <th></th>\n",
              "    </tr>\n",
              "  </thead>\n",
              "  <tbody>\n",
              "    <tr>\n",
              "      <th>2023-01-03 13:00:00</th>\n",
              "      <td>LREN3</td>\n",
              "      <td>19.450001</td>\n",
              "      <td>19.639999</td>\n",
              "      <td>18.680000</td>\n",
              "      <td>18.870001</td>\n",
              "      <td>16029900.0</td>\n",
              "    </tr>\n",
              "    <tr>\n",
              "      <th>2023-01-04 13:00:00</th>\n",
              "      <td>LREN3</td>\n",
              "      <td>19.260000</td>\n",
              "      <td>19.389999</td>\n",
              "      <td>18.780001</td>\n",
              "      <td>18.990000</td>\n",
              "      <td>15570400.0</td>\n",
              "    </tr>\n",
              "    <tr>\n",
              "      <th>2023-01-05 13:00:00</th>\n",
              "      <td>LREN3</td>\n",
              "      <td>19.150000</td>\n",
              "      <td>19.410000</td>\n",
              "      <td>18.379999</td>\n",
              "      <td>18.700001</td>\n",
              "      <td>35651300.0</td>\n",
              "    </tr>\n",
              "    <tr>\n",
              "      <th>2023-01-06 13:00:00</th>\n",
              "      <td>LREN3</td>\n",
              "      <td>18.900000</td>\n",
              "      <td>19.580000</td>\n",
              "      <td>18.780001</td>\n",
              "      <td>19.389999</td>\n",
              "      <td>22888400.0</td>\n",
              "    </tr>\n",
              "    <tr>\n",
              "      <th>2023-01-09 13:00:00</th>\n",
              "      <td>LREN3</td>\n",
              "      <td>19.090000</td>\n",
              "      <td>19.300000</td>\n",
              "      <td>18.780000</td>\n",
              "      <td>19.130000</td>\n",
              "      <td>5555500.0</td>\n",
              "    </tr>\n",
              "  </tbody>\n",
              "</table>\n",
              "</div>\n",
              "      <button class=\"colab-df-convert\" onclick=\"convertToInteractive('df-1d6157a9-0915-413a-93fe-0f2e043d025b')\"\n",
              "              title=\"Convert this dataframe to an interactive table.\"\n",
              "              style=\"display:none;\">\n",
              "        \n",
              "  <svg xmlns=\"http://www.w3.org/2000/svg\" height=\"24px\"viewBox=\"0 0 24 24\"\n",
              "       width=\"24px\">\n",
              "    <path d=\"M0 0h24v24H0V0z\" fill=\"none\"/>\n",
              "    <path d=\"M18.56 5.44l.94 2.06.94-2.06 2.06-.94-2.06-.94-.94-2.06-.94 2.06-2.06.94zm-11 1L8.5 8.5l.94-2.06 2.06-.94-2.06-.94L8.5 2.5l-.94 2.06-2.06.94zm10 10l.94 2.06.94-2.06 2.06-.94-2.06-.94-.94-2.06-.94 2.06-2.06.94z\"/><path d=\"M17.41 7.96l-1.37-1.37c-.4-.4-.92-.59-1.43-.59-.52 0-1.04.2-1.43.59L10.3 9.45l-7.72 7.72c-.78.78-.78 2.05 0 2.83L4 21.41c.39.39.9.59 1.41.59.51 0 1.02-.2 1.41-.59l7.78-7.78 2.81-2.81c.8-.78.8-2.07 0-2.86zM5.41 20L4 18.59l7.72-7.72 1.47 1.35L5.41 20z\"/>\n",
              "  </svg>\n",
              "      </button>\n",
              "      \n",
              "  <style>\n",
              "    .colab-df-container {\n",
              "      display:flex;\n",
              "      flex-wrap:wrap;\n",
              "      gap: 12px;\n",
              "    }\n",
              "\n",
              "    .colab-df-convert {\n",
              "      background-color: #E8F0FE;\n",
              "      border: none;\n",
              "      border-radius: 50%;\n",
              "      cursor: pointer;\n",
              "      display: none;\n",
              "      fill: #1967D2;\n",
              "      height: 32px;\n",
              "      padding: 0 0 0 0;\n",
              "      width: 32px;\n",
              "    }\n",
              "\n",
              "    .colab-df-convert:hover {\n",
              "      background-color: #E2EBFA;\n",
              "      box-shadow: 0px 1px 2px rgba(60, 64, 67, 0.3), 0px 1px 3px 1px rgba(60, 64, 67, 0.15);\n",
              "      fill: #174EA6;\n",
              "    }\n",
              "\n",
              "    [theme=dark] .colab-df-convert {\n",
              "      background-color: #3B4455;\n",
              "      fill: #D2E3FC;\n",
              "    }\n",
              "\n",
              "    [theme=dark] .colab-df-convert:hover {\n",
              "      background-color: #434B5C;\n",
              "      box-shadow: 0px 1px 3px 1px rgba(0, 0, 0, 0.15);\n",
              "      filter: drop-shadow(0px 1px 2px rgba(0, 0, 0, 0.3));\n",
              "      fill: #FFFFFF;\n",
              "    }\n",
              "  </style>\n",
              "\n",
              "      <script>\n",
              "        const buttonEl =\n",
              "          document.querySelector('#df-1d6157a9-0915-413a-93fe-0f2e043d025b button.colab-df-convert');\n",
              "        buttonEl.style.display =\n",
              "          google.colab.kernel.accessAllowed ? 'block' : 'none';\n",
              "\n",
              "        async function convertToInteractive(key) {\n",
              "          const element = document.querySelector('#df-1d6157a9-0915-413a-93fe-0f2e043d025b');\n",
              "          const dataTable =\n",
              "            await google.colab.kernel.invokeFunction('convertToInteractive',\n",
              "                                                     [key], {});\n",
              "          if (!dataTable) return;\n",
              "\n",
              "          const docLinkHtml = 'Like what you see? Visit the ' +\n",
              "            '<a target=\"_blank\" href=https://colab.research.google.com/notebooks/data_table.ipynb>data table notebook</a>'\n",
              "            + ' to learn more about interactive tables.';\n",
              "          element.innerHTML = '';\n",
              "          dataTable['output_type'] = 'display_data';\n",
              "          await google.colab.output.renderOutput(dataTable, element);\n",
              "          const docLink = document.createElement('div');\n",
              "          docLink.innerHTML = docLinkHtml;\n",
              "          element.appendChild(docLink);\n",
              "        }\n",
              "      </script>\n",
              "    </div>\n",
              "  </div>\n",
              "  "
            ]
          },
          "metadata": {},
          "execution_count": 19
        }
      ]
    },
    {
      "cell_type": "markdown",
      "source": [
        "## 1.3. Dados estruturados e não-estruturados"
      ],
      "metadata": {
        "id": "uKU42MuQZOQL"
      }
    },
    {
      "cell_type": "code",
      "source": [
        "# Exemplo de um dado estruturado\n",
        "\n",
        "lren.head()"
      ],
      "metadata": {
        "colab": {
          "base_uri": "https://localhost:8080/",
          "height": 238
        },
        "id": "DISOiyrVZY7N",
        "outputId": "8e1eef13-5674-40e6-baeb-ebeffa2965fe"
      },
      "execution_count": null,
      "outputs": [
        {
          "output_type": "execute_result",
          "data": {
            "text/plain": [
              "                    symbol       open       high        low      close  \\\n",
              "datetime                                                                 \n",
              "2005-04-01 13:00:00  LREN3  14.773739  14.773739  14.773739  14.773739   \n",
              "2005-06-27 13:00:00  LREN3  19.698319  19.698319  19.698319  19.698319   \n",
              "2005-07-01 13:00:00  LREN3   0.108566   0.112929   0.108566   0.112929   \n",
              "2005-07-04 13:00:00  LREN3   0.113768   0.117292   0.112929   0.115949   \n",
              "2005-07-05 13:00:00  LREN3   0.116117   0.117292   0.111419   0.112593   \n",
              "\n",
              "                          volume  \n",
              "datetime                          \n",
              "2005-04-01 13:00:00        235.0  \n",
              "2005-06-27 13:00:00        117.0  \n",
              "2005-07-01 13:00:00  427653288.0  \n",
              "2005-07-04 13:00:00   14719950.0  \n",
              "2005-07-05 13:00:00   50804686.0  "
            ],
            "text/html": [
              "\n",
              "  <div id=\"df-159c4094-0237-4ba3-85a2-a2760af3d0af\">\n",
              "    <div class=\"colab-df-container\">\n",
              "      <div>\n",
              "<style scoped>\n",
              "    .dataframe tbody tr th:only-of-type {\n",
              "        vertical-align: middle;\n",
              "    }\n",
              "\n",
              "    .dataframe tbody tr th {\n",
              "        vertical-align: top;\n",
              "    }\n",
              "\n",
              "    .dataframe thead th {\n",
              "        text-align: right;\n",
              "    }\n",
              "</style>\n",
              "<table border=\"1\" class=\"dataframe\">\n",
              "  <thead>\n",
              "    <tr style=\"text-align: right;\">\n",
              "      <th></th>\n",
              "      <th>symbol</th>\n",
              "      <th>open</th>\n",
              "      <th>high</th>\n",
              "      <th>low</th>\n",
              "      <th>close</th>\n",
              "      <th>volume</th>\n",
              "    </tr>\n",
              "    <tr>\n",
              "      <th>datetime</th>\n",
              "      <th></th>\n",
              "      <th></th>\n",
              "      <th></th>\n",
              "      <th></th>\n",
              "      <th></th>\n",
              "      <th></th>\n",
              "    </tr>\n",
              "  </thead>\n",
              "  <tbody>\n",
              "    <tr>\n",
              "      <th>2005-04-01 13:00:00</th>\n",
              "      <td>LREN3</td>\n",
              "      <td>14.773739</td>\n",
              "      <td>14.773739</td>\n",
              "      <td>14.773739</td>\n",
              "      <td>14.773739</td>\n",
              "      <td>235.0</td>\n",
              "    </tr>\n",
              "    <tr>\n",
              "      <th>2005-06-27 13:00:00</th>\n",
              "      <td>LREN3</td>\n",
              "      <td>19.698319</td>\n",
              "      <td>19.698319</td>\n",
              "      <td>19.698319</td>\n",
              "      <td>19.698319</td>\n",
              "      <td>117.0</td>\n",
              "    </tr>\n",
              "    <tr>\n",
              "      <th>2005-07-01 13:00:00</th>\n",
              "      <td>LREN3</td>\n",
              "      <td>0.108566</td>\n",
              "      <td>0.112929</td>\n",
              "      <td>0.108566</td>\n",
              "      <td>0.112929</td>\n",
              "      <td>427653288.0</td>\n",
              "    </tr>\n",
              "    <tr>\n",
              "      <th>2005-07-04 13:00:00</th>\n",
              "      <td>LREN3</td>\n",
              "      <td>0.113768</td>\n",
              "      <td>0.117292</td>\n",
              "      <td>0.112929</td>\n",
              "      <td>0.115949</td>\n",
              "      <td>14719950.0</td>\n",
              "    </tr>\n",
              "    <tr>\n",
              "      <th>2005-07-05 13:00:00</th>\n",
              "      <td>LREN3</td>\n",
              "      <td>0.116117</td>\n",
              "      <td>0.117292</td>\n",
              "      <td>0.111419</td>\n",
              "      <td>0.112593</td>\n",
              "      <td>50804686.0</td>\n",
              "    </tr>\n",
              "  </tbody>\n",
              "</table>\n",
              "</div>\n",
              "      <button class=\"colab-df-convert\" onclick=\"convertToInteractive('df-159c4094-0237-4ba3-85a2-a2760af3d0af')\"\n",
              "              title=\"Convert this dataframe to an interactive table.\"\n",
              "              style=\"display:none;\">\n",
              "        \n",
              "  <svg xmlns=\"http://www.w3.org/2000/svg\" height=\"24px\"viewBox=\"0 0 24 24\"\n",
              "       width=\"24px\">\n",
              "    <path d=\"M0 0h24v24H0V0z\" fill=\"none\"/>\n",
              "    <path d=\"M18.56 5.44l.94 2.06.94-2.06 2.06-.94-2.06-.94-.94-2.06-.94 2.06-2.06.94zm-11 1L8.5 8.5l.94-2.06 2.06-.94-2.06-.94L8.5 2.5l-.94 2.06-2.06.94zm10 10l.94 2.06.94-2.06 2.06-.94-2.06-.94-.94-2.06-.94 2.06-2.06.94z\"/><path d=\"M17.41 7.96l-1.37-1.37c-.4-.4-.92-.59-1.43-.59-.52 0-1.04.2-1.43.59L10.3 9.45l-7.72 7.72c-.78.78-.78 2.05 0 2.83L4 21.41c.39.39.9.59 1.41.59.51 0 1.02-.2 1.41-.59l7.78-7.78 2.81-2.81c.8-.78.8-2.07 0-2.86zM5.41 20L4 18.59l7.72-7.72 1.47 1.35L5.41 20z\"/>\n",
              "  </svg>\n",
              "      </button>\n",
              "      \n",
              "  <style>\n",
              "    .colab-df-container {\n",
              "      display:flex;\n",
              "      flex-wrap:wrap;\n",
              "      gap: 12px;\n",
              "    }\n",
              "\n",
              "    .colab-df-convert {\n",
              "      background-color: #E8F0FE;\n",
              "      border: none;\n",
              "      border-radius: 50%;\n",
              "      cursor: pointer;\n",
              "      display: none;\n",
              "      fill: #1967D2;\n",
              "      height: 32px;\n",
              "      padding: 0 0 0 0;\n",
              "      width: 32px;\n",
              "    }\n",
              "\n",
              "    .colab-df-convert:hover {\n",
              "      background-color: #E2EBFA;\n",
              "      box-shadow: 0px 1px 2px rgba(60, 64, 67, 0.3), 0px 1px 3px 1px rgba(60, 64, 67, 0.15);\n",
              "      fill: #174EA6;\n",
              "    }\n",
              "\n",
              "    [theme=dark] .colab-df-convert {\n",
              "      background-color: #3B4455;\n",
              "      fill: #D2E3FC;\n",
              "    }\n",
              "\n",
              "    [theme=dark] .colab-df-convert:hover {\n",
              "      background-color: #434B5C;\n",
              "      box-shadow: 0px 1px 3px 1px rgba(0, 0, 0, 0.15);\n",
              "      filter: drop-shadow(0px 1px 2px rgba(0, 0, 0, 0.3));\n",
              "      fill: #FFFFFF;\n",
              "    }\n",
              "  </style>\n",
              "\n",
              "      <script>\n",
              "        const buttonEl =\n",
              "          document.querySelector('#df-159c4094-0237-4ba3-85a2-a2760af3d0af button.colab-df-convert');\n",
              "        buttonEl.style.display =\n",
              "          google.colab.kernel.accessAllowed ? 'block' : 'none';\n",
              "\n",
              "        async function convertToInteractive(key) {\n",
              "          const element = document.querySelector('#df-159c4094-0237-4ba3-85a2-a2760af3d0af');\n",
              "          const dataTable =\n",
              "            await google.colab.kernel.invokeFunction('convertToInteractive',\n",
              "                                                     [key], {});\n",
              "          if (!dataTable) return;\n",
              "\n",
              "          const docLinkHtml = 'Like what you see? Visit the ' +\n",
              "            '<a target=\"_blank\" href=https://colab.research.google.com/notebooks/data_table.ipynb>data table notebook</a>'\n",
              "            + ' to learn more about interactive tables.';\n",
              "          element.innerHTML = '';\n",
              "          dataTable['output_type'] = 'display_data';\n",
              "          await google.colab.output.renderOutput(dataTable, element);\n",
              "          const docLink = document.createElement('div');\n",
              "          docLink.innerHTML = docLinkHtml;\n",
              "          element.appendChild(docLink);\n",
              "        }\n",
              "      </script>\n",
              "    </div>\n",
              "  </div>\n",
              "  "
            ]
          },
          "metadata": {},
          "execution_count": 20
        }
      ]
    },
    {
      "cell_type": "code",
      "source": [
        "# Dado não estruturado\n",
        "# Exemplo: uma imagem é uma forma de dado não estruturado\n",
        "\n",
        "# Entretanto, pode-se extrair informações relevantes mesmo nesse tipo de dado\n",
        "\n",
        "from IPython.display import Image\n",
        "Image(url ='https://upload.wikimedia.org/wikipedia/commons/a/ad/Lozingle_10032014.jpg')"
      ],
      "metadata": {
        "colab": {
          "base_uri": "https://localhost:8080/",
          "height": 371
        },
        "id": "_OlDJp05ZoEL",
        "outputId": "17bf7acf-2450-4749-e048-48a630c85231"
      },
      "execution_count": null,
      "outputs": [
        {
          "output_type": "execute_result",
          "data": {
            "text/html": [
              "<img src=\"https://upload.wikimedia.org/wikipedia/commons/a/ad/Lozingle_10032014.jpg\"/>"
            ],
            "text/plain": [
              "<IPython.core.display.Image object>"
            ]
          },
          "metadata": {},
          "execution_count": 21
        }
      ]
    },
    {
      "cell_type": "markdown",
      "source": [
        "Outros exemplos são páginas de internet, mensagens em aplicativos e redes sociais, áudios..."
      ],
      "metadata": {
        "id": "475ULwt7Z-dC"
      }
    },
    {
      "cell_type": "markdown",
      "source": [
        "## 1.4. Variáveis quantitativas e qualitativas"
      ],
      "metadata": {
        "id": "9JekYZfpaK_E"
      }
    },
    {
      "cell_type": "code",
      "source": [
        "itub4"
      ],
      "metadata": {
        "colab": {
          "base_uri": "https://localhost:8080/",
          "height": 455
        },
        "id": "6smPQXYWaSWT",
        "outputId": "89993d0a-2eca-4129-8437-eaec63c2c10b"
      },
      "execution_count": null,
      "outputs": [
        {
          "output_type": "execute_result",
          "data": {
            "text/plain": [
              "                 Open       High        Low      Close  Adj Close    Volume\n",
              "Date                                                                       \n",
              "2000-12-21   2.815505   2.988535   2.815174   2.960552   1.767840     74224\n",
              "2000-12-22   2.930748   2.930748   2.814843   2.832229   1.691213     23312\n",
              "2000-12-25   2.832229   2.832229   2.832229   2.832229   1.691213         0\n",
              "2000-12-26   2.816664   2.834712   2.790006   2.831401   1.690719      7851\n",
              "2000-12-27   2.881074   2.927437   2.831401   2.927437   1.748065     26996\n",
              "...               ...        ...        ...        ...        ...       ...\n",
              "2023-01-03  24.490000  24.650000  23.830000  23.980000  23.980000  29873800\n",
              "2023-01-04  24.059999  24.520000  23.879999  24.049999  24.049999  29881500\n",
              "2023-01-05  24.100000  24.910000  24.020000  24.799999  24.799999  36322800\n",
              "2023-01-06  24.930000  25.309999  24.799999  25.230000  25.230000  37628200\n",
              "2023-01-09  25.000000  25.440001  24.889999  25.340000  25.340000   9118500\n",
              "\n",
              "[5531 rows x 6 columns]"
            ],
            "text/html": [
              "\n",
              "  <div id=\"df-996ab351-e3d7-4c61-93f0-5bedb0021111\">\n",
              "    <div class=\"colab-df-container\">\n",
              "      <div>\n",
              "<style scoped>\n",
              "    .dataframe tbody tr th:only-of-type {\n",
              "        vertical-align: middle;\n",
              "    }\n",
              "\n",
              "    .dataframe tbody tr th {\n",
              "        vertical-align: top;\n",
              "    }\n",
              "\n",
              "    .dataframe thead th {\n",
              "        text-align: right;\n",
              "    }\n",
              "</style>\n",
              "<table border=\"1\" class=\"dataframe\">\n",
              "  <thead>\n",
              "    <tr style=\"text-align: right;\">\n",
              "      <th></th>\n",
              "      <th>Open</th>\n",
              "      <th>High</th>\n",
              "      <th>Low</th>\n",
              "      <th>Close</th>\n",
              "      <th>Adj Close</th>\n",
              "      <th>Volume</th>\n",
              "    </tr>\n",
              "    <tr>\n",
              "      <th>Date</th>\n",
              "      <th></th>\n",
              "      <th></th>\n",
              "      <th></th>\n",
              "      <th></th>\n",
              "      <th></th>\n",
              "      <th></th>\n",
              "    </tr>\n",
              "  </thead>\n",
              "  <tbody>\n",
              "    <tr>\n",
              "      <th>2000-12-21</th>\n",
              "      <td>2.815505</td>\n",
              "      <td>2.988535</td>\n",
              "      <td>2.815174</td>\n",
              "      <td>2.960552</td>\n",
              "      <td>1.767840</td>\n",
              "      <td>74224</td>\n",
              "    </tr>\n",
              "    <tr>\n",
              "      <th>2000-12-22</th>\n",
              "      <td>2.930748</td>\n",
              "      <td>2.930748</td>\n",
              "      <td>2.814843</td>\n",
              "      <td>2.832229</td>\n",
              "      <td>1.691213</td>\n",
              "      <td>23312</td>\n",
              "    </tr>\n",
              "    <tr>\n",
              "      <th>2000-12-25</th>\n",
              "      <td>2.832229</td>\n",
              "      <td>2.832229</td>\n",
              "      <td>2.832229</td>\n",
              "      <td>2.832229</td>\n",
              "      <td>1.691213</td>\n",
              "      <td>0</td>\n",
              "    </tr>\n",
              "    <tr>\n",
              "      <th>2000-12-26</th>\n",
              "      <td>2.816664</td>\n",
              "      <td>2.834712</td>\n",
              "      <td>2.790006</td>\n",
              "      <td>2.831401</td>\n",
              "      <td>1.690719</td>\n",
              "      <td>7851</td>\n",
              "    </tr>\n",
              "    <tr>\n",
              "      <th>2000-12-27</th>\n",
              "      <td>2.881074</td>\n",
              "      <td>2.927437</td>\n",
              "      <td>2.831401</td>\n",
              "      <td>2.927437</td>\n",
              "      <td>1.748065</td>\n",
              "      <td>26996</td>\n",
              "    </tr>\n",
              "    <tr>\n",
              "      <th>...</th>\n",
              "      <td>...</td>\n",
              "      <td>...</td>\n",
              "      <td>...</td>\n",
              "      <td>...</td>\n",
              "      <td>...</td>\n",
              "      <td>...</td>\n",
              "    </tr>\n",
              "    <tr>\n",
              "      <th>2023-01-03</th>\n",
              "      <td>24.490000</td>\n",
              "      <td>24.650000</td>\n",
              "      <td>23.830000</td>\n",
              "      <td>23.980000</td>\n",
              "      <td>23.980000</td>\n",
              "      <td>29873800</td>\n",
              "    </tr>\n",
              "    <tr>\n",
              "      <th>2023-01-04</th>\n",
              "      <td>24.059999</td>\n",
              "      <td>24.520000</td>\n",
              "      <td>23.879999</td>\n",
              "      <td>24.049999</td>\n",
              "      <td>24.049999</td>\n",
              "      <td>29881500</td>\n",
              "    </tr>\n",
              "    <tr>\n",
              "      <th>2023-01-05</th>\n",
              "      <td>24.100000</td>\n",
              "      <td>24.910000</td>\n",
              "      <td>24.020000</td>\n",
              "      <td>24.799999</td>\n",
              "      <td>24.799999</td>\n",
              "      <td>36322800</td>\n",
              "    </tr>\n",
              "    <tr>\n",
              "      <th>2023-01-06</th>\n",
              "      <td>24.930000</td>\n",
              "      <td>25.309999</td>\n",
              "      <td>24.799999</td>\n",
              "      <td>25.230000</td>\n",
              "      <td>25.230000</td>\n",
              "      <td>37628200</td>\n",
              "    </tr>\n",
              "    <tr>\n",
              "      <th>2023-01-09</th>\n",
              "      <td>25.000000</td>\n",
              "      <td>25.440001</td>\n",
              "      <td>24.889999</td>\n",
              "      <td>25.340000</td>\n",
              "      <td>25.340000</td>\n",
              "      <td>9118500</td>\n",
              "    </tr>\n",
              "  </tbody>\n",
              "</table>\n",
              "<p>5531 rows × 6 columns</p>\n",
              "</div>\n",
              "      <button class=\"colab-df-convert\" onclick=\"convertToInteractive('df-996ab351-e3d7-4c61-93f0-5bedb0021111')\"\n",
              "              title=\"Convert this dataframe to an interactive table.\"\n",
              "              style=\"display:none;\">\n",
              "        \n",
              "  <svg xmlns=\"http://www.w3.org/2000/svg\" height=\"24px\"viewBox=\"0 0 24 24\"\n",
              "       width=\"24px\">\n",
              "    <path d=\"M0 0h24v24H0V0z\" fill=\"none\"/>\n",
              "    <path d=\"M18.56 5.44l.94 2.06.94-2.06 2.06-.94-2.06-.94-.94-2.06-.94 2.06-2.06.94zm-11 1L8.5 8.5l.94-2.06 2.06-.94-2.06-.94L8.5 2.5l-.94 2.06-2.06.94zm10 10l.94 2.06.94-2.06 2.06-.94-2.06-.94-.94-2.06-.94 2.06-2.06.94z\"/><path d=\"M17.41 7.96l-1.37-1.37c-.4-.4-.92-.59-1.43-.59-.52 0-1.04.2-1.43.59L10.3 9.45l-7.72 7.72c-.78.78-.78 2.05 0 2.83L4 21.41c.39.39.9.59 1.41.59.51 0 1.02-.2 1.41-.59l7.78-7.78 2.81-2.81c.8-.78.8-2.07 0-2.86zM5.41 20L4 18.59l7.72-7.72 1.47 1.35L5.41 20z\"/>\n",
              "  </svg>\n",
              "      </button>\n",
              "      \n",
              "  <style>\n",
              "    .colab-df-container {\n",
              "      display:flex;\n",
              "      flex-wrap:wrap;\n",
              "      gap: 12px;\n",
              "    }\n",
              "\n",
              "    .colab-df-convert {\n",
              "      background-color: #E8F0FE;\n",
              "      border: none;\n",
              "      border-radius: 50%;\n",
              "      cursor: pointer;\n",
              "      display: none;\n",
              "      fill: #1967D2;\n",
              "      height: 32px;\n",
              "      padding: 0 0 0 0;\n",
              "      width: 32px;\n",
              "    }\n",
              "\n",
              "    .colab-df-convert:hover {\n",
              "      background-color: #E2EBFA;\n",
              "      box-shadow: 0px 1px 2px rgba(60, 64, 67, 0.3), 0px 1px 3px 1px rgba(60, 64, 67, 0.15);\n",
              "      fill: #174EA6;\n",
              "    }\n",
              "\n",
              "    [theme=dark] .colab-df-convert {\n",
              "      background-color: #3B4455;\n",
              "      fill: #D2E3FC;\n",
              "    }\n",
              "\n",
              "    [theme=dark] .colab-df-convert:hover {\n",
              "      background-color: #434B5C;\n",
              "      box-shadow: 0px 1px 3px 1px rgba(0, 0, 0, 0.15);\n",
              "      filter: drop-shadow(0px 1px 2px rgba(0, 0, 0, 0.3));\n",
              "      fill: #FFFFFF;\n",
              "    }\n",
              "  </style>\n",
              "\n",
              "      <script>\n",
              "        const buttonEl =\n",
              "          document.querySelector('#df-996ab351-e3d7-4c61-93f0-5bedb0021111 button.colab-df-convert');\n",
              "        buttonEl.style.display =\n",
              "          google.colab.kernel.accessAllowed ? 'block' : 'none';\n",
              "\n",
              "        async function convertToInteractive(key) {\n",
              "          const element = document.querySelector('#df-996ab351-e3d7-4c61-93f0-5bedb0021111');\n",
              "          const dataTable =\n",
              "            await google.colab.kernel.invokeFunction('convertToInteractive',\n",
              "                                                     [key], {});\n",
              "          if (!dataTable) return;\n",
              "\n",
              "          const docLinkHtml = 'Like what you see? Visit the ' +\n",
              "            '<a target=\"_blank\" href=https://colab.research.google.com/notebooks/data_table.ipynb>data table notebook</a>'\n",
              "            + ' to learn more about interactive tables.';\n",
              "          element.innerHTML = '';\n",
              "          dataTable['output_type'] = 'display_data';\n",
              "          await google.colab.output.renderOutput(dataTable, element);\n",
              "          const docLink = document.createElement('div');\n",
              "          docLink.innerHTML = docLinkHtml;\n",
              "          element.appendChild(docLink);\n",
              "        }\n",
              "      </script>\n",
              "    </div>\n",
              "  </div>\n",
              "  "
            ]
          },
          "metadata": {},
          "execution_count": 22
        }
      ]
    },
    {
      "cell_type": "code",
      "source": [
        "itub4.dtypes"
      ],
      "metadata": {
        "colab": {
          "base_uri": "https://localhost:8080/"
        },
        "id": "TY3-qDiTaZhr",
        "outputId": "4db4b87f-8a2b-480c-c57a-de3390f11f7e"
      },
      "execution_count": null,
      "outputs": [
        {
          "output_type": "execute_result",
          "data": {
            "text/plain": [
              "Open         float64\n",
              "High         float64\n",
              "Low          float64\n",
              "Close        float64\n",
              "Adj Close    float64\n",
              "Volume         int64\n",
              "dtype: object"
            ]
          },
          "metadata": {},
          "execution_count": 23
        }
      ]
    },
    {
      "cell_type": "markdown",
      "source": [
        "Variáveis dos tipos \"float\" e \"int\" são numéricas, ou seja, quantitativas.\n",
        "\n",
        "Para visualizar na prática um exemplo de variável quantitativa, mas realizar algumas transformações na tabela acima."
      ],
      "metadata": {
        "id": "xuI_YwmAai3K"
      }
    },
    {
      "cell_type": "code",
      "source": [
        "# Vamos mudar o formato dos dados acima\n",
        "\n",
        "cotacoes_ativos_long = pd.melt(itub4, ignore_index= False)"
      ],
      "metadata": {
        "id": "RealHoO6alPT"
      },
      "execution_count": null,
      "outputs": []
    },
    {
      "cell_type": "code",
      "source": [
        "cotacoes_ativos_long"
      ],
      "metadata": {
        "colab": {
          "base_uri": "https://localhost:8080/",
          "height": 455
        },
        "id": "YYDBk9aaa7Vj",
        "outputId": "3a2933a6-fc63-4645-b948-b140a9fe3974"
      },
      "execution_count": null,
      "outputs": [
        {
          "output_type": "execute_result",
          "data": {
            "text/plain": [
              "           variable         value\n",
              "Date                             \n",
              "2000-12-21     Open  2.815505e+00\n",
              "2000-12-22     Open  2.930748e+00\n",
              "2000-12-25     Open  2.832229e+00\n",
              "2000-12-26     Open  2.816664e+00\n",
              "2000-12-27     Open  2.881074e+00\n",
              "...             ...           ...\n",
              "2023-01-03   Volume  2.987380e+07\n",
              "2023-01-04   Volume  2.988150e+07\n",
              "2023-01-05   Volume  3.632280e+07\n",
              "2023-01-06   Volume  3.762820e+07\n",
              "2023-01-09   Volume  9.118500e+06\n",
              "\n",
              "[33186 rows x 2 columns]"
            ],
            "text/html": [
              "\n",
              "  <div id=\"df-a825f581-7fe5-4063-a0f8-fda84c2e8042\">\n",
              "    <div class=\"colab-df-container\">\n",
              "      <div>\n",
              "<style scoped>\n",
              "    .dataframe tbody tr th:only-of-type {\n",
              "        vertical-align: middle;\n",
              "    }\n",
              "\n",
              "    .dataframe tbody tr th {\n",
              "        vertical-align: top;\n",
              "    }\n",
              "\n",
              "    .dataframe thead th {\n",
              "        text-align: right;\n",
              "    }\n",
              "</style>\n",
              "<table border=\"1\" class=\"dataframe\">\n",
              "  <thead>\n",
              "    <tr style=\"text-align: right;\">\n",
              "      <th></th>\n",
              "      <th>variable</th>\n",
              "      <th>value</th>\n",
              "    </tr>\n",
              "    <tr>\n",
              "      <th>Date</th>\n",
              "      <th></th>\n",
              "      <th></th>\n",
              "    </tr>\n",
              "  </thead>\n",
              "  <tbody>\n",
              "    <tr>\n",
              "      <th>2000-12-21</th>\n",
              "      <td>Open</td>\n",
              "      <td>2.815505e+00</td>\n",
              "    </tr>\n",
              "    <tr>\n",
              "      <th>2000-12-22</th>\n",
              "      <td>Open</td>\n",
              "      <td>2.930748e+00</td>\n",
              "    </tr>\n",
              "    <tr>\n",
              "      <th>2000-12-25</th>\n",
              "      <td>Open</td>\n",
              "      <td>2.832229e+00</td>\n",
              "    </tr>\n",
              "    <tr>\n",
              "      <th>2000-12-26</th>\n",
              "      <td>Open</td>\n",
              "      <td>2.816664e+00</td>\n",
              "    </tr>\n",
              "    <tr>\n",
              "      <th>2000-12-27</th>\n",
              "      <td>Open</td>\n",
              "      <td>2.881074e+00</td>\n",
              "    </tr>\n",
              "    <tr>\n",
              "      <th>...</th>\n",
              "      <td>...</td>\n",
              "      <td>...</td>\n",
              "    </tr>\n",
              "    <tr>\n",
              "      <th>2023-01-03</th>\n",
              "      <td>Volume</td>\n",
              "      <td>2.987380e+07</td>\n",
              "    </tr>\n",
              "    <tr>\n",
              "      <th>2023-01-04</th>\n",
              "      <td>Volume</td>\n",
              "      <td>2.988150e+07</td>\n",
              "    </tr>\n",
              "    <tr>\n",
              "      <th>2023-01-05</th>\n",
              "      <td>Volume</td>\n",
              "      <td>3.632280e+07</td>\n",
              "    </tr>\n",
              "    <tr>\n",
              "      <th>2023-01-06</th>\n",
              "      <td>Volume</td>\n",
              "      <td>3.762820e+07</td>\n",
              "    </tr>\n",
              "    <tr>\n",
              "      <th>2023-01-09</th>\n",
              "      <td>Volume</td>\n",
              "      <td>9.118500e+06</td>\n",
              "    </tr>\n",
              "  </tbody>\n",
              "</table>\n",
              "<p>33186 rows × 2 columns</p>\n",
              "</div>\n",
              "      <button class=\"colab-df-convert\" onclick=\"convertToInteractive('df-a825f581-7fe5-4063-a0f8-fda84c2e8042')\"\n",
              "              title=\"Convert this dataframe to an interactive table.\"\n",
              "              style=\"display:none;\">\n",
              "        \n",
              "  <svg xmlns=\"http://www.w3.org/2000/svg\" height=\"24px\"viewBox=\"0 0 24 24\"\n",
              "       width=\"24px\">\n",
              "    <path d=\"M0 0h24v24H0V0z\" fill=\"none\"/>\n",
              "    <path d=\"M18.56 5.44l.94 2.06.94-2.06 2.06-.94-2.06-.94-.94-2.06-.94 2.06-2.06.94zm-11 1L8.5 8.5l.94-2.06 2.06-.94-2.06-.94L8.5 2.5l-.94 2.06-2.06.94zm10 10l.94 2.06.94-2.06 2.06-.94-2.06-.94-.94-2.06-.94 2.06-2.06.94z\"/><path d=\"M17.41 7.96l-1.37-1.37c-.4-.4-.92-.59-1.43-.59-.52 0-1.04.2-1.43.59L10.3 9.45l-7.72 7.72c-.78.78-.78 2.05 0 2.83L4 21.41c.39.39.9.59 1.41.59.51 0 1.02-.2 1.41-.59l7.78-7.78 2.81-2.81c.8-.78.8-2.07 0-2.86zM5.41 20L4 18.59l7.72-7.72 1.47 1.35L5.41 20z\"/>\n",
              "  </svg>\n",
              "      </button>\n",
              "      \n",
              "  <style>\n",
              "    .colab-df-container {\n",
              "      display:flex;\n",
              "      flex-wrap:wrap;\n",
              "      gap: 12px;\n",
              "    }\n",
              "\n",
              "    .colab-df-convert {\n",
              "      background-color: #E8F0FE;\n",
              "      border: none;\n",
              "      border-radius: 50%;\n",
              "      cursor: pointer;\n",
              "      display: none;\n",
              "      fill: #1967D2;\n",
              "      height: 32px;\n",
              "      padding: 0 0 0 0;\n",
              "      width: 32px;\n",
              "    }\n",
              "\n",
              "    .colab-df-convert:hover {\n",
              "      background-color: #E2EBFA;\n",
              "      box-shadow: 0px 1px 2px rgba(60, 64, 67, 0.3), 0px 1px 3px 1px rgba(60, 64, 67, 0.15);\n",
              "      fill: #174EA6;\n",
              "    }\n",
              "\n",
              "    [theme=dark] .colab-df-convert {\n",
              "      background-color: #3B4455;\n",
              "      fill: #D2E3FC;\n",
              "    }\n",
              "\n",
              "    [theme=dark] .colab-df-convert:hover {\n",
              "      background-color: #434B5C;\n",
              "      box-shadow: 0px 1px 3px 1px rgba(0, 0, 0, 0.15);\n",
              "      filter: drop-shadow(0px 1px 2px rgba(0, 0, 0, 0.3));\n",
              "      fill: #FFFFFF;\n",
              "    }\n",
              "  </style>\n",
              "\n",
              "      <script>\n",
              "        const buttonEl =\n",
              "          document.querySelector('#df-a825f581-7fe5-4063-a0f8-fda84c2e8042 button.colab-df-convert');\n",
              "        buttonEl.style.display =\n",
              "          google.colab.kernel.accessAllowed ? 'block' : 'none';\n",
              "\n",
              "        async function convertToInteractive(key) {\n",
              "          const element = document.querySelector('#df-a825f581-7fe5-4063-a0f8-fda84c2e8042');\n",
              "          const dataTable =\n",
              "            await google.colab.kernel.invokeFunction('convertToInteractive',\n",
              "                                                     [key], {});\n",
              "          if (!dataTable) return;\n",
              "\n",
              "          const docLinkHtml = 'Like what you see? Visit the ' +\n",
              "            '<a target=\"_blank\" href=https://colab.research.google.com/notebooks/data_table.ipynb>data table notebook</a>'\n",
              "            + ' to learn more about interactive tables.';\n",
              "          element.innerHTML = '';\n",
              "          dataTable['output_type'] = 'display_data';\n",
              "          await google.colab.output.renderOutput(dataTable, element);\n",
              "          const docLink = document.createElement('div');\n",
              "          docLink.innerHTML = docLinkHtml;\n",
              "          element.appendChild(docLink);\n",
              "        }\n",
              "      </script>\n",
              "    </div>\n",
              "  </div>\n",
              "  "
            ]
          },
          "metadata": {},
          "execution_count": 25
        }
      ]
    },
    {
      "cell_type": "markdown",
      "source": [
        "Perceba que essa nova coluna \"variable\", que determina o tipo do dado, passou a ser uma variável qualitativa."
      ],
      "metadata": {
        "id": "nP146IgKbAFr"
      }
    },
    {
      "cell_type": "code",
      "source": [
        "cotacoes_ativos_long.dtypes"
      ],
      "metadata": {
        "colab": {
          "base_uri": "https://localhost:8080/"
        },
        "id": "YwVgowRfbJX0",
        "outputId": "5ad43868-e98b-464d-9769-c1e876c96a86"
      },
      "execution_count": null,
      "outputs": [
        {
          "output_type": "execute_result",
          "data": {
            "text/plain": [
              "variable     object\n",
              "value       float64\n",
              "dtype: object"
            ]
          },
          "metadata": {},
          "execution_count": 26
        }
      ]
    },
    {
      "cell_type": "markdown",
      "source": [
        "Veja que a variável \"variable\" agora é do tipo \"object\", ou seja, é uma variável que possui textos (ou strings).\n",
        "\n",
        "Portanto, é uma variável qualitativa."
      ],
      "metadata": {
        "id": "A-1EHdqjbMEq"
      }
    },
    {
      "cell_type": "code",
      "source": [
        "# Vamos usar a função de conjuntos para ver quais são as categorias dentro dessa variável qualitativa.\n",
        "\n",
        "set(cotacoes_ativos_long.variable)"
      ],
      "metadata": {
        "colab": {
          "base_uri": "https://localhost:8080/"
        },
        "id": "gopVcI5YbRB7",
        "outputId": "be6b9398-403f-499c-8223-2ef896e4f0df"
      },
      "execution_count": null,
      "outputs": [
        {
          "output_type": "execute_result",
          "data": {
            "text/plain": [
              "{'Adj Close', 'Close', 'High', 'Low', 'Open', 'Volume'}"
            ]
          },
          "metadata": {},
          "execution_count": 29
        }
      ]
    },
    {
      "cell_type": "markdown",
      "source": [
        "Perceba que antes essas eram as colunas do dataframe original."
      ],
      "metadata": {
        "id": "M48S7NiTbbuC"
      }
    },
    {
      "cell_type": "code",
      "source": [
        "itub4.columns"
      ],
      "metadata": {
        "colab": {
          "base_uri": "https://localhost:8080/"
        },
        "id": "tNbLX-5_booL",
        "outputId": "28b34b22-2cbc-4740-8bba-fc3a3bf6155d"
      },
      "execution_count": null,
      "outputs": [
        {
          "output_type": "execute_result",
          "data": {
            "text/plain": [
              "Index(['Open', 'High', 'Low', 'Close', 'Adj Close', 'Volume'], dtype='object')"
            ]
          },
          "metadata": {},
          "execution_count": 30
        }
      ]
    },
    {
      "cell_type": "markdown",
      "source": [
        "## 1.5. Alterando diretórios de acesso aos dados (nesse caso apenas em IDEs locais)"
      ],
      "metadata": {
        "id": "lTBfJDMBbrCz"
      }
    },
    {
      "cell_type": "markdown",
      "source": [
        "Podemos fazer algumas modificações e ajustes um pouco mais avançados. E se o arquivo não estiver na pasta onde está o código que você está criando?\n",
        "\n",
        "Primeiro verifique qual o endereço que o Python está \"vendo\" naquele momento"
      ],
      "metadata": {
        "id": "SdmMy9Hdb6a6"
      }
    },
    {
      "cell_type": "code",
      "source": [
        "import os"
      ],
      "metadata": {
        "id": "TISm9MtBcX1a"
      },
      "execution_count": null,
      "outputs": []
    },
    {
      "cell_type": "code",
      "source": [
        "caminho = os.getcwd()"
      ],
      "metadata": {
        "id": "cmbAUHeDcZoj"
      },
      "execution_count": null,
      "outputs": []
    },
    {
      "cell_type": "code",
      "source": [
        "caminho"
      ],
      "metadata": {
        "colab": {
          "base_uri": "https://localhost:8080/",
          "height": 35
        },
        "id": "ahPSwi16cc-C",
        "outputId": "7e10cc0c-b89b-4232-98d6-6b8c17808ab1"
      },
      "execution_count": null,
      "outputs": [
        {
          "output_type": "execute_result",
          "data": {
            "text/plain": [
              "'/content'"
            ],
            "application/vnd.google.colaboratory.intrinsic+json": {
              "type": "string"
            }
          },
          "metadata": {},
          "execution_count": 34
        }
      ]
    },
    {
      "cell_type": "code",
      "source": [
        "novo_caminho = caminho + '/' + \"Meus Arquivos\""
      ],
      "metadata": {
        "id": "SWGqCtHUcpD7"
      },
      "execution_count": null,
      "outputs": []
    },
    {
      "cell_type": "code",
      "source": [
        "novo_caminho"
      ],
      "metadata": {
        "colab": {
          "base_uri": "https://localhost:8080/",
          "height": 35
        },
        "id": "fM3HdKCrctiz",
        "outputId": "9c6f93e9-6a85-46f1-f32d-a960e9f1627c"
      },
      "execution_count": null,
      "outputs": [
        {
          "output_type": "execute_result",
          "data": {
            "text/plain": [
              "'/content/Meus Arquivos'"
            ],
            "application/vnd.google.colaboratory.intrinsic+json": {
              "type": "string"
            }
          },
          "metadata": {},
          "execution_count": 38
        }
      ]
    },
    {
      "cell_type": "markdown",
      "source": [
        "E se quiséssemos mudar o diretório? Basta usar o seguinte comando:"
      ],
      "metadata": {
        "id": "8TpAusdSc2_L"
      }
    },
    {
      "cell_type": "code",
      "source": [
        "os.chdir(novo_caminho)"
      ],
      "metadata": {
        "id": "nNtC7Kyic578"
      },
      "execution_count": null,
      "outputs": []
    },
    {
      "cell_type": "markdown",
      "source": [
        "Será que funcionou?"
      ],
      "metadata": {
        "id": "S9atXKSTc_pW"
      }
    },
    {
      "cell_type": "code",
      "source": [
        "os.getcwd()"
      ],
      "metadata": {
        "colab": {
          "base_uri": "https://localhost:8080/",
          "height": 35
        },
        "id": "-qgkIgOadBRj",
        "outputId": "625cb90d-0240-44bc-d53b-dba9dd34ad37"
      },
      "execution_count": null,
      "outputs": [
        {
          "output_type": "execute_result",
          "data": {
            "text/plain": [
              "'/content/Meus Arquivos'"
            ],
            "application/vnd.google.colaboratory.intrinsic+json": {
              "type": "string"
            }
          },
          "metadata": {},
          "execution_count": 40
        }
      ]
    },
    {
      "cell_type": "markdown",
      "source": [
        "Uma vez que fizemos isso, podemos extrair diretamente com a Pandas"
      ],
      "metadata": {
        "id": "mC9DUW57dDAk"
      }
    },
    {
      "cell_type": "code",
      "source": [
        "pd.read_csv('PETR4.csv')"
      ],
      "metadata": {
        "colab": {
          "base_uri": "https://localhost:8080/",
          "height": 468
        },
        "id": "qHqnlOhCdKir",
        "outputId": "f0eb049f-7b0c-4026-a6cb-c89c521ebe9b"
      },
      "execution_count": null,
      "outputs": [
        {
          "output_type": "execute_result",
          "data": {
            "text/plain": [
              "            Date       Open       High        Low      Close  Adj Close  \\\n",
              "0     2000-01-03   5.875000   5.875000   5.875000   5.875000   1.872027   \n",
              "1     2000-01-04   5.550000   5.550000   5.550000   5.550000   1.768469   \n",
              "2     2000-01-05   5.494000   5.494000   5.494000   5.494000   1.750625   \n",
              "3     2000-01-06   5.475000   5.475000   5.475000   5.475000   1.744570   \n",
              "4     2000-01-07   5.500000   5.500000   5.500000   5.500000   1.752536   \n",
              "...          ...        ...        ...        ...        ...        ...   \n",
              "5765  2022-12-13  24.100000  24.200001  23.309999  23.320000  23.320000   \n",
              "5766  2022-12-14  22.500000  22.600000  20.770000  21.469999  21.469999   \n",
              "5767  2022-12-15  21.000000  22.370001  20.830000  22.040001  22.040001   \n",
              "5768  2022-12-16  21.959999  22.110001  21.510000  22.049999  22.049999   \n",
              "5769  2022-12-19  22.100000  22.469999  21.639999  22.350000  22.350000   \n",
              "\n",
              "           Volume  \n",
              "0     35389440000  \n",
              "1     28861440000  \n",
              "2     43033600000  \n",
              "3     34055680000  \n",
              "4     20912640000  \n",
              "...           ...  \n",
              "5765    102533100  \n",
              "5766    319501600  \n",
              "5767    132385600  \n",
              "5768     90767300  \n",
              "5769     37837300  \n",
              "\n",
              "[5770 rows x 7 columns]"
            ],
            "text/html": [
              "\n",
              "  <div id=\"df-6fc2e467-86c3-4e99-abd7-434a567d2830\">\n",
              "    <div class=\"colab-df-container\">\n",
              "      <div>\n",
              "<style scoped>\n",
              "    .dataframe tbody tr th:only-of-type {\n",
              "        vertical-align: middle;\n",
              "    }\n",
              "\n",
              "    .dataframe tbody tr th {\n",
              "        vertical-align: top;\n",
              "    }\n",
              "\n",
              "    .dataframe thead th {\n",
              "        text-align: right;\n",
              "    }\n",
              "</style>\n",
              "<table border=\"1\" class=\"dataframe\">\n",
              "  <thead>\n",
              "    <tr style=\"text-align: right;\">\n",
              "      <th></th>\n",
              "      <th>Date</th>\n",
              "      <th>Open</th>\n",
              "      <th>High</th>\n",
              "      <th>Low</th>\n",
              "      <th>Close</th>\n",
              "      <th>Adj Close</th>\n",
              "      <th>Volume</th>\n",
              "    </tr>\n",
              "  </thead>\n",
              "  <tbody>\n",
              "    <tr>\n",
              "      <th>0</th>\n",
              "      <td>2000-01-03</td>\n",
              "      <td>5.875000</td>\n",
              "      <td>5.875000</td>\n",
              "      <td>5.875000</td>\n",
              "      <td>5.875000</td>\n",
              "      <td>1.872027</td>\n",
              "      <td>35389440000</td>\n",
              "    </tr>\n",
              "    <tr>\n",
              "      <th>1</th>\n",
              "      <td>2000-01-04</td>\n",
              "      <td>5.550000</td>\n",
              "      <td>5.550000</td>\n",
              "      <td>5.550000</td>\n",
              "      <td>5.550000</td>\n",
              "      <td>1.768469</td>\n",
              "      <td>28861440000</td>\n",
              "    </tr>\n",
              "    <tr>\n",
              "      <th>2</th>\n",
              "      <td>2000-01-05</td>\n",
              "      <td>5.494000</td>\n",
              "      <td>5.494000</td>\n",
              "      <td>5.494000</td>\n",
              "      <td>5.494000</td>\n",
              "      <td>1.750625</td>\n",
              "      <td>43033600000</td>\n",
              "    </tr>\n",
              "    <tr>\n",
              "      <th>3</th>\n",
              "      <td>2000-01-06</td>\n",
              "      <td>5.475000</td>\n",
              "      <td>5.475000</td>\n",
              "      <td>5.475000</td>\n",
              "      <td>5.475000</td>\n",
              "      <td>1.744570</td>\n",
              "      <td>34055680000</td>\n",
              "    </tr>\n",
              "    <tr>\n",
              "      <th>4</th>\n",
              "      <td>2000-01-07</td>\n",
              "      <td>5.500000</td>\n",
              "      <td>5.500000</td>\n",
              "      <td>5.500000</td>\n",
              "      <td>5.500000</td>\n",
              "      <td>1.752536</td>\n",
              "      <td>20912640000</td>\n",
              "    </tr>\n",
              "    <tr>\n",
              "      <th>...</th>\n",
              "      <td>...</td>\n",
              "      <td>...</td>\n",
              "      <td>...</td>\n",
              "      <td>...</td>\n",
              "      <td>...</td>\n",
              "      <td>...</td>\n",
              "      <td>...</td>\n",
              "    </tr>\n",
              "    <tr>\n",
              "      <th>5765</th>\n",
              "      <td>2022-12-13</td>\n",
              "      <td>24.100000</td>\n",
              "      <td>24.200001</td>\n",
              "      <td>23.309999</td>\n",
              "      <td>23.320000</td>\n",
              "      <td>23.320000</td>\n",
              "      <td>102533100</td>\n",
              "    </tr>\n",
              "    <tr>\n",
              "      <th>5766</th>\n",
              "      <td>2022-12-14</td>\n",
              "      <td>22.500000</td>\n",
              "      <td>22.600000</td>\n",
              "      <td>20.770000</td>\n",
              "      <td>21.469999</td>\n",
              "      <td>21.469999</td>\n",
              "      <td>319501600</td>\n",
              "    </tr>\n",
              "    <tr>\n",
              "      <th>5767</th>\n",
              "      <td>2022-12-15</td>\n",
              "      <td>21.000000</td>\n",
              "      <td>22.370001</td>\n",
              "      <td>20.830000</td>\n",
              "      <td>22.040001</td>\n",
              "      <td>22.040001</td>\n",
              "      <td>132385600</td>\n",
              "    </tr>\n",
              "    <tr>\n",
              "      <th>5768</th>\n",
              "      <td>2022-12-16</td>\n",
              "      <td>21.959999</td>\n",
              "      <td>22.110001</td>\n",
              "      <td>21.510000</td>\n",
              "      <td>22.049999</td>\n",
              "      <td>22.049999</td>\n",
              "      <td>90767300</td>\n",
              "    </tr>\n",
              "    <tr>\n",
              "      <th>5769</th>\n",
              "      <td>2022-12-19</td>\n",
              "      <td>22.100000</td>\n",
              "      <td>22.469999</td>\n",
              "      <td>21.639999</td>\n",
              "      <td>22.350000</td>\n",
              "      <td>22.350000</td>\n",
              "      <td>37837300</td>\n",
              "    </tr>\n",
              "  </tbody>\n",
              "</table>\n",
              "<p>5770 rows × 7 columns</p>\n",
              "</div>\n",
              "      <button class=\"colab-df-convert\" onclick=\"convertToInteractive('df-6fc2e467-86c3-4e99-abd7-434a567d2830')\"\n",
              "              title=\"Convert this dataframe to an interactive table.\"\n",
              "              style=\"display:none;\">\n",
              "        \n",
              "  <svg xmlns=\"http://www.w3.org/2000/svg\" height=\"24px\"viewBox=\"0 0 24 24\"\n",
              "       width=\"24px\">\n",
              "    <path d=\"M0 0h24v24H0V0z\" fill=\"none\"/>\n",
              "    <path d=\"M18.56 5.44l.94 2.06.94-2.06 2.06-.94-2.06-.94-.94-2.06-.94 2.06-2.06.94zm-11 1L8.5 8.5l.94-2.06 2.06-.94-2.06-.94L8.5 2.5l-.94 2.06-2.06.94zm10 10l.94 2.06.94-2.06 2.06-.94-2.06-.94-.94-2.06-.94 2.06-2.06.94z\"/><path d=\"M17.41 7.96l-1.37-1.37c-.4-.4-.92-.59-1.43-.59-.52 0-1.04.2-1.43.59L10.3 9.45l-7.72 7.72c-.78.78-.78 2.05 0 2.83L4 21.41c.39.39.9.59 1.41.59.51 0 1.02-.2 1.41-.59l7.78-7.78 2.81-2.81c.8-.78.8-2.07 0-2.86zM5.41 20L4 18.59l7.72-7.72 1.47 1.35L5.41 20z\"/>\n",
              "  </svg>\n",
              "      </button>\n",
              "      \n",
              "  <style>\n",
              "    .colab-df-container {\n",
              "      display:flex;\n",
              "      flex-wrap:wrap;\n",
              "      gap: 12px;\n",
              "    }\n",
              "\n",
              "    .colab-df-convert {\n",
              "      background-color: #E8F0FE;\n",
              "      border: none;\n",
              "      border-radius: 50%;\n",
              "      cursor: pointer;\n",
              "      display: none;\n",
              "      fill: #1967D2;\n",
              "      height: 32px;\n",
              "      padding: 0 0 0 0;\n",
              "      width: 32px;\n",
              "    }\n",
              "\n",
              "    .colab-df-convert:hover {\n",
              "      background-color: #E2EBFA;\n",
              "      box-shadow: 0px 1px 2px rgba(60, 64, 67, 0.3), 0px 1px 3px 1px rgba(60, 64, 67, 0.15);\n",
              "      fill: #174EA6;\n",
              "    }\n",
              "\n",
              "    [theme=dark] .colab-df-convert {\n",
              "      background-color: #3B4455;\n",
              "      fill: #D2E3FC;\n",
              "    }\n",
              "\n",
              "    [theme=dark] .colab-df-convert:hover {\n",
              "      background-color: #434B5C;\n",
              "      box-shadow: 0px 1px 3px 1px rgba(0, 0, 0, 0.15);\n",
              "      filter: drop-shadow(0px 1px 2px rgba(0, 0, 0, 0.3));\n",
              "      fill: #FFFFFF;\n",
              "    }\n",
              "  </style>\n",
              "\n",
              "      <script>\n",
              "        const buttonEl =\n",
              "          document.querySelector('#df-6fc2e467-86c3-4e99-abd7-434a567d2830 button.colab-df-convert');\n",
              "        buttonEl.style.display =\n",
              "          google.colab.kernel.accessAllowed ? 'block' : 'none';\n",
              "\n",
              "        async function convertToInteractive(key) {\n",
              "          const element = document.querySelector('#df-6fc2e467-86c3-4e99-abd7-434a567d2830');\n",
              "          const dataTable =\n",
              "            await google.colab.kernel.invokeFunction('convertToInteractive',\n",
              "                                                     [key], {});\n",
              "          if (!dataTable) return;\n",
              "\n",
              "          const docLinkHtml = 'Like what you see? Visit the ' +\n",
              "            '<a target=\"_blank\" href=https://colab.research.google.com/notebooks/data_table.ipynb>data table notebook</a>'\n",
              "            + ' to learn more about interactive tables.';\n",
              "          element.innerHTML = '';\n",
              "          dataTable['output_type'] = 'display_data';\n",
              "          await google.colab.output.renderOutput(dataTable, element);\n",
              "          const docLink = document.createElement('div');\n",
              "          docLink.innerHTML = docLinkHtml;\n",
              "          element.appendChild(docLink);\n",
              "        }\n",
              "      </script>\n",
              "    </div>\n",
              "  </div>\n",
              "  "
            ]
          },
          "metadata": {},
          "execution_count": 41
        }
      ]
    },
    {
      "cell_type": "code",
      "source": [],
      "metadata": {
        "id": "mI5PiGjLdQKz"
      },
      "execution_count": null,
      "outputs": []
    }
  ]
}